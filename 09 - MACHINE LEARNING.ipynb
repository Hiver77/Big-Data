{
  "nbformat": 4,
  "nbformat_minor": 0,
  "metadata": {
    "colab": {
      "name": "09 - MACHINE LEARNING.ipynb",
      "provenance": [],
      "collapsed_sections": [],
      "include_colab_link": true
    },
    "kernelspec": {
      "name": "python3",
      "display_name": "Python 3"
    }
  },
  "cells": [
    {
      "cell_type": "markdown",
      "metadata": {
        "id": "view-in-github",
        "colab_type": "text"
      },
      "source": [
        "<a href=\"https://colab.research.google.com/github/Hiver77/Big-Data/blob/master/09%20-%20MACHINE%20LEARNING.ipynb\" target=\"_parent\"><img src=\"https://colab.research.google.com/assets/colab-badge.svg\" alt=\"Open In Colab\"/></a>"
      ]
    },
    {
      "cell_type": "code",
      "metadata": {
        "id": "NR0mBQLzQSE3"
      },
      "source": [
        "!wget --no-cache -O init.py -q https://raw.githubusercontent.com/UDEA-Esp-Analitica-y-Ciencia-de-Datos/EACD-03-BIGDATA/master/init.py\n",
        "import init; init.init(force_download=False); \n",
        "from IPython.display import Image"
      ],
      "execution_count": 2,
      "outputs": []
    },
    {
      "cell_type": "code",
      "metadata": {
        "id": "VjpVTH9sQZvB",
        "colab": {
          "base_uri": "https://localhost:8080/",
          "height": 251
        },
        "outputId": "116f7647-d484-429a-8180-53b3a05cbcf1"
      },
      "source": [
        "Image(\"local/imgs/udea-datascience.png\")"
      ],
      "execution_count": 3,
      "outputs": [
        {
          "output_type": "execute_result",
          "data": {
            "image/png": "[encoded data removed]",
            "text/plain": [
              "<IPython.core.display.Image object>"
            ]
          },
          "metadata": {},
          "execution_count": 3
        }
      ]
    },
    {
      "cell_type": "code",
      "metadata": {
        "id": "2k6dcyt7TIA_"
      },
      "source": [
        "#Instalación\n",
        "!apt-get install openjdk-11-jdk-headless -qq > /dev/null\n",
        "!wget -q http://archive.apache.org/dist/spark/spark-3.0.1/spark-3.0.1-bin-hadoop3.2.tgz\n",
        "!tar xf spark-3.0.1-bin-hadoop3.2.tgz \n",
        "!pip install -q findspark\n",
        "\n",
        "#Variables de Entorno\n",
        "import os\n",
        "os.environ[\"JAVA_HOME\"] = \"/usr/lib/jvm/java-11-openjdk-amd64\"\n",
        "os.environ[\"SPARK_HOME\"] = \"/content/spark-3.0.1-bin-hadoop3.2\"\n",
        "\n",
        "#SparkContext\n",
        "import findspark\n",
        "findspark.init()\n",
        "from pyspark.sql import SparkSession\n",
        "from pyspark import SparkContext\n",
        "spark = SparkSession.builder.master(\"local[*]\").getOrCreate()\n",
        "sc = SparkContext.getOrCreate()"
      ],
      "execution_count": 4,
      "outputs": []
    },
    {
      "cell_type": "code",
      "metadata": {
        "id": "qDE-1bfROwk8"
      },
      "source": [
        "#SQL Context\n",
        "from pyspark.sql import SQLContext\n",
        "from pyspark.sql import functions\n",
        "from pyspark.sql.types import *\n",
        "sqlCtx = SQLContext(sc)"
      ],
      "execution_count": 5,
      "outputs": []
    },
    {
      "cell_type": "markdown",
      "metadata": {
        "id": "q5ZzguotjlmR"
      },
      "source": [
        "**Install Koalas**"
      ]
    },
    {
      "cell_type": "code",
      "metadata": {
        "id": "jO9VFX89jk8H",
        "outputId": "4d29c1ad-a11c-478c-fbeb-dae67bc42145",
        "colab": {
          "base_uri": "https://localhost:8080/"
        }
      },
      "source": [
        "!tar xzvf spark-2.4.4-bin-hadoop2.7.tgz\n",
        "!cd spark-2.4.4-bin-hadoop2.7\n",
        "!export SPARK_HOME=`pwd`\n",
        "!export PYTHONPATH=$(ZIPS=(\"$SPARK_HOME\"/python/lib/*.zip); IFS=:; echo \"${ZIPS[*]}\"):$PYTHONPATH\n"
      ],
      "execution_count": 128,
      "outputs": [
        {
          "output_type": "stream",
          "name": "stdout",
          "text": [
            "tar (child): spark-2.4.4-bin-hadoop2.7.tgz: Cannot open: No such file or directory\n",
            "tar (child): Error is not recoverable: exiting now\n",
            "tar: Child returned status 2\n",
            "tar: Error is not recoverable: exiting now\n",
            "/bin/bash: line 0: cd: spark-2.4.4-bin-hadoop2.7: No such file or directory\n"
          ]
        }
      ]
    },
    {
      "cell_type": "markdown",
      "metadata": {
        "id": "gjFB5U9fQdU1"
      },
      "source": [
        "#**MACHINE LEARNING**"
      ]
    },
    {
      "cell_type": "markdown",
      "metadata": {
        "id": "yM8n4bwZTLoW"
      },
      "source": [
        "El Machine Learning o aprendizaje automático es una disciplina orientada a crear sistemas que puedan aprender por sí solos, con el fin de extraer información no trivial de grandes volúmenes de datos por medio de la identificación de patrones complejos.\n",
        "\n",
        "Spark implementa el aprendizaje automático a través del módulo MLLib que cuenta con un gran número de algoritmos que permiten crear modelos para el aprendizaje automático. Teniendo en cuenta que Spark proporciona sistemas distribuidos para trabajar en paralelo, los algoritmos de Machine Learning implementados en MLLib deben poder ser paralelizables\n",
        "\n",
        "Pueden identificarse dos grandes ramas en el aprendizaje automático, a saber, el aprendizaje supervisado y el aprendizaje NO supervisado.\n",
        "\n"
      ]
    },
    {
      "cell_type": "markdown",
      "metadata": {
        "id": "xZkOCJIkTPzc"
      },
      "source": [
        "##**Preparación de Datos**"
      ]
    },
    {
      "cell_type": "markdown",
      "metadata": {
        "id": "DeQve4QSRoQF"
      },
      "source": [
        "Para poder aplicar los métodos del aprendizaje supervisado y no supervisado, es necesario realizar una etapa previa de preparación de datos.\n",
        "\n",
        "Esta etapa nos permite identificar y corregir posibles anomalías presentes en los datos y contribuir a la etapa de aprendizaje para obtener un buen resultado en la evaluación de los modelos."
      ]
    },
    {
      "cell_type": "markdown",
      "metadata": {
        "id": "ZkLyWg0dXqTw"
      },
      "source": [
        "###**Pasos**"
      ]
    },
    {
      "cell_type": "markdown",
      "metadata": {
        "id": "byDwYTw5U-Pd"
      },
      "source": [
        "Para la preparación de datos se recomienda realizar los siguientes pasos\n",
        "\n",
        "**1. Identificación de variables**\n",
        "\n",
        "* Propiedades del conjunto de datos\n",
        "* Tipos de datos (verificar carga correcta de datos)\n",
        "\n",
        "\n",
        "**2. Tratamiento de duplicados**\n",
        "\n",
        "* Eliminar variables duplicadas (columnas)\n",
        "* Eliminar registros duplicados (filas)\n",
        "* Eliminar variables irrelevantes (ID, cedula, nombre, teléfono)\n",
        "\n",
        "\n",
        "**3. Análisis univariable**\n",
        "\n",
        "*  Variables numéricas: estadística descriptiva, histogramas, box plot\n",
        "*  Variables categóricas: tabla de frecuencias y diagrama de barras\n",
        "\n",
        "\n",
        "**4. Análisis bivariable**\n",
        "\n",
        "* Correlaciones entre las variables predictoras deben ser menores a 0.7\n",
        "* Correlaciones con la variable objetivo debe ser mayor a 0.3\n",
        "\n",
        "\n",
        "**5. Tratamiento de outliers** (eliminar registros, eliminar variables, imputar, predecir)\n",
        "\n",
        "\n",
        "**6. Tratamiento de datos nulos** (eliminar registros, eliminar variables, imputar o predecir)\n",
        "\n",
        "\n",
        "**7. Transformación de variables desde las reglas del negocio**\n",
        "\n",
        "* Discretización o Binning: convertir de número a categoría\n",
        "* Crear variables Dummy: convertir de categoría a número\n",
        "\n",
        "\n",
        "**8. Creación de variables** (fecha y otros)\n",
        "\n",
        "\n",
        "**9. Reducción de variables** (en caso de ser necesario)\n",
        "\n",
        "\n",
        "**10. Balanceo de la variable objetivo** (sólo en clasificación)\n",
        "\n",
        "\n",
        "**11. Transformación datos para el método**"
      ]
    },
    {
      "cell_type": "markdown",
      "metadata": {
        "id": "UYef2aspXuC8"
      },
      "source": [
        "###**Modo Local**"
      ]
    },
    {
      "cell_type": "markdown",
      "metadata": {
        "id": "c7THtAvpZk2a"
      },
      "source": [
        "Veamos un ejemplo de cómo realizar estos pasos de la preparación de datos en un ambiente local utilizando pandas (no es un ambiente distribuido)"
      ]
    },
    {
      "cell_type": "code",
      "metadata": {
        "id": "7zC4b-zAGIWN"
      },
      "source": [
        "import pandas as pd \n",
        "import numpy as np\n",
        "import matplotlib.pyplot as plt"
      ],
      "execution_count": 6,
      "outputs": []
    },
    {
      "cell_type": "markdown",
      "metadata": {
        "id": "B2bCkVO3HN0y"
      },
      "source": [
        "En el archivo aprobacion_curso.xlsx se encuentran los datos de estudiantes de un curso de universidad, para cada estudiante se tienen los siguientes datos:\n",
        "* Id: Identificación del estudiante\n",
        "* Año-Semestre: Momento en el que toma el curso\n",
        "* Felder: Estilo de aprendizaje del estudiante\n",
        "* Examen de admisión\n",
        "* Nota final\n",
        "* Aprobó: (Si/No)"
      ]
    },
    {
      "cell_type": "markdown",
      "metadata": {
        "id": "4O1VHp0zxleA"
      },
      "source": [
        "**1.\tIdentificación de variables**\n",
        "* Propiedades del conjunto de datos\n",
        "* Tipos de datos (verificar carga correcta de datos)"
      ]
    },
    {
      "cell_type": "code",
      "metadata": {
        "id": "DWW8tQSsuYI9",
        "colab": {
          "base_uri": "https://localhost:8080/"
        },
        "outputId": "48ae6139-3d1a-4e06-b3d2-801eda7a00cd"
      },
      "source": [
        "data = pd.read_excel(\"local/data/aprobacion_curso.xlsx\",sheet_name=0) #leer la primera hoja del archivo\n",
        "type(data)"
      ],
      "execution_count": 7,
      "outputs": [
        {
          "output_type": "execute_result",
          "data": {
            "text/plain": [
              "pandas.core.frame.DataFrame"
            ]
          },
          "metadata": {},
          "execution_count": 7
        }
      ]
    },
    {
      "cell_type": "code",
      "metadata": {
        "id": "bqhbIhb0FmJm",
        "colab": {
          "base_uri": "https://localhost:8080/",
          "height": 204
        },
        "outputId": "97cc05f7-4257-4a18-b27e-4a31909d229c"
      },
      "source": [
        "data.head()"
      ],
      "execution_count": 8,
      "outputs": [
        {
          "output_type": "execute_result",
          "data": {
            "text/html": [
              "<div>\n",
              "<style scoped>\n",
              "    .dataframe tbody tr th:only-of-type {\n",
              "        vertical-align: middle;\n",
              "    }\n",
              "\n",
              "    .dataframe tbody tr th {\n",
              "        vertical-align: top;\n",
              "    }\n",
              "\n",
              "    .dataframe thead th {\n",
              "        text-align: right;\n",
              "    }\n",
              "</style>\n",
              "<table border=\"1\" class=\"dataframe\">\n",
              "  <thead>\n",
              "    <tr style=\"text-align: right;\">\n",
              "      <th></th>\n",
              "      <th>ID</th>\n",
              "      <th>Año - Semestre</th>\n",
              "      <th>Felder</th>\n",
              "      <th>Examen_admisión</th>\n",
              "      <th>Nota_final</th>\n",
              "      <th>Aprobo</th>\n",
              "    </tr>\n",
              "  </thead>\n",
              "  <tbody>\n",
              "    <tr>\n",
              "      <th>0</th>\n",
              "      <td>1</td>\n",
              "      <td>2016-01</td>\n",
              "      <td>sensorial</td>\n",
              "      <td>4.67</td>\n",
              "      <td>3.1</td>\n",
              "      <td>si</td>\n",
              "    </tr>\n",
              "    <tr>\n",
              "      <th>1</th>\n",
              "      <td>2</td>\n",
              "      <td>2016-01</td>\n",
              "      <td>activo</td>\n",
              "      <td>4.17</td>\n",
              "      <td>2.1</td>\n",
              "      <td>no</td>\n",
              "    </tr>\n",
              "    <tr>\n",
              "      <th>2</th>\n",
              "      <td>3</td>\n",
              "      <td>2016-01</td>\n",
              "      <td>visual</td>\n",
              "      <td>4.50</td>\n",
              "      <td>3.1</td>\n",
              "      <td>si</td>\n",
              "    </tr>\n",
              "    <tr>\n",
              "      <th>3</th>\n",
              "      <td>4</td>\n",
              "      <td>2016-01</td>\n",
              "      <td>visual</td>\n",
              "      <td>3.83</td>\n",
              "      <td>1.6</td>\n",
              "      <td>no</td>\n",
              "    </tr>\n",
              "    <tr>\n",
              "      <th>4</th>\n",
              "      <td>5</td>\n",
              "      <td>2016-01</td>\n",
              "      <td>equilibrio</td>\n",
              "      <td>3.00</td>\n",
              "      <td>2.3</td>\n",
              "      <td>no</td>\n",
              "    </tr>\n",
              "  </tbody>\n",
              "</table>\n",
              "</div>"
            ],
            "text/plain": [
              "   ID Año - Semestre      Felder  Examen_admisión  Nota_final Aprobo\n",
              "0   1        2016-01   sensorial             4.67         3.1     si\n",
              "1   2        2016-01      activo             4.17         2.1     no\n",
              "2   3        2016-01      visual             4.50         3.1     si\n",
              "3   4        2016-01      visual             3.83         1.6     no\n",
              "4   5        2016-01  equilibrio             3.00         2.3     no"
            ]
          },
          "metadata": {},
          "execution_count": 8
        }
      ]
    },
    {
      "cell_type": "code",
      "metadata": {
        "id": "1pzymM8ltPKT",
        "colab": {
          "base_uri": "https://localhost:8080/"
        },
        "outputId": "ca9b894c-aa75-445b-d8ad-486338687ab1"
      },
      "source": [
        "data.info()"
      ],
      "execution_count": 9,
      "outputs": [
        {
          "output_type": "stream",
          "name": "stdout",
          "text": [
            "<class 'pandas.core.frame.DataFrame'>\n",
            "RangeIndex: 183 entries, 0 to 182\n",
            "Data columns (total 6 columns):\n",
            " #   Column           Non-Null Count  Dtype  \n",
            "---  ------           --------------  -----  \n",
            " 0   ID               183 non-null    int64  \n",
            " 1   Año - Semestre   183 non-null    object \n",
            " 2   Felder           183 non-null    object \n",
            " 3   Examen_admisión  181 non-null    float64\n",
            " 4   Nota_final       183 non-null    float64\n",
            " 5   Aprobo           183 non-null    object \n",
            "dtypes: float64(2), int64(1), object(3)\n",
            "memory usage: 8.7+ KB\n"
          ]
        }
      ]
    },
    {
      "cell_type": "markdown",
      "metadata": {
        "id": "KhGbzZIgGHyw"
      },
      "source": [
        "Las variables tipo Object las convertimos a categorías"
      ]
    },
    {
      "cell_type": "code",
      "metadata": {
        "id": "PidOBDs6vI16",
        "colab": {
          "base_uri": "https://localhost:8080/"
        },
        "outputId": "9fa75801-aab2-471a-8e8a-c1d881df5d44"
      },
      "source": [
        "data['Año - Semestre']=data['Año - Semestre'].astype('category')\n",
        "data['Felder']=data['Felder'].astype('category')\n",
        "data['Aprobo']=data['Aprobo'].astype('category')\n",
        "data.info()"
      ],
      "execution_count": 10,
      "outputs": [
        {
          "output_type": "stream",
          "name": "stdout",
          "text": [
            "<class 'pandas.core.frame.DataFrame'>\n",
            "RangeIndex: 183 entries, 0 to 182\n",
            "Data columns (total 6 columns):\n",
            " #   Column           Non-Null Count  Dtype   \n",
            "---  ------           --------------  -----   \n",
            " 0   ID               183 non-null    int64   \n",
            " 1   Año - Semestre   183 non-null    category\n",
            " 2   Felder           183 non-null    category\n",
            " 3   Examen_admisión  181 non-null    float64 \n",
            " 4   Nota_final       183 non-null    float64 \n",
            " 5   Aprobo           183 non-null    category\n",
            "dtypes: category(3), float64(2), int64(1)\n",
            "memory usage: 5.8 KB\n"
          ]
        }
      ]
    },
    {
      "cell_type": "markdown",
      "metadata": {
        "id": "rgLj8guGpjVy"
      },
      "source": [
        "**2.\tTratamiento de duplicados**\n",
        "\n",
        "* Eliminar variables duplicadas (columnas)\n",
        "* Eliminar registros duplicados (filas)\n",
        "* Eliminar variables irrelevantes (ID, cedula, nombre, teléfono)\n"
      ]
    },
    {
      "cell_type": "markdown",
      "metadata": {
        "id": "gm3P9BAKI4XS"
      },
      "source": [
        "**Variables Duplicadas:** Las variables Nota Final y Aprobó están duplicadas (representan la misma información), a partir de la nota final podemos saber si un estudiante aprueba o no el curso"
      ]
    },
    {
      "cell_type": "code",
      "metadata": {
        "id": "qKyIJkxfIte0"
      },
      "source": [
        "data = data.drop('Nota_final',axis=1)"
      ],
      "execution_count": 11,
      "outputs": []
    },
    {
      "cell_type": "markdown",
      "metadata": {
        "id": "TLHOs_JFJYeK"
      },
      "source": [
        "**Registros duplicados:** Dos registros que tengan el mismo Id están duplicados"
      ]
    },
    {
      "cell_type": "code",
      "metadata": {
        "id": "gA5rdmE5J6Ja"
      },
      "source": [
        "data=data.drop_duplicates(['ID']) "
      ],
      "execution_count": 12,
      "outputs": []
    },
    {
      "cell_type": "markdown",
      "metadata": {
        "id": "u2RqzhbAIk29"
      },
      "source": [
        "**Variables Irrelevantes**: Detectamos dos variables irrelevantes: Id y Año-Semestre"
      ]
    },
    {
      "cell_type": "code",
      "metadata": {
        "id": "-EFtt2-TIpOy"
      },
      "source": [
        "data = data.drop('ID',axis=1)\n",
        "data = data.drop('Año - Semestre',axis=1)"
      ],
      "execution_count": 13,
      "outputs": []
    },
    {
      "cell_type": "markdown",
      "metadata": {
        "id": "q_UFkLgTKC9M"
      },
      "source": [
        "Así quedan los datos luego de este paso"
      ]
    },
    {
      "cell_type": "code",
      "metadata": {
        "id": "ofCKbHD4yMiy",
        "colab": {
          "base_uri": "https://localhost:8080/",
          "height": 204
        },
        "outputId": "94854e93-96cb-4f2f-921d-ddfe3a601234"
      },
      "source": [
        "data.head()"
      ],
      "execution_count": 14,
      "outputs": [
        {
          "output_type": "execute_result",
          "data": {
            "text/html": [
              "<div>\n",
              "<style scoped>\n",
              "    .dataframe tbody tr th:only-of-type {\n",
              "        vertical-align: middle;\n",
              "    }\n",
              "\n",
              "    .dataframe tbody tr th {\n",
              "        vertical-align: top;\n",
              "    }\n",
              "\n",
              "    .dataframe thead th {\n",
              "        text-align: right;\n",
              "    }\n",
              "</style>\n",
              "<table border=\"1\" class=\"dataframe\">\n",
              "  <thead>\n",
              "    <tr style=\"text-align: right;\">\n",
              "      <th></th>\n",
              "      <th>Felder</th>\n",
              "      <th>Examen_admisión</th>\n",
              "      <th>Aprobo</th>\n",
              "    </tr>\n",
              "  </thead>\n",
              "  <tbody>\n",
              "    <tr>\n",
              "      <th>0</th>\n",
              "      <td>sensorial</td>\n",
              "      <td>4.67</td>\n",
              "      <td>si</td>\n",
              "    </tr>\n",
              "    <tr>\n",
              "      <th>1</th>\n",
              "      <td>activo</td>\n",
              "      <td>4.17</td>\n",
              "      <td>no</td>\n",
              "    </tr>\n",
              "    <tr>\n",
              "      <th>2</th>\n",
              "      <td>visual</td>\n",
              "      <td>4.50</td>\n",
              "      <td>si</td>\n",
              "    </tr>\n",
              "    <tr>\n",
              "      <th>3</th>\n",
              "      <td>visual</td>\n",
              "      <td>3.83</td>\n",
              "      <td>no</td>\n",
              "    </tr>\n",
              "    <tr>\n",
              "      <th>4</th>\n",
              "      <td>equilibrio</td>\n",
              "      <td>3.00</td>\n",
              "      <td>no</td>\n",
              "    </tr>\n",
              "  </tbody>\n",
              "</table>\n",
              "</div>"
            ],
            "text/plain": [
              "       Felder  Examen_admisión Aprobo\n",
              "0   sensorial             4.67     si\n",
              "1      activo             4.17     no\n",
              "2      visual             4.50     si\n",
              "3      visual             3.83     no\n",
              "4  equilibrio             3.00     no"
            ]
          },
          "metadata": {},
          "execution_count": 14
        }
      ]
    },
    {
      "cell_type": "markdown",
      "metadata": {
        "id": "TWmpzJD_xteS"
      },
      "source": [
        "**3.\tAnálisis univariable**\n",
        "\n",
        "* Variables numéricas: estadística descriptiva, histogramas, box plot\n",
        "* Variables categóricas: tabla de frecuencias y diagrama de barras\n"
      ]
    },
    {
      "cell_type": "markdown",
      "metadata": {
        "id": "vZW89l2-Y95o"
      },
      "source": [
        "Variables numéricas"
      ]
    },
    {
      "cell_type": "code",
      "metadata": {
        "id": "7_E2pjNztPx1",
        "colab": {
          "base_uri": "https://localhost:8080/",
          "height": 297
        },
        "outputId": "308e1ef7-cc95-4b63-9892-6a5dde206aa6"
      },
      "source": [
        "data.describe() #Solo para datos numéricos"
      ],
      "execution_count": 15,
      "outputs": [
        {
          "output_type": "execute_result",
          "data": {
            "text/html": [
              "<div>\n",
              "<style scoped>\n",
              "    .dataframe tbody tr th:only-of-type {\n",
              "        vertical-align: middle;\n",
              "    }\n",
              "\n",
              "    .dataframe tbody tr th {\n",
              "        vertical-align: top;\n",
              "    }\n",
              "\n",
              "    .dataframe thead th {\n",
              "        text-align: right;\n",
              "    }\n",
              "</style>\n",
              "<table border=\"1\" class=\"dataframe\">\n",
              "  <thead>\n",
              "    <tr style=\"text-align: right;\">\n",
              "      <th></th>\n",
              "      <th>Examen_admisión</th>\n",
              "    </tr>\n",
              "  </thead>\n",
              "  <tbody>\n",
              "    <tr>\n",
              "      <th>count</th>\n",
              "      <td>181.000000</td>\n",
              "    </tr>\n",
              "    <tr>\n",
              "      <th>mean</th>\n",
              "      <td>3.826851</td>\n",
              "    </tr>\n",
              "    <tr>\n",
              "      <th>std</th>\n",
              "      <td>0.824674</td>\n",
              "    </tr>\n",
              "    <tr>\n",
              "      <th>min</th>\n",
              "      <td>0.000000</td>\n",
              "    </tr>\n",
              "    <tr>\n",
              "      <th>25%</th>\n",
              "      <td>3.500000</td>\n",
              "    </tr>\n",
              "    <tr>\n",
              "      <th>50%</th>\n",
              "      <td>3.830000</td>\n",
              "    </tr>\n",
              "    <tr>\n",
              "      <th>75%</th>\n",
              "      <td>4.330000</td>\n",
              "    </tr>\n",
              "    <tr>\n",
              "      <th>max</th>\n",
              "      <td>5.000000</td>\n",
              "    </tr>\n",
              "  </tbody>\n",
              "</table>\n",
              "</div>"
            ],
            "text/plain": [
              "       Examen_admisión\n",
              "count       181.000000\n",
              "mean          3.826851\n",
              "std           0.824674\n",
              "min           0.000000\n",
              "25%           3.500000\n",
              "50%           3.830000\n",
              "75%           4.330000\n",
              "max           5.000000"
            ]
          },
          "metadata": {},
          "execution_count": 15
        }
      ]
    },
    {
      "cell_type": "code",
      "metadata": {
        "id": "QZNav0w1xPii",
        "colab": {
          "base_uri": "https://localhost:8080/",
          "height": 284
        },
        "outputId": "bb1c1c26-4447-4a78-b974-781f841c85da"
      },
      "source": [
        "data.plot.box()"
      ],
      "execution_count": 16,
      "outputs": [
        {
          "output_type": "execute_result",
          "data": {
            "text/plain": [
              "<matplotlib.axes._subplots.AxesSubplot at 0x7f7449129150>"
            ]
          },
          "metadata": {},
          "execution_count": 16
        },
        {
          "output_type": "display_data",
          "data": {
            "image/png": "[encoded data removed]",
            "text/plain": [
              "<Figure size 432x288 with 1 Axes>"
            ]
          },
          "metadata": {
            "needs_background": "light"
          }
        }
      ]
    },
    {
      "cell_type": "markdown",
      "metadata": {
        "id": "kf8EB0kcZBOq"
      },
      "source": [
        "Variables categóricas"
      ]
    },
    {
      "cell_type": "code",
      "metadata": {
        "id": "GPKi3ffLnrNB",
        "colab": {
          "base_uri": "https://localhost:8080/"
        },
        "outputId": "b7299b17-bba0-42d1-c82c-cb2631a9bd1d"
      },
      "source": [
        "pd.value_counts(data[\"Felder\"])"
      ],
      "execution_count": 17,
      "outputs": [
        {
          "output_type": "execute_result",
          "data": {
            "text/plain": [
              "visual        63\n",
              "equilibrio    40\n",
              "sensorial     28\n",
              "secuencial    28\n",
              "activo        15\n",
              "intuitivo      4\n",
              "verbal         3\n",
              "reflexivo      2\n",
              "Name: Felder, dtype: int64"
            ]
          },
          "metadata": {},
          "execution_count": 17
        }
      ]
    },
    {
      "cell_type": "code",
      "metadata": {
        "id": "BDXQvKvu3KQS",
        "colab": {
          "base_uri": "https://localhost:8080/"
        },
        "outputId": "23e879c5-69bf-4636-9b38-05ca7744da77"
      },
      "source": [
        "pd.value_counts(data[\"Aprobo\"])"
      ],
      "execution_count": 18,
      "outputs": [
        {
          "output_type": "execute_result",
          "data": {
            "text/plain": [
              "no    108\n",
              "si     75\n",
              "Name: Aprobo, dtype: int64"
            ]
          },
          "metadata": {},
          "execution_count": 18
        }
      ]
    },
    {
      "cell_type": "code",
      "metadata": {
        "id": "zIMjePza3TFI",
        "colab": {
          "base_uri": "https://localhost:8080/",
          "height": 325
        },
        "outputId": "8a001a10-105d-4b41-96d6-95700eaed62b"
      },
      "source": [
        "plt.subplot(1,2,1)\n",
        "pd.value_counts(data[\"Felder\"]).plot(kind=\"bar\")\n",
        "plt.subplot(1,2,2)\n",
        "pd.value_counts(data[\"Aprobo\"]).plot(kind=\"bar\")"
      ],
      "execution_count": 19,
      "outputs": [
        {
          "output_type": "execute_result",
          "data": {
            "text/plain": [
              "<matplotlib.axes._subplots.AxesSubplot at 0x7f7448a3a190>"
            ]
          },
          "metadata": {},
          "execution_count": 19
        },
        {
          "output_type": "display_data",
          "data": {
            "image/png": "[encoded data removed]",
            "text/plain": [
              "<Figure size 432x288 with 2 Axes>"
            ]
          },
          "metadata": {
            "needs_background": "light"
          }
        }
      ]
    },
    {
      "cell_type": "markdown",
      "metadata": {
        "id": "LDA8JMX5ytTG"
      },
      "source": [
        "**4.\tAnálisis bivariable**\n",
        "\n",
        "* Correlaciones entre las variables predictoras deben ser menores a 0.7\n",
        "* Correlaciones con la variable objetivo debe ser mayor a 0.3\n",
        "\n"
      ]
    },
    {
      "cell_type": "code",
      "metadata": {
        "id": "5m_9sM7ivzZS",
        "colab": {
          "base_uri": "https://localhost:8080/",
          "height": 80
        },
        "outputId": "d7536e60-c23f-421f-b844-acf2289762f3"
      },
      "source": [
        "data.corr()"
      ],
      "execution_count": 20,
      "outputs": [
        {
          "output_type": "execute_result",
          "data": {
            "text/html": [
              "<div>\n",
              "<style scoped>\n",
              "    .dataframe tbody tr th:only-of-type {\n",
              "        vertical-align: middle;\n",
              "    }\n",
              "\n",
              "    .dataframe tbody tr th {\n",
              "        vertical-align: top;\n",
              "    }\n",
              "\n",
              "    .dataframe thead th {\n",
              "        text-align: right;\n",
              "    }\n",
              "</style>\n",
              "<table border=\"1\" class=\"dataframe\">\n",
              "  <thead>\n",
              "    <tr style=\"text-align: right;\">\n",
              "      <th></th>\n",
              "      <th>Examen_admisión</th>\n",
              "    </tr>\n",
              "  </thead>\n",
              "  <tbody>\n",
              "    <tr>\n",
              "      <th>Examen_admisión</th>\n",
              "      <td>1.0</td>\n",
              "    </tr>\n",
              "  </tbody>\n",
              "</table>\n",
              "</div>"
            ],
            "text/plain": [
              "                 Examen_admisión\n",
              "Examen_admisión              1.0"
            ]
          },
          "metadata": {},
          "execution_count": 20
        }
      ]
    },
    {
      "cell_type": "markdown",
      "metadata": {
        "id": "JYuTjv5OZRLF"
      },
      "source": [
        "La correlación se aplica sobre variables numéricas, debemos convertir las variables categóricas a numéricas"
      ]
    },
    {
      "cell_type": "code",
      "metadata": {
        "id": "S7R9edonqbQ_",
        "colab": {
          "base_uri": "https://localhost:8080/",
          "height": 204
        },
        "outputId": "310b1114-12d4-4e57-8a4d-5ba979742c4f"
      },
      "source": [
        "data_num=data #Hacemos una copia de los datos\n",
        "\n",
        "dummiesFelder = pd.get_dummies(data['Felder'])  #Creamos variables dummy para convertir  las categorías a números\n",
        "data_num = data_num.drop('Felder', axis=1)      #Elimino la columna original\n",
        "data_num = data_num.join(dummiesFelder)         #Adiciono las dummies\n",
        "\n",
        "data_num.head()"
      ],
      "execution_count": 21,
      "outputs": [
        {
          "output_type": "execute_result",
          "data": {
            "text/html": [
              "<div>\n",
              "<style scoped>\n",
              "    .dataframe tbody tr th:only-of-type {\n",
              "        vertical-align: middle;\n",
              "    }\n",
              "\n",
              "    .dataframe tbody tr th {\n",
              "        vertical-align: top;\n",
              "    }\n",
              "\n",
              "    .dataframe thead th {\n",
              "        text-align: right;\n",
              "    }\n",
              "</style>\n",
              "<table border=\"1\" class=\"dataframe\">\n",
              "  <thead>\n",
              "    <tr style=\"text-align: right;\">\n",
              "      <th></th>\n",
              "      <th>Examen_admisión</th>\n",
              "      <th>Aprobo</th>\n",
              "      <th>activo</th>\n",
              "      <th>equilibrio</th>\n",
              "      <th>intuitivo</th>\n",
              "      <th>reflexivo</th>\n",
              "      <th>secuencial</th>\n",
              "      <th>sensorial</th>\n",
              "      <th>verbal</th>\n",
              "      <th>visual</th>\n",
              "    </tr>\n",
              "  </thead>\n",
              "  <tbody>\n",
              "    <tr>\n",
              "      <th>0</th>\n",
              "      <td>4.67</td>\n",
              "      <td>si</td>\n",
              "      <td>0</td>\n",
              "      <td>0</td>\n",
              "      <td>0</td>\n",
              "      <td>0</td>\n",
              "      <td>0</td>\n",
              "      <td>1</td>\n",
              "      <td>0</td>\n",
              "      <td>0</td>\n",
              "    </tr>\n",
              "    <tr>\n",
              "      <th>1</th>\n",
              "      <td>4.17</td>\n",
              "      <td>no</td>\n",
              "      <td>1</td>\n",
              "      <td>0</td>\n",
              "      <td>0</td>\n",
              "      <td>0</td>\n",
              "      <td>0</td>\n",
              "      <td>0</td>\n",
              "      <td>0</td>\n",
              "      <td>0</td>\n",
              "    </tr>\n",
              "    <tr>\n",
              "      <th>2</th>\n",
              "      <td>4.50</td>\n",
              "      <td>si</td>\n",
              "      <td>0</td>\n",
              "      <td>0</td>\n",
              "      <td>0</td>\n",
              "      <td>0</td>\n",
              "      <td>0</td>\n",
              "      <td>0</td>\n",
              "      <td>0</td>\n",
              "      <td>1</td>\n",
              "    </tr>\n",
              "    <tr>\n",
              "      <th>3</th>\n",
              "      <td>3.83</td>\n",
              "      <td>no</td>\n",
              "      <td>0</td>\n",
              "      <td>0</td>\n",
              "      <td>0</td>\n",
              "      <td>0</td>\n",
              "      <td>0</td>\n",
              "      <td>0</td>\n",
              "      <td>0</td>\n",
              "      <td>1</td>\n",
              "    </tr>\n",
              "    <tr>\n",
              "      <th>4</th>\n",
              "      <td>3.00</td>\n",
              "      <td>no</td>\n",
              "      <td>0</td>\n",
              "      <td>1</td>\n",
              "      <td>0</td>\n",
              "      <td>0</td>\n",
              "      <td>0</td>\n",
              "      <td>0</td>\n",
              "      <td>0</td>\n",
              "      <td>0</td>\n",
              "    </tr>\n",
              "  </tbody>\n",
              "</table>\n",
              "</div>"
            ],
            "text/plain": [
              "   Examen_admisión Aprobo  activo  ...  sensorial  verbal  visual\n",
              "0             4.67     si       0  ...          1       0       0\n",
              "1             4.17     no       1  ...          0       0       0\n",
              "2             4.50     si       0  ...          0       0       1\n",
              "3             3.83     no       0  ...          0       0       1\n",
              "4             3.00     no       0  ...          0       0       0\n",
              "\n",
              "[5 rows x 10 columns]"
            ]
          },
          "metadata": {},
          "execution_count": 21
        }
      ]
    },
    {
      "cell_type": "code",
      "metadata": {
        "id": "_7LhBhVk9zzj",
        "colab": {
          "base_uri": "https://localhost:8080/",
          "height": 204
        },
        "outputId": "70582de9-e92c-4345-c939-a3528ddcd1b8"
      },
      "source": [
        "#Se codifican las categorias de la variable objetivo\n",
        "data_num[\"Aprobo\"]=data_num[\"Aprobo\"].replace({\"si\": 1, \"no\": 0})\n",
        "data_num.head()"
      ],
      "execution_count": 22,
      "outputs": [
        {
          "output_type": "execute_result",
          "data": {
            "text/html": [
              "<div>\n",
              "<style scoped>\n",
              "    .dataframe tbody tr th:only-of-type {\n",
              "        vertical-align: middle;\n",
              "    }\n",
              "\n",
              "    .dataframe tbody tr th {\n",
              "        vertical-align: top;\n",
              "    }\n",
              "\n",
              "    .dataframe thead th {\n",
              "        text-align: right;\n",
              "    }\n",
              "</style>\n",
              "<table border=\"1\" class=\"dataframe\">\n",
              "  <thead>\n",
              "    <tr style=\"text-align: right;\">\n",
              "      <th></th>\n",
              "      <th>Examen_admisión</th>\n",
              "      <th>Aprobo</th>\n",
              "      <th>activo</th>\n",
              "      <th>equilibrio</th>\n",
              "      <th>intuitivo</th>\n",
              "      <th>reflexivo</th>\n",
              "      <th>secuencial</th>\n",
              "      <th>sensorial</th>\n",
              "      <th>verbal</th>\n",
              "      <th>visual</th>\n",
              "    </tr>\n",
              "  </thead>\n",
              "  <tbody>\n",
              "    <tr>\n",
              "      <th>0</th>\n",
              "      <td>4.67</td>\n",
              "      <td>1</td>\n",
              "      <td>0</td>\n",
              "      <td>0</td>\n",
              "      <td>0</td>\n",
              "      <td>0</td>\n",
              "      <td>0</td>\n",
              "      <td>1</td>\n",
              "      <td>0</td>\n",
              "      <td>0</td>\n",
              "    </tr>\n",
              "    <tr>\n",
              "      <th>1</th>\n",
              "      <td>4.17</td>\n",
              "      <td>0</td>\n",
              "      <td>1</td>\n",
              "      <td>0</td>\n",
              "      <td>0</td>\n",
              "      <td>0</td>\n",
              "      <td>0</td>\n",
              "      <td>0</td>\n",
              "      <td>0</td>\n",
              "      <td>0</td>\n",
              "    </tr>\n",
              "    <tr>\n",
              "      <th>2</th>\n",
              "      <td>4.50</td>\n",
              "      <td>1</td>\n",
              "      <td>0</td>\n",
              "      <td>0</td>\n",
              "      <td>0</td>\n",
              "      <td>0</td>\n",
              "      <td>0</td>\n",
              "      <td>0</td>\n",
              "      <td>0</td>\n",
              "      <td>1</td>\n",
              "    </tr>\n",
              "    <tr>\n",
              "      <th>3</th>\n",
              "      <td>3.83</td>\n",
              "      <td>0</td>\n",
              "      <td>0</td>\n",
              "      <td>0</td>\n",
              "      <td>0</td>\n",
              "      <td>0</td>\n",
              "      <td>0</td>\n",
              "      <td>0</td>\n",
              "      <td>0</td>\n",
              "      <td>1</td>\n",
              "    </tr>\n",
              "    <tr>\n",
              "      <th>4</th>\n",
              "      <td>3.00</td>\n",
              "      <td>0</td>\n",
              "      <td>0</td>\n",
              "      <td>1</td>\n",
              "      <td>0</td>\n",
              "      <td>0</td>\n",
              "      <td>0</td>\n",
              "      <td>0</td>\n",
              "      <td>0</td>\n",
              "      <td>0</td>\n",
              "    </tr>\n",
              "  </tbody>\n",
              "</table>\n",
              "</div>"
            ],
            "text/plain": [
              "   Examen_admisión  Aprobo  activo  ...  sensorial  verbal  visual\n",
              "0             4.67       1       0  ...          1       0       0\n",
              "1             4.17       0       1  ...          0       0       0\n",
              "2             4.50       1       0  ...          0       0       1\n",
              "3             3.83       0       0  ...          0       0       1\n",
              "4             3.00       0       0  ...          0       0       0\n",
              "\n",
              "[5 rows x 10 columns]"
            ]
          },
          "metadata": {},
          "execution_count": 22
        }
      ]
    },
    {
      "cell_type": "markdown",
      "metadata": {
        "id": "BSA1JogwZ4Iu"
      },
      "source": [
        "Ahora nuestras variables son numéricas, ya podemos aplicar la correlación\n",
        "* Correlación entre las variables predictoras debe ser menor de 0.7\n",
        "* Correlación con la variable objetivo debe ser mayor a 0.3"
      ]
    },
    {
      "cell_type": "code",
      "metadata": {
        "id": "uvnOQwMm-Byr",
        "colab": {
          "base_uri": "https://localhost:8080/",
          "height": 379
        },
        "outputId": "4146616b-4213-4465-b7df-f6429771f18b"
      },
      "source": [
        "data_num.corr()"
      ],
      "execution_count": 23,
      "outputs": [
        {
          "output_type": "execute_result",
          "data": {
            "text/html": [
              "<div>\n",
              "<style scoped>\n",
              "    .dataframe tbody tr th:only-of-type {\n",
              "        vertical-align: middle;\n",
              "    }\n",
              "\n",
              "    .dataframe tbody tr th {\n",
              "        vertical-align: top;\n",
              "    }\n",
              "\n",
              "    .dataframe thead th {\n",
              "        text-align: right;\n",
              "    }\n",
              "</style>\n",
              "<table border=\"1\" class=\"dataframe\">\n",
              "  <thead>\n",
              "    <tr style=\"text-align: right;\">\n",
              "      <th></th>\n",
              "      <th>Examen_admisión</th>\n",
              "      <th>Aprobo</th>\n",
              "      <th>activo</th>\n",
              "      <th>equilibrio</th>\n",
              "      <th>intuitivo</th>\n",
              "      <th>reflexivo</th>\n",
              "      <th>secuencial</th>\n",
              "      <th>sensorial</th>\n",
              "      <th>verbal</th>\n",
              "      <th>visual</th>\n",
              "    </tr>\n",
              "  </thead>\n",
              "  <tbody>\n",
              "    <tr>\n",
              "      <th>Examen_admisión</th>\n",
              "      <td>1.000000</td>\n",
              "      <td>0.404302</td>\n",
              "      <td>-0.192819</td>\n",
              "      <td>0.082834</td>\n",
              "      <td>-0.036440</td>\n",
              "      <td>0.033180</td>\n",
              "      <td>0.047427</td>\n",
              "      <td>0.006097</td>\n",
              "      <td>-0.428881</td>\n",
              "      <td>0.118705</td>\n",
              "    </tr>\n",
              "    <tr>\n",
              "      <th>Aprobo</th>\n",
              "      <td>0.404302</td>\n",
              "      <td>1.000000</td>\n",
              "      <td>-0.046481</td>\n",
              "      <td>-0.037463</td>\n",
              "      <td>-0.124573</td>\n",
              "      <td>0.019272</td>\n",
              "      <td>0.047056</td>\n",
              "      <td>-0.014673</td>\n",
              "      <td>-0.107583</td>\n",
              "      <td>0.097759</td>\n",
              "    </tr>\n",
              "    <tr>\n",
              "      <th>activo</th>\n",
              "      <td>-0.192819</td>\n",
              "      <td>-0.046481</td>\n",
              "      <td>1.000000</td>\n",
              "      <td>-0.158035</td>\n",
              "      <td>-0.044668</td>\n",
              "      <td>-0.031410</td>\n",
              "      <td>-0.127000</td>\n",
              "      <td>-0.127000</td>\n",
              "      <td>-0.038576</td>\n",
              "      <td>-0.216506</td>\n",
              "    </tr>\n",
              "    <tr>\n",
              "      <th>equilibrio</th>\n",
              "      <td>0.082834</td>\n",
              "      <td>-0.037463</td>\n",
              "      <td>-0.158035</td>\n",
              "      <td>1.000000</td>\n",
              "      <td>-0.079062</td>\n",
              "      <td>-0.055595</td>\n",
              "      <td>-0.224789</td>\n",
              "      <td>-0.224789</td>\n",
              "      <td>-0.068279</td>\n",
              "      <td>-0.383214</td>\n",
              "    </tr>\n",
              "    <tr>\n",
              "      <th>intuitivo</th>\n",
              "      <td>-0.036440</td>\n",
              "      <td>-0.124573</td>\n",
              "      <td>-0.044668</td>\n",
              "      <td>-0.079062</td>\n",
              "      <td>1.000000</td>\n",
              "      <td>-0.015714</td>\n",
              "      <td>-0.063536</td>\n",
              "      <td>-0.063536</td>\n",
              "      <td>-0.019299</td>\n",
              "      <td>-0.108314</td>\n",
              "    </tr>\n",
              "    <tr>\n",
              "      <th>reflexivo</th>\n",
              "      <td>0.033180</td>\n",
              "      <td>0.019272</td>\n",
              "      <td>-0.031410</td>\n",
              "      <td>-0.055595</td>\n",
              "      <td>-0.015714</td>\n",
              "      <td>1.000000</td>\n",
              "      <td>-0.044678</td>\n",
              "      <td>-0.044678</td>\n",
              "      <td>-0.013571</td>\n",
              "      <td>-0.076165</td>\n",
              "    </tr>\n",
              "    <tr>\n",
              "      <th>secuencial</th>\n",
              "      <td>0.047427</td>\n",
              "      <td>0.047056</td>\n",
              "      <td>-0.127000</td>\n",
              "      <td>-0.224789</td>\n",
              "      <td>-0.063536</td>\n",
              "      <td>-0.044678</td>\n",
              "      <td>1.000000</td>\n",
              "      <td>-0.180645</td>\n",
              "      <td>-0.054870</td>\n",
              "      <td>-0.307959</td>\n",
              "    </tr>\n",
              "    <tr>\n",
              "      <th>sensorial</th>\n",
              "      <td>0.006097</td>\n",
              "      <td>-0.014673</td>\n",
              "      <td>-0.127000</td>\n",
              "      <td>-0.224789</td>\n",
              "      <td>-0.063536</td>\n",
              "      <td>-0.044678</td>\n",
              "      <td>-0.180645</td>\n",
              "      <td>1.000000</td>\n",
              "      <td>-0.054870</td>\n",
              "      <td>-0.307959</td>\n",
              "    </tr>\n",
              "    <tr>\n",
              "      <th>verbal</th>\n",
              "      <td>-0.428881</td>\n",
              "      <td>-0.107583</td>\n",
              "      <td>-0.038576</td>\n",
              "      <td>-0.068279</td>\n",
              "      <td>-0.019299</td>\n",
              "      <td>-0.013571</td>\n",
              "      <td>-0.054870</td>\n",
              "      <td>-0.054870</td>\n",
              "      <td>1.000000</td>\n",
              "      <td>-0.093541</td>\n",
              "    </tr>\n",
              "    <tr>\n",
              "      <th>visual</th>\n",
              "      <td>0.118705</td>\n",
              "      <td>0.097759</td>\n",
              "      <td>-0.216506</td>\n",
              "      <td>-0.383214</td>\n",
              "      <td>-0.108314</td>\n",
              "      <td>-0.076165</td>\n",
              "      <td>-0.307959</td>\n",
              "      <td>-0.307959</td>\n",
              "      <td>-0.093541</td>\n",
              "      <td>1.000000</td>\n",
              "    </tr>\n",
              "  </tbody>\n",
              "</table>\n",
              "</div>"
            ],
            "text/plain": [
              "                 Examen_admisión    Aprobo  ...    verbal    visual\n",
              "Examen_admisión         1.000000  0.404302  ... -0.428881  0.118705\n",
              "Aprobo                  0.404302  1.000000  ... -0.107583  0.097759\n",
              "activo                 -0.192819 -0.046481  ... -0.038576 -0.216506\n",
              "equilibrio              0.082834 -0.037463  ... -0.068279 -0.383214\n",
              "intuitivo              -0.036440 -0.124573  ... -0.019299 -0.108314\n",
              "reflexivo               0.033180  0.019272  ... -0.013571 -0.076165\n",
              "secuencial              0.047427  0.047056  ... -0.054870 -0.307959\n",
              "sensorial               0.006097 -0.014673  ... -0.054870 -0.307959\n",
              "verbal                 -0.428881 -0.107583  ...  1.000000 -0.093541\n",
              "visual                  0.118705  0.097759  ... -0.093541  1.000000\n",
              "\n",
              "[10 rows x 10 columns]"
            ]
          },
          "metadata": {},
          "execution_count": 23
        }
      ]
    },
    {
      "cell_type": "markdown",
      "metadata": {
        "id": "J4pnYbPYqRtA"
      },
      "source": [
        "**5.\tTratamiento de outliers**\n",
        "(eliminar registros, eliminar variables, imputar, predecir)\n",
        "\n"
      ]
    },
    {
      "cell_type": "code",
      "metadata": {
        "id": "RBMez8JWTlTm",
        "colab": {
          "base_uri": "https://localhost:8080/",
          "height": 297
        },
        "outputId": "0e64b30b-4881-4ffc-e9e5-37647d07c957"
      },
      "source": [
        "data.describe()\n"
      ],
      "execution_count": 24,
      "outputs": [
        {
          "output_type": "execute_result",
          "data": {
            "text/html": [
              "<div>\n",
              "<style scoped>\n",
              "    .dataframe tbody tr th:only-of-type {\n",
              "        vertical-align: middle;\n",
              "    }\n",
              "\n",
              "    .dataframe tbody tr th {\n",
              "        vertical-align: top;\n",
              "    }\n",
              "\n",
              "    .dataframe thead th {\n",
              "        text-align: right;\n",
              "    }\n",
              "</style>\n",
              "<table border=\"1\" class=\"dataframe\">\n",
              "  <thead>\n",
              "    <tr style=\"text-align: right;\">\n",
              "      <th></th>\n",
              "      <th>Examen_admisión</th>\n",
              "    </tr>\n",
              "  </thead>\n",
              "  <tbody>\n",
              "    <tr>\n",
              "      <th>count</th>\n",
              "      <td>181.000000</td>\n",
              "    </tr>\n",
              "    <tr>\n",
              "      <th>mean</th>\n",
              "      <td>3.826851</td>\n",
              "    </tr>\n",
              "    <tr>\n",
              "      <th>std</th>\n",
              "      <td>0.824674</td>\n",
              "    </tr>\n",
              "    <tr>\n",
              "      <th>min</th>\n",
              "      <td>0.000000</td>\n",
              "    </tr>\n",
              "    <tr>\n",
              "      <th>25%</th>\n",
              "      <td>3.500000</td>\n",
              "    </tr>\n",
              "    <tr>\n",
              "      <th>50%</th>\n",
              "      <td>3.830000</td>\n",
              "    </tr>\n",
              "    <tr>\n",
              "      <th>75%</th>\n",
              "      <td>4.330000</td>\n",
              "    </tr>\n",
              "    <tr>\n",
              "      <th>max</th>\n",
              "      <td>5.000000</td>\n",
              "    </tr>\n",
              "  </tbody>\n",
              "</table>\n",
              "</div>"
            ],
            "text/plain": [
              "       Examen_admisión\n",
              "count       181.000000\n",
              "mean          3.826851\n",
              "std           0.824674\n",
              "min           0.000000\n",
              "25%           3.500000\n",
              "50%           3.830000\n",
              "75%           4.330000\n",
              "max           5.000000"
            ]
          },
          "metadata": {},
          "execution_count": 24
        }
      ]
    },
    {
      "cell_type": "markdown",
      "metadata": {
        "id": "2rNrB6PjaWNc"
      },
      "source": [
        "Si un estudiante perdió el examen de admisión (nota<3) no debería estar en el curso"
      ]
    },
    {
      "cell_type": "code",
      "metadata": {
        "id": "CjxXK6-EOp7I"
      },
      "source": [
        "data[data[\"Examen_admisión\"]<3] #Consultamos los registros de los outliers\n",
        "data1=data"
      ],
      "execution_count": 25,
      "outputs": []
    },
    {
      "cell_type": "code",
      "metadata": {
        "id": "DF_LbFixPLxK",
        "colab": {
          "base_uri": "https://localhost:8080/",
          "height": 382
        },
        "outputId": "f318464e-1f4f-4b20-ae87-1e04911594d8"
      },
      "source": [
        "#Imputación por la media\n",
        "media=data[\"Examen_admisión\"].mean()\n",
        "data.Examen_admisión[data[\"Examen_admisión\"]<3]=media\n",
        "data.describe()"
      ],
      "execution_count": 26,
      "outputs": [
        {
          "output_type": "stream",
          "name": "stderr",
          "text": [
            "/usr/local/lib/python3.7/dist-packages/ipykernel_launcher.py:3: SettingWithCopyWarning: \n",
            "A value is trying to be set on a copy of a slice from a DataFrame\n",
            "\n",
            "See the caveats in the documentation: https://pandas.pydata.org/pandas-docs/stable/user_guide/indexing.html#returning-a-view-versus-a-copy\n",
            "  This is separate from the ipykernel package so we can avoid doing imports until\n"
          ]
        },
        {
          "output_type": "execute_result",
          "data": {
            "text/html": [
              "<div>\n",
              "<style scoped>\n",
              "    .dataframe tbody tr th:only-of-type {\n",
              "        vertical-align: middle;\n",
              "    }\n",
              "\n",
              "    .dataframe tbody tr th {\n",
              "        vertical-align: top;\n",
              "    }\n",
              "\n",
              "    .dataframe thead th {\n",
              "        text-align: right;\n",
              "    }\n",
              "</style>\n",
              "<table border=\"1\" class=\"dataframe\">\n",
              "  <thead>\n",
              "    <tr style=\"text-align: right;\">\n",
              "      <th></th>\n",
              "      <th>Examen_admisión</th>\n",
              "    </tr>\n",
              "  </thead>\n",
              "  <tbody>\n",
              "    <tr>\n",
              "      <th>count</th>\n",
              "      <td>181.000000</td>\n",
              "    </tr>\n",
              "    <tr>\n",
              "      <th>mean</th>\n",
              "      <td>3.921515</td>\n",
              "    </tr>\n",
              "    <tr>\n",
              "      <th>std</th>\n",
              "      <td>0.581555</td>\n",
              "    </tr>\n",
              "    <tr>\n",
              "      <th>min</th>\n",
              "      <td>3.000000</td>\n",
              "    </tr>\n",
              "    <tr>\n",
              "      <th>25%</th>\n",
              "      <td>3.500000</td>\n",
              "    </tr>\n",
              "    <tr>\n",
              "      <th>50%</th>\n",
              "      <td>3.830000</td>\n",
              "    </tr>\n",
              "    <tr>\n",
              "      <th>75%</th>\n",
              "      <td>4.330000</td>\n",
              "    </tr>\n",
              "    <tr>\n",
              "      <th>max</th>\n",
              "      <td>5.000000</td>\n",
              "    </tr>\n",
              "  </tbody>\n",
              "</table>\n",
              "</div>"
            ],
            "text/plain": [
              "       Examen_admisión\n",
              "count       181.000000\n",
              "mean          3.921515\n",
              "std           0.581555\n",
              "min           3.000000\n",
              "25%           3.500000\n",
              "50%           3.830000\n",
              "75%           4.330000\n",
              "max           5.000000"
            ]
          },
          "metadata": {},
          "execution_count": 26
        }
      ]
    },
    {
      "cell_type": "markdown",
      "metadata": {
        "id": "imSBI4kWqN3c"
      },
      "source": [
        "**6.\tTratamiento de datos nulos** \n",
        "(eliminar registros, eliminar variables, imputar o predecir)\n",
        "\n"
      ]
    },
    {
      "cell_type": "code",
      "metadata": {
        "id": "4h_I3bp9dyZC",
        "colab": {
          "base_uri": "https://localhost:8080/"
        },
        "outputId": "e5411757-9cda-40c3-c40b-6caaf21e00af"
      },
      "source": [
        "data.info()"
      ],
      "execution_count": 27,
      "outputs": [
        {
          "output_type": "stream",
          "name": "stdout",
          "text": [
            "<class 'pandas.core.frame.DataFrame'>\n",
            "Int64Index: 183 entries, 0 to 182\n",
            "Data columns (total 3 columns):\n",
            " #   Column           Non-Null Count  Dtype   \n",
            "---  ------           --------------  -----   \n",
            " 0   Felder           183 non-null    category\n",
            " 1   Examen_admisión  181 non-null    float64 \n",
            " 2   Aprobo           183 non-null    category\n",
            "dtypes: category(2), float64(1)\n",
            "memory usage: 8.7 KB\n"
          ]
        }
      ]
    },
    {
      "cell_type": "markdown",
      "metadata": {
        "id": "UAYNOF8VdneQ"
      },
      "source": [
        "Hay dos registros con examen de admisión en null"
      ]
    },
    {
      "cell_type": "code",
      "metadata": {
        "id": "u6ViquQrSFWr",
        "colab": {
          "base_uri": "https://localhost:8080/"
        },
        "outputId": "86e81af0-f4bd-4524-c4b7-aeb8680eb94c"
      },
      "source": [
        "#Imputación por la media\n",
        "data['Examen_admisión']=data['Examen_admisión'].fillna(value=data['Examen_admisión'].mean())\n",
        "data.info()\n"
      ],
      "execution_count": 28,
      "outputs": [
        {
          "output_type": "stream",
          "name": "stdout",
          "text": [
            "<class 'pandas.core.frame.DataFrame'>\n",
            "Int64Index: 183 entries, 0 to 182\n",
            "Data columns (total 3 columns):\n",
            " #   Column           Non-Null Count  Dtype   \n",
            "---  ------           --------------  -----   \n",
            " 0   Felder           183 non-null    category\n",
            " 1   Examen_admisión  183 non-null    float64 \n",
            " 2   Aprobo           183 non-null    category\n",
            "dtypes: category(2), float64(1)\n",
            "memory usage: 8.7 KB\n"
          ]
        }
      ]
    },
    {
      "cell_type": "markdown",
      "metadata": {
        "id": "GcX76zGQqdqW"
      },
      "source": [
        "**7.\tTransformación de variables desde las reglas del negocio** \n",
        "\n",
        "* Discretización o Binning: convertir de número a categoría\n",
        "* Crear variables Dummy: convertir de categoría a número\n"
      ]
    },
    {
      "cell_type": "markdown",
      "metadata": {
        "id": "5sxHXkwMd7xa"
      },
      "source": [
        "El examen de admisión que es una variable numérica, podríamos discretizarla para volverla categórica"
      ]
    },
    {
      "cell_type": "code",
      "metadata": {
        "id": "rqO2Bw0rQob1",
        "colab": {
          "base_uri": "https://localhost:8080/"
        },
        "outputId": "3c8b2498-e87a-4269-d676-09ba98ef477a"
      },
      "source": [
        "pd.cut(data[\"Examen_admisión\"],3)"
      ],
      "execution_count": 29,
      "outputs": [
        {
          "output_type": "execute_result",
          "data": {
            "text/plain": [
              "0        (4.333, 5.0]\n",
              "1      (3.667, 4.333]\n",
              "2        (4.333, 5.0]\n",
              "3      (3.667, 4.333]\n",
              "4      (2.998, 3.667]\n",
              "            ...      \n",
              "178    (3.667, 4.333]\n",
              "179    (2.998, 3.667]\n",
              "180      (4.333, 5.0]\n",
              "181    (2.998, 3.667]\n",
              "182    (2.998, 3.667]\n",
              "Name: Examen_admisión, Length: 183, dtype: category\n",
              "Categories (3, interval[float64]): [(2.998, 3.667] < (3.667, 4.333] < (4.333, 5.0]]"
            ]
          },
          "metadata": {},
          "execution_count": 29
        }
      ]
    },
    {
      "cell_type": "markdown",
      "metadata": {
        "id": "Pcf1GEMzePNW"
      },
      "source": [
        "El estilo de aprendizaje que es una variable categórica, la podemos volver numérica"
      ]
    },
    {
      "cell_type": "code",
      "metadata": {
        "id": "lGabGsHzWctm",
        "colab": {
          "base_uri": "https://localhost:8080/",
          "height": 204
        },
        "outputId": "1b788278-6bf5-46a4-a791-ff66269b392c"
      },
      "source": [
        "pd.get_dummies(data['Felder']).head()"
      ],
      "execution_count": 30,
      "outputs": [
        {
          "output_type": "execute_result",
          "data": {
            "text/html": [
              "<div>\n",
              "<style scoped>\n",
              "    .dataframe tbody tr th:only-of-type {\n",
              "        vertical-align: middle;\n",
              "    }\n",
              "\n",
              "    .dataframe tbody tr th {\n",
              "        vertical-align: top;\n",
              "    }\n",
              "\n",
              "    .dataframe thead th {\n",
              "        text-align: right;\n",
              "    }\n",
              "</style>\n",
              "<table border=\"1\" class=\"dataframe\">\n",
              "  <thead>\n",
              "    <tr style=\"text-align: right;\">\n",
              "      <th></th>\n",
              "      <th>activo</th>\n",
              "      <th>equilibrio</th>\n",
              "      <th>intuitivo</th>\n",
              "      <th>reflexivo</th>\n",
              "      <th>secuencial</th>\n",
              "      <th>sensorial</th>\n",
              "      <th>verbal</th>\n",
              "      <th>visual</th>\n",
              "    </tr>\n",
              "  </thead>\n",
              "  <tbody>\n",
              "    <tr>\n",
              "      <th>0</th>\n",
              "      <td>0</td>\n",
              "      <td>0</td>\n",
              "      <td>0</td>\n",
              "      <td>0</td>\n",
              "      <td>0</td>\n",
              "      <td>1</td>\n",
              "      <td>0</td>\n",
              "      <td>0</td>\n",
              "    </tr>\n",
              "    <tr>\n",
              "      <th>1</th>\n",
              "      <td>1</td>\n",
              "      <td>0</td>\n",
              "      <td>0</td>\n",
              "      <td>0</td>\n",
              "      <td>0</td>\n",
              "      <td>0</td>\n",
              "      <td>0</td>\n",
              "      <td>0</td>\n",
              "    </tr>\n",
              "    <tr>\n",
              "      <th>2</th>\n",
              "      <td>0</td>\n",
              "      <td>0</td>\n",
              "      <td>0</td>\n",
              "      <td>0</td>\n",
              "      <td>0</td>\n",
              "      <td>0</td>\n",
              "      <td>0</td>\n",
              "      <td>1</td>\n",
              "    </tr>\n",
              "    <tr>\n",
              "      <th>3</th>\n",
              "      <td>0</td>\n",
              "      <td>0</td>\n",
              "      <td>0</td>\n",
              "      <td>0</td>\n",
              "      <td>0</td>\n",
              "      <td>0</td>\n",
              "      <td>0</td>\n",
              "      <td>1</td>\n",
              "    </tr>\n",
              "    <tr>\n",
              "      <th>4</th>\n",
              "      <td>0</td>\n",
              "      <td>1</td>\n",
              "      <td>0</td>\n",
              "      <td>0</td>\n",
              "      <td>0</td>\n",
              "      <td>0</td>\n",
              "      <td>0</td>\n",
              "      <td>0</td>\n",
              "    </tr>\n",
              "  </tbody>\n",
              "</table>\n",
              "</div>"
            ],
            "text/plain": [
              "   activo  equilibrio  intuitivo  ...  sensorial  verbal  visual\n",
              "0       0           0          0  ...          1       0       0\n",
              "1       1           0          0  ...          0       0       0\n",
              "2       0           0          0  ...          0       0       1\n",
              "3       0           0          0  ...          0       0       1\n",
              "4       0           1          0  ...          0       0       0\n",
              "\n",
              "[5 rows x 8 columns]"
            ]
          },
          "metadata": {},
          "execution_count": 30
        }
      ]
    },
    {
      "cell_type": "markdown",
      "metadata": {
        "id": "staG8kLNqjuo"
      },
      "source": [
        "**8.\tCreación de variables** \n",
        "(fecha y otros)\n",
        "\n"
      ]
    },
    {
      "cell_type": "markdown",
      "metadata": {
        "id": "ZwBYRWkLeZOQ"
      },
      "source": [
        "Como ejemplo podemos tomar una variable date time y extraer sus componentes"
      ]
    },
    {
      "cell_type": "code",
      "metadata": {
        "id": "54VNYRV1BMwP",
        "colab": {
          "base_uri": "https://localhost:8080/"
        },
        "outputId": "18e0b678-9308-4b9a-9d90-ecb09a24162e"
      },
      "source": [
        "from datetime import datetime\n",
        "\n",
        "ahora = datetime.now()  # Obtiene fecha y hora actual\n",
        "print(\"Fecha y Hora:\", ahora)  # Muestra fecha y hora\n",
        "print(\"Fecha y Hora UTC:\",ahora.utcnow())  # Muestra fecha/hora UTC\n",
        "print(\"Día:\",ahora.day)  # Muestra día\n",
        "print(\"Mes:\",ahora.month)  # Muestra mes\n",
        "print(\"Año:\",ahora.year)  # Muestra año\n",
        "print(\"Hora:\", ahora.hour)  # Muestra hora\n",
        "print(\"Minutos:\",ahora.minute)  # Muestra minuto\n",
        "print(\"Segundos:\", ahora.second)  # Muestra segundo"
      ],
      "execution_count": 31,
      "outputs": [
        {
          "output_type": "stream",
          "name": "stdout",
          "text": [
            "Fecha y Hora: 2021-10-02 00:43:01.509134\n",
            "Fecha y Hora UTC: 2021-10-02 00:43:01.509389\n",
            "Día: 2\n",
            "Mes: 10\n",
            "Año: 2021\n",
            "Hora: 0\n",
            "Minutos: 43\n",
            "Segundos: 1\n"
          ]
        }
      ]
    },
    {
      "cell_type": "markdown",
      "metadata": {
        "id": "iv-fxmyfqnaT"
      },
      "source": [
        "**9.\tReducción de variables** \n",
        "(en caso de ser necesario)\n",
        "\n"
      ]
    },
    {
      "cell_type": "markdown",
      "metadata": {
        "id": "89RiyLxXe_2D"
      },
      "source": [
        "Temporalmente eliminamos la variable objetivo para analizar solo las variables predictoras que son en las que debemos aplicar la reducción de variables"
      ]
    },
    {
      "cell_type": "code",
      "metadata": {
        "id": "eRBRATD4B-vw",
        "colab": {
          "base_uri": "https://localhost:8080/",
          "height": 204
        },
        "outputId": "fc7437c0-6cd8-46ce-edbc-c22d1d6f0cfa"
      },
      "source": [
        "X=data_num.drop('Aprobo', axis=1)\n",
        "#Eliminamos los nulos en la variable Examen admision\n",
        "X['Examen_admisión']=X['Examen_admisión'].fillna(value=X['Examen_admisión'].mean())\n",
        "X.head()"
      ],
      "execution_count": 32,
      "outputs": [
        {
          "output_type": "execute_result",
          "data": {
            "text/html": [
              "<div>\n",
              "<style scoped>\n",
              "    .dataframe tbody tr th:only-of-type {\n",
              "        vertical-align: middle;\n",
              "    }\n",
              "\n",
              "    .dataframe tbody tr th {\n",
              "        vertical-align: top;\n",
              "    }\n",
              "\n",
              "    .dataframe thead th {\n",
              "        text-align: right;\n",
              "    }\n",
              "</style>\n",
              "<table border=\"1\" class=\"dataframe\">\n",
              "  <thead>\n",
              "    <tr style=\"text-align: right;\">\n",
              "      <th></th>\n",
              "      <th>Examen_admisión</th>\n",
              "      <th>activo</th>\n",
              "      <th>equilibrio</th>\n",
              "      <th>intuitivo</th>\n",
              "      <th>reflexivo</th>\n",
              "      <th>secuencial</th>\n",
              "      <th>sensorial</th>\n",
              "      <th>verbal</th>\n",
              "      <th>visual</th>\n",
              "    </tr>\n",
              "  </thead>\n",
              "  <tbody>\n",
              "    <tr>\n",
              "      <th>0</th>\n",
              "      <td>4.67</td>\n",
              "      <td>0</td>\n",
              "      <td>0</td>\n",
              "      <td>0</td>\n",
              "      <td>0</td>\n",
              "      <td>0</td>\n",
              "      <td>1</td>\n",
              "      <td>0</td>\n",
              "      <td>0</td>\n",
              "    </tr>\n",
              "    <tr>\n",
              "      <th>1</th>\n",
              "      <td>4.17</td>\n",
              "      <td>1</td>\n",
              "      <td>0</td>\n",
              "      <td>0</td>\n",
              "      <td>0</td>\n",
              "      <td>0</td>\n",
              "      <td>0</td>\n",
              "      <td>0</td>\n",
              "      <td>0</td>\n",
              "    </tr>\n",
              "    <tr>\n",
              "      <th>2</th>\n",
              "      <td>4.50</td>\n",
              "      <td>0</td>\n",
              "      <td>0</td>\n",
              "      <td>0</td>\n",
              "      <td>0</td>\n",
              "      <td>0</td>\n",
              "      <td>0</td>\n",
              "      <td>0</td>\n",
              "      <td>1</td>\n",
              "    </tr>\n",
              "    <tr>\n",
              "      <th>3</th>\n",
              "      <td>3.83</td>\n",
              "      <td>0</td>\n",
              "      <td>0</td>\n",
              "      <td>0</td>\n",
              "      <td>0</td>\n",
              "      <td>0</td>\n",
              "      <td>0</td>\n",
              "      <td>0</td>\n",
              "      <td>1</td>\n",
              "    </tr>\n",
              "    <tr>\n",
              "      <th>4</th>\n",
              "      <td>3.00</td>\n",
              "      <td>0</td>\n",
              "      <td>1</td>\n",
              "      <td>0</td>\n",
              "      <td>0</td>\n",
              "      <td>0</td>\n",
              "      <td>0</td>\n",
              "      <td>0</td>\n",
              "      <td>0</td>\n",
              "    </tr>\n",
              "  </tbody>\n",
              "</table>\n",
              "</div>"
            ],
            "text/plain": [
              "   Examen_admisión  activo  equilibrio  ...  sensorial  verbal  visual\n",
              "0             4.67       0           0  ...          1       0       0\n",
              "1             4.17       1           0  ...          0       0       0\n",
              "2             4.50       0           0  ...          0       0       1\n",
              "3             3.83       0           0  ...          0       0       1\n",
              "4             3.00       0           1  ...          0       0       0\n",
              "\n",
              "[5 rows x 9 columns]"
            ]
          },
          "metadata": {},
          "execution_count": 32
        }
      ]
    },
    {
      "cell_type": "markdown",
      "metadata": {
        "id": "Jco0z3EhfO6I"
      },
      "source": [
        "PCA o análisis de componentes principales nos permite convertir nuestras variables originales en un nuevo y reducido grupo de variables que representen a los datos originales con una menor dimensión"
      ]
    },
    {
      "cell_type": "code",
      "metadata": {
        "id": "ywCwNgJXLDMZ",
        "colab": {
          "base_uri": "https://localhost:8080/",
          "height": 279
        },
        "outputId": "cab029f3-be06-46e6-c8ca-c26b750b8cfa"
      },
      "source": [
        "#Seleccionar la cantidad de componentes\n",
        "from sklearn.decomposition import PCA\n",
        "pca = PCA().fit(X)\n",
        "plt.plot(np.cumsum(pca.explained_variance_ratio_))\n",
        "plt.xlabel('number of components')\n",
        "plt.ylabel('cumulative explained variance');"
      ],
      "execution_count": 33,
      "outputs": [
        {
          "output_type": "display_data",
          "data": {
            "image/png": "[encoded data removed]",
            "text/plain": [
              "<Figure size 432x288 with 1 Axes>"
            ]
          },
          "metadata": {
            "needs_background": "light"
          }
        }
      ]
    },
    {
      "cell_type": "code",
      "metadata": {
        "id": "CwSHYDurER1t",
        "colab": {
          "base_uri": "https://localhost:8080/"
        },
        "outputId": "2b7975f1-76f1-49b3-fdf4-b16d36a3e130"
      },
      "source": [
        "#Aplicamos PCA para reducción de variables\n",
        "pca = PCA(n_components=5)\n",
        "principalComponents = pca.fit(X)\n",
        "print(\"Componentes principales\")\n",
        "print(pca.components_)\n",
        "print(\"Varianza acumulada\")\n",
        "varianza = pca.explained_variance_ratio_\n",
        "var_acum= np.cumsum(varianza)\n",
        "print(var_acum)\n"
      ],
      "execution_count": 34,
      "outputs": [
        {
          "output_type": "stream",
          "name": "stdout",
          "text": [
            "Componentes principales\n",
            "[[-9.88964926e-01  7.63457244e-02 -4.25204702e-02  7.74470919e-03\n",
            "  -3.56760538e-03 -1.51622791e-02  7.21028398e-03  6.71502781e-02\n",
            "  -9.72006411e-02]\n",
            " [-6.48123251e-02 -4.10483560e-02 -4.71537643e-01 -1.02139810e-02\n",
            "  -6.08387597e-03 -1.63895753e-01 -1.58051213e-01  2.43387549e-03\n",
            "   8.48396947e-01]\n",
            " [-5.42967999e-02 -5.38660488e-02  7.33760097e-01 -1.15003501e-02\n",
            "  -6.93281349e-03 -4.57873193e-01 -4.38980087e-01  4.75830131e-03\n",
            "   2.30634094e-01]\n",
            " [ 1.51581848e-02 -1.01431581e-02 -3.85927579e-03 -6.34031260e-04\n",
            "   2.41325205e-04 -6.96058168e-01  7.17721848e-01 -5.04007111e-03\n",
            "  -2.22846898e-03]\n",
            " [ 9.31345108e-02  8.82649733e-01 -2.02254422e-01  3.01949713e-02\n",
            "   1.90212712e-02 -2.75137177e-01 -2.58132027e-01 -3.31048733e-02\n",
            "  -1.63237476e-01]]\n",
            "Varianza acumulada\n",
            "[0.47039739 0.66754967 0.79691266 0.90247351 0.9629312 ]\n"
          ]
        }
      ]
    },
    {
      "cell_type": "markdown",
      "metadata": {
        "id": "gsgOROaRqx8x"
      },
      "source": [
        "**10.\tBalanceo de la variable objetivo**\n",
        "(sólo en clasificación) "
      ]
    },
    {
      "cell_type": "code",
      "metadata": {
        "id": "J1aKLk62PCGU",
        "colab": {
          "base_uri": "https://localhost:8080/",
          "height": 285
        },
        "outputId": "490bb9fe-6e46-45cf-fb7e-40478f5b3aac"
      },
      "source": [
        "pd.value_counts(data[\"Aprobo\"]).plot(kind=\"bar\")"
      ],
      "execution_count": 35,
      "outputs": [
        {
          "output_type": "execute_result",
          "data": {
            "text/plain": [
              "<matplotlib.axes._subplots.AxesSubplot at 0x7f743470bdd0>"
            ]
          },
          "metadata": {},
          "execution_count": 35
        },
        {
          "output_type": "display_data",
          "data": {
            "image/png": "[encoded data removed]",
            "text/plain": [
              "<Figure size 432x288 with 1 Axes>"
            ]
          },
          "metadata": {
            "needs_background": "light"
          }
        }
      ]
    },
    {
      "cell_type": "markdown",
      "metadata": {
        "id": "rL0wdVEhgD4-"
      },
      "source": [
        "La variable objetivo (Aprobó) no cuenta con igual número de registros por categoría"
      ]
    },
    {
      "cell_type": "code",
      "metadata": {
        "id": "Nqo_wPLPPFQU",
        "colab": {
          "base_uri": "https://localhost:8080/",
          "height": 441
        },
        "outputId": "1afe69d0-887a-48e3-a3f7-5f385fbae2cb"
      },
      "source": [
        "from imblearn.over_sampling import SMOTENC\n",
        "\n",
        "sm = SMOTENC(random_state=42, categorical_features=[0]) #sm = SMOTE(random_state=42) para datos sólo numéricos\n",
        "X_bal, Y_bal = sm.fit_resample(data[['Felder', 'Examen_admisión']], data[\"Aprobo\"])\n",
        "# Creamos un dataframe con los resultados\n",
        "data_bal = pd.DataFrame({\"Felder\": X_bal[:,0], \"Examen_admisión\":X_bal[:,1], \"Aprobo\": Y_bal})\n",
        "# Veamos si ahora si está balanceado\n",
        "pd.value_counts(data_bal[\"Aprobo\"]).plot(kind=\"bar\")"
      ],
      "execution_count": 36,
      "outputs": [
        {
          "output_type": "stream",
          "name": "stderr",
          "text": [
            "/usr/local/lib/python3.7/dist-packages/sklearn/externals/six.py:31: FutureWarning: The module is deprecated in version 0.21 and will be removed in version 0.23 since we've dropped support for Python 2.7. Please rely on the official version of six (https://pypi.org/project/six/).\n",
            "  \"(https://pypi.org/project/six/).\", FutureWarning)\n",
            "/usr/local/lib/python3.7/dist-packages/sklearn/utils/deprecation.py:144: FutureWarning: The sklearn.neighbors.base module is  deprecated in version 0.22 and will be removed in version 0.24. The corresponding classes / functions should instead be imported from sklearn.neighbors. Anything that cannot be imported from sklearn.neighbors is now part of the private API.\n",
            "  warnings.warn(message, FutureWarning)\n",
            "/usr/local/lib/python3.7/dist-packages/sklearn/utils/deprecation.py:87: FutureWarning: Function safe_indexing is deprecated; safe_indexing is deprecated in version 0.22 and will be removed in version 0.24.\n",
            "  warnings.warn(msg, category=FutureWarning)\n",
            "/usr/local/lib/python3.7/dist-packages/sklearn/utils/deprecation.py:87: FutureWarning: Function safe_indexing is deprecated; safe_indexing is deprecated in version 0.22 and will be removed in version 0.24.\n",
            "  warnings.warn(msg, category=FutureWarning)\n"
          ]
        },
        {
          "output_type": "execute_result",
          "data": {
            "text/plain": [
              "<matplotlib.axes._subplots.AxesSubplot at 0x7f7433cce2d0>"
            ]
          },
          "metadata": {},
          "execution_count": 36
        },
        {
          "output_type": "display_data",
          "data": {
            "image/png": "[encoded data removed]",
            "text/plain": [
              "<Figure size 432x288 with 1 Axes>"
            ]
          },
          "metadata": {
            "needs_background": "light"
          }
        }
      ]
    },
    {
      "cell_type": "code",
      "metadata": {
        "id": "roKCRBm_onK9"
      },
      "source": [
        "#Guardamos los dataFrame preparados\n",
        "data.to_excel('local/data/aprobacion_curso_pre.xlsx')\n",
        "data_bal.to_excel('local/data/aprobacion_curso_bal.xlsx',sheet_name='Data_bal')"
      ],
      "execution_count": 37,
      "outputs": []
    },
    {
      "cell_type": "markdown",
      "metadata": {
        "id": "O8TxRTkmXwRE"
      },
      "source": [
        "###**Modo Distribuido (Spark)**"
      ]
    },
    {
      "cell_type": "markdown",
      "metadata": {
        "id": "wfBg6-UWX4ZA"
      },
      "source": [
        "Ahora veamos que nos ofrece Spark para realizar la preparación de datos en modo distribuido. Nos apoyaremos en los métodos de DataFrame y en la librería de Machine Learning\n",
        "\n",
        "https://spark.apache.org/docs/latest/api/python/pyspark.ml.html\n",
        "\n",
        "https://spark.apache.org/docs/latest/ml-guide.html"
      ]
    },
    {
      "cell_type": "code",
      "metadata": {
        "id": "XqCZk5f5iJpf",
        "colab": {
          "base_uri": "https://localhost:8080/"
        },
        "outputId": "29006cbe-bed7-4765-dac1-fe3e181ec94b"
      },
      "source": [
        "data = pd.read_excel(\"local/data/aprobacion_curso.xlsx\",sheet_name=0)\n",
        "estDF=sqlCtx.createDataFrame(data)\n",
        "type(estDF)"
      ],
      "execution_count": 38,
      "outputs": [
        {
          "output_type": "execute_result",
          "data": {
            "text/plain": [
              "pyspark.sql.dataframe.DataFrame"
            ]
          },
          "metadata": {},
          "execution_count": 38
        }
      ]
    },
    {
      "cell_type": "markdown",
      "metadata": {
        "id": "0ZXUqWh6iJpb"
      },
      "source": [
        "**Identificación de variables**\n",
        "* Propiedades del conjunto de datos\n",
        "* Tipos de datos (verificar carga correcta de datos)"
      ]
    },
    {
      "cell_type": "code",
      "metadata": {
        "id": "iiA_ZRzFjKSi",
        "colab": {
          "base_uri": "https://localhost:8080/"
        },
        "outputId": "1758164f-617c-41ea-c960-2859e32677a2"
      },
      "source": [
        "estDF.printSchema()\n",
        "estDF.show(5)"
      ],
      "execution_count": 39,
      "outputs": [
        {
          "output_type": "stream",
          "name": "stdout",
          "text": [
            "root\n",
            " |-- ID: long (nullable = true)\n",
            " |-- Año - Semestre: string (nullable = true)\n",
            " |-- Felder: string (nullable = true)\n",
            " |-- Examen_admisión: double (nullable = true)\n",
            " |-- Nota_final: double (nullable = true)\n",
            " |-- Aprobo: string (nullable = true)\n",
            "\n",
            "+---+--------------+----------+---------------+----------+------+\n",
            "| ID|Año - Semestre|    Felder|Examen_admisión|Nota_final|Aprobo|\n",
            "+---+--------------+----------+---------------+----------+------+\n",
            "|  1|       2016-01| sensorial|           4.67|       3.1|    si|\n",
            "|  2|       2016-01|    activo|           4.17|       2.1|    no|\n",
            "|  3|       2016-01|    visual|            4.5|       3.1|    si|\n",
            "|  4|       2016-01|    visual|           3.83|       1.6|    no|\n",
            "|  5|       2016-01|equilibrio|            3.0|       2.3|    no|\n",
            "+---+--------------+----------+---------------+----------+------+\n",
            "only showing top 5 rows\n",
            "\n"
          ]
        }
      ]
    },
    {
      "cell_type": "markdown",
      "metadata": {
        "id": "mLxiCDzBntjh"
      },
      "source": [
        "En pandas nos muestra información sobre los registros que tienen valores null, DataFrames no nos muestra esa información y a demás las variables categóricas las trabajamos como String"
      ]
    },
    {
      "cell_type": "markdown",
      "metadata": {
        "id": "89CzUbVliJpw"
      },
      "source": [
        "**Tratamiento de duplicados**\n",
        "\n",
        "* Eliminar variables duplicadas (columnas)\n",
        "* Eliminar registros duplicados (filas)\n",
        "* Eliminar variables irrelevantes (ID, cedula, nombre, teléfono)\n"
      ]
    },
    {
      "cell_type": "code",
      "metadata": {
        "id": "TCPGeZCAoO84",
        "colab": {
          "base_uri": "https://localhost:8080/"
        },
        "outputId": "7eac7962-e0a6-46ba-bd99-66c2e78319b8"
      },
      "source": [
        "estDF=estDF.dropDuplicates(['ID'])\n",
        "estDF=estDF.drop('ID','Año - Semestre','Nota_final')\n",
        "estDF.printSchema()"
      ],
      "execution_count": 40,
      "outputs": [
        {
          "output_type": "stream",
          "name": "stdout",
          "text": [
            "root\n",
            " |-- Felder: string (nullable = true)\n",
            " |-- Examen_admisión: double (nullable = true)\n",
            " |-- Aprobo: string (nullable = true)\n",
            "\n"
          ]
        }
      ]
    },
    {
      "cell_type": "markdown",
      "metadata": {
        "id": "tarUkBP-iJqA"
      },
      "source": [
        "**Análisis univariable**\n",
        "\n",
        "* Variables numéricas: estadística descriptiva, histogramas, box plot\n",
        "* Variables categóricas: tabla de frecuencias y diagrama de barras\n"
      ]
    },
    {
      "cell_type": "markdown",
      "metadata": {
        "id": "SvFMIRqBiJqA"
      },
      "source": [
        "Variables numéricas"
      ]
    },
    {
      "cell_type": "code",
      "metadata": {
        "id": "bSF0JbLXxA_W",
        "colab": {
          "base_uri": "https://localhost:8080/"
        },
        "outputId": "828a9e88-fe75-472d-ec44-01d9a8f49c28"
      },
      "source": [
        "estDF.select('Examen_admisión').describe().show()\n",
        "estDF.select('Examen_admisión').distinct().show()"
      ],
      "execution_count": 41,
      "outputs": [
        {
          "output_type": "stream",
          "name": "stdout",
          "text": [
            "+-------+---------------+\n",
            "|summary|Examen_admisión|\n",
            "+-------+---------------+\n",
            "|  count|            183|\n",
            "|   mean|            NaN|\n",
            "| stddev|            NaN|\n",
            "|    min|            0.0|\n",
            "|    max|            NaN|\n",
            "+-------+---------------+\n",
            "\n",
            "+---------------+\n",
            "|Examen_admisión|\n",
            "+---------------+\n",
            "|            0.0|\n",
            "|            3.5|\n",
            "|           3.33|\n",
            "|            NaN|\n",
            "|            4.5|\n",
            "|           4.33|\n",
            "|           3.83|\n",
            "|            1.0|\n",
            "|           3.67|\n",
            "|            4.0|\n",
            "|           4.83|\n",
            "|           4.67|\n",
            "|            3.0|\n",
            "|           4.17|\n",
            "|           3.17|\n",
            "|            5.0|\n",
            "+---------------+\n",
            "\n"
          ]
        }
      ]
    },
    {
      "cell_type": "markdown",
      "metadata": {
        "id": "EZfQH0jyzI3G"
      },
      "source": [
        "Encontró problemas con la variable examen de admisión, no puede calcular la estadística descriptiva de la variable hasta no resolver esos problemas"
      ]
    },
    {
      "cell_type": "code",
      "metadata": {
        "id": "krxFQOfuVIjh",
        "colab": {
          "base_uri": "https://localhost:8080/"
        },
        "outputId": "de607c39-bda6-4ea1-bc26-848cdada0bf1"
      },
      "source": [
        "estDF=estDF.fillna(3.0,'Examen_admisión')\n",
        "estDF.select('Examen_admisión').describe().show()"
      ],
      "execution_count": 42,
      "outputs": [
        {
          "output_type": "stream",
          "name": "stdout",
          "text": [
            "+-------+------------------+\n",
            "|summary|   Examen_admisión|\n",
            "+-------+------------------+\n",
            "|  count|               183|\n",
            "|   mean|3.8178142076502732|\n",
            "| stddev|0.8246481956629872|\n",
            "|    min|               0.0|\n",
            "|    max|               5.0|\n",
            "+-------+------------------+\n",
            "\n"
          ]
        }
      ]
    },
    {
      "cell_type": "markdown",
      "metadata": {
        "id": "8uVzsq7ciJqI"
      },
      "source": [
        "Variables categóricas"
      ]
    },
    {
      "cell_type": "code",
      "metadata": {
        "id": "W6MlrZ-m1VUD",
        "colab": {
          "base_uri": "https://localhost:8080/"
        },
        "outputId": "d4a076ed-ff14-4706-c508-9799c981f1a3"
      },
      "source": [
        "estDF.groupBy('Felder').count().show()\n",
        "estDF.groupBy('Aprobo').count().show()\n"
      ],
      "execution_count": 43,
      "outputs": [
        {
          "output_type": "stream",
          "name": "stdout",
          "text": [
            "+----------+-----+\n",
            "|    Felder|count|\n",
            "+----------+-----+\n",
            "|equilibrio|   40|\n",
            "|    activo|   15|\n",
            "|    visual|   63|\n",
            "| reflexivo|    2|\n",
            "| sensorial|   28|\n",
            "| intuitivo|    4|\n",
            "|secuencial|   28|\n",
            "|    verbal|    3|\n",
            "+----------+-----+\n",
            "\n",
            "+------+-----+\n",
            "|Aprobo|count|\n",
            "+------+-----+\n",
            "|    si|   75|\n",
            "|    no|  108|\n",
            "+------+-----+\n",
            "\n"
          ]
        }
      ]
    },
    {
      "cell_type": "markdown",
      "metadata": {
        "id": "aqn9oGeniJqV"
      },
      "source": [
        "**Análisis bivariable**\n",
        "\n",
        "* Correlaciones entre las variables predictoras deben ser menores a 0.7\n",
        "* Correlaciones con la variable objetivo debe ser mayor a 0.3\n",
        "\n"
      ]
    },
    {
      "cell_type": "markdown",
      "metadata": {
        "id": "WQmMIG4xiJqZ"
      },
      "source": [
        "La correlación se aplica sobre variables numéricas, debemos convertir las variables categóricas a numéricas"
      ]
    },
    {
      "cell_type": "code",
      "metadata": {
        "id": "xhIGlYP0-uW1",
        "colab": {
          "base_uri": "https://localhost:8080/"
        },
        "outputId": "5af3148c-7942-4d1e-e78d-f8f65b7d25a0"
      },
      "source": [
        "estNum=estDF\n",
        "estNum.select('Felder').distinct().show()"
      ],
      "execution_count": 44,
      "outputs": [
        {
          "output_type": "stream",
          "name": "stdout",
          "text": [
            "+----------+\n",
            "|    Felder|\n",
            "+----------+\n",
            "|equilibrio|\n",
            "|    activo|\n",
            "|    visual|\n",
            "| reflexivo|\n",
            "| sensorial|\n",
            "| intuitivo|\n",
            "|secuencial|\n",
            "|    verbal|\n",
            "+----------+\n",
            "\n"
          ]
        }
      ]
    },
    {
      "cell_type": "code",
      "metadata": {
        "id": "FTo-mYx88q8t",
        "colab": {
          "base_uri": "https://localhost:8080/"
        },
        "outputId": "60faf385-7c58-4bbf-9601-5ca04030d454"
      },
      "source": [
        "from pyspark.sql.types import *\n",
        "estNum=estNum.\\\n",
        "  withColumn('equilibrio',(estNum.Felder=='equilibrio').cast(IntegerType())).\\\n",
        "  withColumn('activo',(estNum.Felder=='activo').cast(IntegerType())).\\\n",
        "  withColumn('visual',(estNum.Felder=='visual').cast(IntegerType())).\\\n",
        "  withColumn('reflexivo',(estNum.Felder=='reflexivo').cast(IntegerType())).\\\n",
        "  withColumn('sensorial',(estNum.Felder=='sensorial').cast(IntegerType())).\\\n",
        "  withColumn('intuitivo',(estNum.Felder=='intuitivo').cast(IntegerType())).\\\n",
        "  withColumn('secuencial',(estNum.Felder=='secuencial').cast(IntegerType())).\\\n",
        "  withColumn('verbal',(estNum.Felder=='verbal').cast(IntegerType())).\\\n",
        "  withColumn('AproboInt',(estNum.Aprobo=='si').cast(IntegerType()))\n",
        "estNum=estNum.drop('Felder','Aprobo')\n",
        "\n",
        "estNum.printSchema()\n",
        "estNum.show(5)"
      ],
      "execution_count": 45,
      "outputs": [
        {
          "output_type": "stream",
          "name": "stdout",
          "text": [
            "root\n",
            " |-- Examen_admisión: double (nullable = false)\n",
            " |-- equilibrio: integer (nullable = true)\n",
            " |-- activo: integer (nullable = true)\n",
            " |-- visual: integer (nullable = true)\n",
            " |-- reflexivo: integer (nullable = true)\n",
            " |-- sensorial: integer (nullable = true)\n",
            " |-- intuitivo: integer (nullable = true)\n",
            " |-- secuencial: integer (nullable = true)\n",
            " |-- verbal: integer (nullable = true)\n",
            " |-- AproboInt: integer (nullable = true)\n",
            "\n",
            "+---------------+----------+------+------+---------+---------+---------+----------+------+---------+\n",
            "|Examen_admisión|equilibrio|activo|visual|reflexivo|sensorial|intuitivo|secuencial|verbal|AproboInt|\n",
            "+---------------+----------+------+------+---------+---------+---------+----------+------+---------+\n",
            "|           3.33|         1|     0|     0|        0|        0|        0|         0|     0|        0|\n",
            "|           4.33|         0|     0|     1|        0|        0|        0|         0|     0|        0|\n",
            "|           4.83|         0|     0|     0|        0|        0|        0|         1|     0|        1|\n",
            "|            5.0|         0|     0|     1|        0|        0|        0|         0|     0|        1|\n",
            "|            5.0|         0|     0|     0|        0|        0|        0|         1|     0|        1|\n",
            "+---------------+----------+------+------+---------+---------+---------+----------+------+---------+\n",
            "only showing top 5 rows\n",
            "\n"
          ]
        }
      ]
    },
    {
      "cell_type": "markdown",
      "metadata": {
        "id": "DVun2JwgiJqd"
      },
      "source": [
        "Ahora nuestras variables son numéricas, ya podemos aplicar la correlación\n",
        "* Correlación entre las variables predictoras debe ser menor de 0.7\n",
        "* Correlación con la variable objetivo debe ser mayor a 0.3"
      ]
    },
    {
      "cell_type": "markdown",
      "metadata": {
        "id": "sriF9vEMzvj5"
      },
      "source": [
        "Tenemos el método corr que calcula la correlación entre dos variables"
      ]
    },
    {
      "cell_type": "code",
      "metadata": {
        "id": "8GvBQ1oAB3KQ",
        "colab": {
          "base_uri": "https://localhost:8080/"
        },
        "outputId": "c82fdd0d-5b06-420e-8087-a6813236f1b3"
      },
      "source": [
        "estNum.corr('equilibrio','activo')"
      ],
      "execution_count": 46,
      "outputs": [
        {
          "output_type": "execute_result",
          "data": {
            "text/plain": [
              "-0.1580348853102535"
            ]
          },
          "metadata": {},
          "execution_count": 46
        }
      ]
    },
    {
      "cell_type": "markdown",
      "metadata": {
        "id": "S1Aouwdjz5XU"
      },
      "source": [
        "La librería ml.stat cuenta con un método para calcular la correlación pero requiere definir los datos dentro de un vector"
      ]
    },
    {
      "cell_type": "code",
      "metadata": {
        "id": "wbXC7MFfDWQa",
        "colab": {
          "base_uri": "https://localhost:8080/"
        },
        "outputId": "2bb26f6e-c767-4e15-aed7-87c92e65e5e4"
      },
      "source": [
        "from pyspark.ml.stat import Correlation\n",
        "from pyspark.ml.feature import VectorAssembler\n",
        "\n",
        "\n",
        "vector_col = \"corr_features\"\n",
        "assembler = VectorAssembler(inputCols=estNum.columns, outputCol=vector_col)\n",
        "df_vector = assembler.transform(estNum).select(vector_col)\n",
        "\n",
        "matrix = Correlation.corr(df_vector, vector_col)\n",
        "\n",
        "matrix.collect()[0][\"pearson({})\".format(vector_col)].values"
      ],
      "execution_count": 47,
      "outputs": [
        {
          "output_type": "execute_result",
          "data": {
            "text/plain": [
              "array([ 1.        ,  0.08806434, -0.18838437,  0.11366537,  0.03415153,\n",
              "        0.01072762, -0.03459361,  0.03583002, -0.42507384,  0.40969831,\n",
              "        0.08806434,  1.        , -0.15803489, -0.38321423, -0.05559525,\n",
              "       -0.22478905, -0.07906157, -0.22478905, -0.06827887, -0.03746275,\n",
              "       -0.18838437, -0.15803489,  1.        , -0.21650635, -0.03140991,\n",
              "       -0.12700013, -0.04466779, -0.12700013, -0.03857584, -0.04648111,\n",
              "        0.11366537, -0.38321423, -0.21650635,  1.        , -0.07616499,\n",
              "       -0.30795894, -0.10831364, -0.30795894, -0.09354143,  0.09775929,\n",
              "        0.03415153, -0.05559525, -0.03140991, -0.07616499,  1.        ,\n",
              "       -0.0446775 , -0.01571373, -0.0446775 , -0.01357063,  0.01927157,\n",
              "        0.01072762, -0.22478905, -0.12700013, -0.30795894, -0.0446775 ,\n",
              "        1.        , -0.06353553, -0.18064516, -0.05487033, -0.01467344,\n",
              "       -0.03459361, -0.07906157, -0.04466779, -0.10831364, -0.01571373,\n",
              "       -0.06353553,  1.        , -0.06353553, -0.01929869, -0.12457252,\n",
              "        0.03583002, -0.22478905, -0.12700013, -0.30795894, -0.0446775 ,\n",
              "       -0.18064516, -0.06353553,  1.        , -0.05487033,  0.0470562 ,\n",
              "       -0.42507384, -0.06827887, -0.03857584, -0.09354143, -0.01357063,\n",
              "       -0.05487033, -0.01929869, -0.05487033,  1.        , -0.10758287,\n",
              "        0.40969831, -0.03746275, -0.04648111,  0.09775929,  0.01927157,\n",
              "       -0.01467344, -0.12457252,  0.0470562 , -0.10758287,  1.        ])"
            ]
          },
          "metadata": {},
          "execution_count": 47
        }
      ]
    },
    {
      "cell_type": "markdown",
      "metadata": {
        "id": "Znu-8w6DiJqh"
      },
      "source": [
        "**Tratamiento de outliers y de nulos**\n",
        "(eliminar registros, eliminar variables, imputar, predecir)\n",
        "\n"
      ]
    },
    {
      "cell_type": "markdown",
      "metadata": {
        "id": "MDnKoEZ7iJql"
      },
      "source": [
        "Si un estudiante perdió el examen de admisión (nota<3) no debería estar en el curso"
      ]
    },
    {
      "cell_type": "code",
      "metadata": {
        "id": "OqBfccCbHY7c",
        "colab": {
          "base_uri": "https://localhost:8080/"
        },
        "outputId": "8f6ecfe2-18f0-4fbb-ae27-b0563a8a9539"
      },
      "source": [
        "prom=estNum.agg(functions.avg(estNum.Examen_admisión)).take(1)[0][0]\n",
        "prom\n"
      ],
      "execution_count": 48,
      "outputs": [
        {
          "output_type": "execute_result",
          "data": {
            "text/plain": [
              "3.8178142076502732"
            ]
          },
          "metadata": {},
          "execution_count": 48
        }
      ]
    },
    {
      "cell_type": "code",
      "metadata": {
        "id": "994Ecy4MZsIO",
        "colab": {
          "base_uri": "https://localhost:8080/"
        },
        "outputId": "ac981c51-3ce3-4a81-a2aa-2a824eaf00d6"
      },
      "source": [
        "estNum = estNum.withColumn('Examen_admisión', functions.when(estNum.Examen_admisión<3,prom)\\\n",
        "                                                 .when(estNum.Examen_admisión>=3, estNum.Examen_admisión))\n",
        "estNum.describe().show()"
      ],
      "execution_count": 49,
      "outputs": [
        {
          "output_type": "stream",
          "name": "stdout",
          "text": [
            "+-------+------------------+------------------+-------------------+------------------+-------------------+-------------------+-------------------+-------------------+-------------------+-------------------+\n",
            "|summary|   Examen_admisión|        equilibrio|             activo|            visual|          reflexivo|          sensorial|          intuitivo|         secuencial|             verbal|          AproboInt|\n",
            "+-------+------------------+------------------+-------------------+------------------+-------------------+-------------------+-------------------+-------------------+-------------------+-------------------+\n",
            "|  count|               183|               183|                183|               183|                183|                183|                183|                183|                183|                183|\n",
            "|   mean|3.9111971094986413|0.2185792349726776|0.08196721311475409|0.3442622950819672|0.01092896174863388|0.15300546448087432|0.02185792349726776|0.15300546448087432|0.01639344262295082| 0.4098360655737705|\n",
            "| stddev|0.5863138193643951|0.4144162490522451| 0.2750673424366434| 0.476430612603213|0.10425407669850024| 0.3609804033716055|0.14662069449775877|0.36098040337160553|0.12733143720943188|0.49315253576078505|\n",
            "|    min|               3.0|                 0|                  0|                 0|                  0|                  0|                  0|                  0|                  0|                  0|\n",
            "|    max|               5.0|                 1|                  1|                 1|                  1|                  1|                  1|                  1|                  1|                  1|\n",
            "+-------+------------------+------------------+-------------------+------------------+-------------------+-------------------+-------------------+-------------------+-------------------+-------------------+\n",
            "\n"
          ]
        }
      ]
    },
    {
      "cell_type": "markdown",
      "metadata": {
        "id": "wJkVKu6oiJq0"
      },
      "source": [
        "**Transformación de variables desde las reglas del negocio** \n",
        "\n",
        "* Discretización o Binning: convertir de número a categoría\n",
        "* Crear variables Dummy: convertir de categoría a número\n"
      ]
    },
    {
      "cell_type": "markdown",
      "metadata": {
        "id": "0BqL-DOAiJq1"
      },
      "source": [
        "El examen de admisión que es una variable numérica, podríamos discretizarla para volverla categórica"
      ]
    },
    {
      "cell_type": "code",
      "metadata": {
        "id": "4SkW75Apj1ot",
        "colab": {
          "base_uri": "https://localhost:8080/"
        },
        "outputId": "96f8f73c-c1dc-4d5b-8731-af39456dbb9d"
      },
      "source": [
        "from pyspark.ml.feature import QuantileDiscretizer\n",
        "\n",
        "discretizer = QuantileDiscretizer(numBuckets=3, inputCol=\"Examen_admisión\", outputCol=\"ExamenCat\")\n",
        "\n",
        "result = discretizer.fit(estNum).transform(estNum)\n",
        "result.show()"
      ],
      "execution_count": 50,
      "outputs": [
        {
          "output_type": "stream",
          "name": "stdout",
          "text": [
            "+------------------+----------+------+------+---------+---------+---------+----------+------+---------+---------+\n",
            "|   Examen_admisión|equilibrio|activo|visual|reflexivo|sensorial|intuitivo|secuencial|verbal|AproboInt|ExamenCat|\n",
            "+------------------+----------+------+------+---------+---------+---------+----------+------+---------+---------+\n",
            "|              3.33|         1|     0|     0|        0|        0|        0|         0|     0|        0|      0.0|\n",
            "|              4.33|         0|     0|     1|        0|        0|        0|         0|     0|        0|      2.0|\n",
            "|              4.83|         0|     0|     0|        0|        0|        0|         1|     0|        1|      2.0|\n",
            "|               5.0|         0|     0|     1|        0|        0|        0|         0|     0|        1|      2.0|\n",
            "|               5.0|         0|     0|     0|        0|        0|        0|         1|     0|        1|      2.0|\n",
            "|              3.83|         1|     0|     0|        0|        0|        0|         0|     0|        0|      1.0|\n",
            "|               3.5|         0|     0|     1|        0|        0|        0|         0|     0|        0|      1.0|\n",
            "|              4.17|         1|     0|     0|        0|        0|        0|         0|     0|        0|      2.0|\n",
            "|3.8178142076502732|         0|     1|     0|        0|        0|        0|         0|     0|        0|      1.0|\n",
            "|               5.0|         1|     0|     0|        0|        0|        0|         0|     0|        1|      2.0|\n",
            "|               4.0|         0|     1|     0|        0|        0|        0|         0|     0|        1|      2.0|\n",
            "|              3.83|         0|     0|     0|        0|        1|        0|         0|     0|        0|      1.0|\n",
            "|               4.0|         1|     0|     0|        0|        0|        0|         0|     0|        0|      2.0|\n",
            "|               3.5|         0|     0|     0|        0|        0|        0|         1|     0|        0|      1.0|\n",
            "|               5.0|         0|     0|     1|        0|        0|        0|         0|     0|        1|      2.0|\n",
            "|              4.67|         1|     0|     0|        0|        0|        0|         0|     0|        1|      2.0|\n",
            "|              4.83|         0|     0|     0|        0|        0|        0|         1|     0|        0|      2.0|\n",
            "|               3.5|         0|     0|     1|        0|        0|        0|         0|     0|        0|      1.0|\n",
            "|              4.83|         0|     0|     1|        0|        0|        0|         0|     0|        1|      2.0|\n",
            "|              3.17|         1|     0|     0|        0|        0|        0|         0|     0|        0|      0.0|\n",
            "+------------------+----------+------+------+---------+---------+---------+----------+------+---------+---------+\n",
            "only showing top 20 rows\n",
            "\n"
          ]
        }
      ]
    },
    {
      "cell_type": "markdown",
      "metadata": {
        "id": "5hWQO9pq3AEV"
      },
      "source": [
        "La variable Aprobó es categórica, podemos convertirla a númerica"
      ]
    },
    {
      "cell_type": "code",
      "metadata": {
        "id": "E9axH3iQ3cWg",
        "colab": {
          "base_uri": "https://localhost:8080/"
        },
        "outputId": "b43343a7-5dfd-4679-df6a-4b9695401f12"
      },
      "source": [
        "from pyspark.ml.feature import StringIndexer\n",
        "indexer = StringIndexer(inputCol=\"Aprobo\", outputCol=\"AproboNum\")\n",
        "indexer.fit(estDF).transform(estDF).show()"
      ],
      "execution_count": 51,
      "outputs": [
        {
          "output_type": "stream",
          "name": "stdout",
          "text": [
            "+----------+---------------+------+---------+\n",
            "|    Felder|Examen_admisión|Aprobo|AproboNum|\n",
            "+----------+---------------+------+---------+\n",
            "|equilibrio|           3.33|    no|      0.0|\n",
            "|    visual|           4.33|    no|      0.0|\n",
            "|secuencial|           4.83|    si|      1.0|\n",
            "|    visual|            5.0|    si|      1.0|\n",
            "|secuencial|            5.0|    si|      1.0|\n",
            "|equilibrio|           3.83|    no|      0.0|\n",
            "|    visual|            3.5|    no|      0.0|\n",
            "|equilibrio|           4.17|    no|      0.0|\n",
            "|    activo|            1.0|    no|      0.0|\n",
            "|equilibrio|            5.0|    si|      1.0|\n",
            "|    activo|            4.0|    si|      1.0|\n",
            "| sensorial|           3.83|    no|      0.0|\n",
            "|equilibrio|            4.0|    no|      0.0|\n",
            "|secuencial|            3.5|    no|      0.0|\n",
            "|    visual|            5.0|    si|      1.0|\n",
            "|equilibrio|           4.67|    si|      1.0|\n",
            "|secuencial|           4.83|    no|      0.0|\n",
            "|    visual|            3.5|    no|      0.0|\n",
            "|    visual|           4.83|    si|      1.0|\n",
            "|equilibrio|           3.17|    no|      0.0|\n",
            "+----------+---------------+------+---------+\n",
            "only showing top 20 rows\n",
            "\n"
          ]
        }
      ]
    },
    {
      "cell_type": "markdown",
      "metadata": {
        "id": "F1US5DjWiJrH"
      },
      "source": [
        "**Reducción de variables** \n",
        "(en caso de ser necesario)\n",
        "\n"
      ]
    },
    {
      "cell_type": "code",
      "metadata": {
        "id": "cvOSIOel65cH",
        "colab": {
          "base_uri": "https://localhost:8080/"
        },
        "outputId": "6f2e1567-5779-4885-9f65-016ad783426a"
      },
      "source": [
        "estNum.columns"
      ],
      "execution_count": 52,
      "outputs": [
        {
          "output_type": "execute_result",
          "data": {
            "text/plain": [
              "['Examen_admisión',\n",
              " 'equilibrio',\n",
              " 'activo',\n",
              " 'visual',\n",
              " 'reflexivo',\n",
              " 'sensorial',\n",
              " 'intuitivo',\n",
              " 'secuencial',\n",
              " 'verbal',\n",
              " 'AproboInt']"
            ]
          },
          "metadata": {},
          "execution_count": 52
        }
      ]
    },
    {
      "cell_type": "markdown",
      "metadata": {
        "id": "JBfkE4YO7vkm"
      },
      "source": [
        "Creamos un vector que contiene las variables predictoras (eliminamos la variable objetivo)"
      ]
    },
    {
      "cell_type": "code",
      "metadata": {
        "id": "S1qtmxdomg0v"
      },
      "source": [
        "# convert to vector column first\n",
        "vector_col = \"features\"\n",
        "assembler = VectorAssembler(inputCols=estNum.drop('AproboInt').columns, outputCol=vector_col)\n",
        "vest = assembler.transform(estNum)\n",
        "df_vector = vest.select(vector_col)"
      ],
      "execution_count": 53,
      "outputs": []
    },
    {
      "cell_type": "code",
      "metadata": {
        "id": "yqPfHkVpmLMz",
        "colab": {
          "base_uri": "https://localhost:8080/"
        },
        "outputId": "4fb4f861-09bb-4cf8-adc8-45042e6de77c"
      },
      "source": [
        "from pyspark.ml.feature import PCA\n",
        "from pyspark.mllib.linalg import Vectors\n",
        "\n",
        "pca = PCA(k=3, inputCol=vector_col, outputCol=\"pcaFeatures\")\n",
        "model = pca.fit(df_vector)\n",
        "result = model.transform(df_vector).select(\"pcaFeatures\")\n",
        "result.show(truncate=False)"
      ],
      "execution_count": 54,
      "outputs": [
        {
          "output_type": "stream",
          "name": "stdout",
          "text": [
            "+---------------------------------------------------------------+\n",
            "|pcaFeatures                                                    |\n",
            "+---------------------------------------------------------------+\n",
            "|[-3.078391413983551,-1.5352278960086942,0.2747570301727417]    |\n",
            "|[-4.373018774196737,-0.5683493781310729,-0.33940780684333705]  |\n",
            "|[-4.458030098647976,-1.656792837430997,-1.1103595677202422]    |\n",
            "|[-5.000885150943494,-0.7788078850200109,-0.4299328013931667]   |\n",
            "|[-4.617339477822526,-1.7101927570893845,-1.1333285961881094]   |\n",
            "|[-3.546948411555758,-1.692286483239245,0.2072010640907792]     |\n",
            "|[-3.5952141582268733,-0.30763212332835854,-0.22726490314727932]|\n",
            "|[-3.8655671699048586,-1.7990863225560194,0.16126300715504482]  |\n",
            "|[-3.5095944750031287,-1.2282305061642047,-0.5781729779191773]  |\n",
            "|[-4.643371785874723,-2.0598035773587338,0.0491201034589871]    |\n",
            "|[-3.680323330730532,-1.2854581924840578,-0.6027884523363645]   |\n",
            "|[-3.4861771345167494,-1.3242542124560837,-0.9448390245932726]  |\n",
            "|[-3.7062577907303083,-1.7456864028976322,0.18423203562291202]  |\n",
            "|[-3.211668485105905,-1.2390169953977321,-0.9306606979422221]   |\n",
            "|[-5.000885150943494,-0.7788078850200109,-0.4299328013931667]   |\n",
            "|[-4.334124167477066,-1.9561449097865702,0.09370704107308225]   |\n",
            "|[-4.458030098647976,-1.656792837430997,-1.1103595677202422]    |\n",
            "|[-3.5952141582268733,-0.30763212332835854,-0.22726490314727932]|\n",
            "|[-4.8415757717689445,-0.7254079653616234,-0.4069637729252995]  |\n",
            "|[-2.9284531747604445,-1.484969148094918,0.29637493931896974]   |\n",
            "+---------------------------------------------------------------+\n",
            "only showing top 20 rows\n",
            "\n"
          ]
        }
      ]
    },
    {
      "cell_type": "markdown",
      "metadata": {
        "id": "CKu6ST0TTSnP"
      },
      "source": [
        "##**Aprendizaje Supervisado**"
      ]
    },
    {
      "cell_type": "markdown",
      "metadata": {
        "id": "LOXtIaKMa-ke"
      },
      "source": [
        "El aprendizaje supervisado utiliza un conjunto histórico de datos donde se tienen los registros previamente catalogados, para crear un modelo de predicción. Este modelo de predicción aprende de los datos históricos hasta obtener la capacidad de predecir lo que pasará con nuevos conjuntos de datos.\n",
        "\n",
        "Se caracterizan por disponer de una variable objetivo o variable de clase, que es justamente lo que se quiere predecir. Esta variable objetivo puede ser numérica (regresión) o categórica (clasificación)"
      ]
    },
    {
      "cell_type": "markdown",
      "metadata": {
        "id": "80DnuvXQFBLZ"
      },
      "source": [
        "El **ciclo de vida** del aprendizaje supervisado consta de tres fases\n",
        "\n",
        "* **Modelamiento:** Consiste en construir el modelo que permita predecir la variable objetivo\n",
        "* **Evaluación:** Se evalúa el modelo predictivo construido para ver que tanto podemos confiar en el\n",
        "* **Validación:** Una vez el modelo ha sido evaluado y el resultado es el esperado, se someten datos nuevos al modelo para realizar la predicción\n",
        "\n",
        "La etapa de modelamiento y evaluación requieren del conjunto histórico de datos. Esto significa que debemos decidir la forma como se utilizarán los datos históricos en estas dos etapas. Para esto disponemos de tres opciones:\n",
        "\n",
        "* **Evaluar el mismo conjunto de entrenamiento**\n",
        "* **División de datos (Split / 70-30)**\n",
        "* **Validación cruzada**"
      ]
    },
    {
      "cell_type": "markdown",
      "metadata": {
        "id": "1l2bA5koIvGr"
      },
      "source": [
        "###**Predicción continua o Regresión**"
      ]
    },
    {
      "cell_type": "markdown",
      "metadata": {
        "id": "-oxngOnmbLFa"
      },
      "source": [
        "Es el estudio de un conjunto de datos históricos con el fin de predecir un evento numérico futuro.\n",
        "\n",
        "Es decir que la variable objetivo a predecir es de tipo numérica."
      ]
    },
    {
      "cell_type": "markdown",
      "metadata": {
        "id": "534CVcFEG5Jc"
      },
      "source": [
        "**Evaluación**"
      ]
    },
    {
      "cell_type": "markdown",
      "metadata": {
        "id": "biApAd54HBC4"
      },
      "source": [
        "Como la variable a predecir es numérica el error de predicción se calcula al comparar el valor real contra el valor de la predicción y esto se hace con una fórmula matemática de cálculo de error. Existen varias formas de calcular ese error:\n",
        "\n",
        "* Error medio absoluto:\n",
        "\n",
        "$$error = \\frac{\\sum_ {i=1}^n  |f(x)-p(x)|}{n}$$\n",
        "\n",
        "* Error cuadrático medio:\n",
        "$$error = \\frac{1}{n}\\sum(f(x)-p(x))^2$$\n",
        "\n",
        "\n",
        "Donde, \n",
        "* $f(x)$: Valor real\n",
        "* $p(x)$: predicción"
      ]
    },
    {
      "cell_type": "markdown",
      "metadata": {
        "id": "tEeZ2kLjKuet"
      },
      "source": [
        "####**Regresión lineal**"
      ]
    },
    {
      "cell_type": "markdown",
      "metadata": {
        "id": "wNaw86lWKBDG"
      },
      "source": [
        "Permite evaluar la relación entre una variable dependiente (variable a predecir) y un conjunto de variables independientes (variables predictoras)\n",
        "\n",
        "\n",
        "$$Y = \\alpha + \\beta_1 X_1  +  \\beta_2 X_2 + ... + \\beta_n X_n + \\epsilon$$\n",
        "\n",
        "Donde,\n",
        "* $Y$: Variable a predecir\n",
        "* $X$: Variables predictoras (atributos)\n",
        "* $\\alpha$: Intercepto\n",
        "* $\\beta$: Pendiente\n",
        "* $\\epsilon$: Error\n",
        "\n",
        "Básicamente lo que se hace es encontrar la ecuación de la recta que mejor represente al conjunto de datos, de modo que se pueda utilizar dicha ecuación para la predicción de nuevos registros\n",
        "\n",
        "\n"
      ]
    },
    {
      "cell_type": "markdown",
      "metadata": {
        "id": "c2x5qVe80uHu"
      },
      "source": [
        ""
      ]
    },
    {
      "cell_type": "markdown",
      "metadata": {
        "id": "aIae9fVuL11u"
      },
      "source": [
        "**Ejemplo: Predicción del precio de venta de una propiedad en Boston**\n",
        "\n",
        "\n",
        "Tomado de: https://www.kaggle.com/kyasar/boston-housing"
      ]
    },
    {
      "cell_type": "markdown",
      "metadata": {
        "id": "aOs2SfX70rqB"
      },
      "source": [
        "**1. Preparar**"
      ]
    },
    {
      "cell_type": "markdown",
      "metadata": {
        "id": "gvR4JxbgMaJ7"
      },
      "source": [
        "Carga de datos"
      ]
    },
    {
      "cell_type": "code",
      "metadata": {
        "id": "F77Y0gBmMbvJ",
        "colab": {
          "base_uri": "https://localhost:8080/"
        },
        "outputId": "438ad6ef-b192-416f-810d-298af1748bf9"
      },
      "source": [
        "boston = sqlCtx.read.format(\"csv\") \\\n",
        "      .option(\"header\", True) \\\n",
        "      .option(\"delimiter\", \",\") \\\n",
        "      .option(\"inferschema\",True) \\\n",
        "      .load(\"local/data/boston_housing.csv\")\n",
        "boston.cache()\n",
        "boston.printSchema()"
      ],
      "execution_count": 55,
      "outputs": [
        {
          "output_type": "stream",
          "name": "stdout",
          "text": [
            "root\n",
            " |-- crim: double (nullable = true)\n",
            " |-- zn: double (nullable = true)\n",
            " |-- indus: double (nullable = true)\n",
            " |-- chas: integer (nullable = true)\n",
            " |-- nox: double (nullable = true)\n",
            " |-- rm: double (nullable = true)\n",
            " |-- age: double (nullable = true)\n",
            " |-- dis: double (nullable = true)\n",
            " |-- rad: integer (nullable = true)\n",
            " |-- tax: double (nullable = true)\n",
            " |-- ptratio: double (nullable = true)\n",
            " |-- black: double (nullable = true)\n",
            " |-- lstat: double (nullable = true)\n",
            " |-- medv: double (nullable = true)\n",
            "\n"
          ]
        }
      ]
    },
    {
      "cell_type": "markdown",
      "metadata": {
        "id": "xYJVxgeaMcpD"
      },
      "source": [
        "Esta es la descripción de las variables disponibles:\n",
        "\n",
        "* crim : Tasa de delincuencia per cápita por población\n",
        "* zn:  Proporción de terreno residencial dividido en zonas para lotes de más de 25,000 pies cuadrados.\n",
        "* indus : Proporción de terrenos comerciales no minoristas por población.\n",
        "* chas: Indica si la propiedad limita o no con el río (1 si limita con el río. 0 en caso contrario).\n",
        "* nox: Concentración de óxidos nítricos (partes por 10 millones).\n",
        "* rm : Promedio de habitaciones por vivienda.\n",
        "* age : Proporción de unidades ocupadas por sus propietarios construidas antes de 1940\n",
        "* dis : Distancias ponderadas a cinco centros de empleo de Boston\n",
        "* rad: índice de accesibilidad a carreteras principales.\n",
        "* tax : tasa de impuesto a la propiedad.\n",
        "* ptratio: Proporción alumno-profesor.\n",
        "* black: Proporción de negros por ciudad.\n",
        "* lstat: Estatus más bajo de la población (porcentaje).\n",
        "* **mv : valor medio de las viviendas en $ 1000. Esta es la variable objetivo.**"
      ]
    },
    {
      "cell_type": "markdown",
      "metadata": {
        "id": "o9D-dqRnRwGi"
      },
      "source": [
        "Descripción estadística de los datos"
      ]
    },
    {
      "cell_type": "code",
      "metadata": {
        "id": "7TnawsXbu0fa",
        "colab": {
          "base_uri": "https://localhost:8080/"
        },
        "outputId": "6b8f7f7a-a9df-43f0-d1ee-bc812df48bab"
      },
      "source": [
        "boston.describe().show()"
      ],
      "execution_count": 56,
      "outputs": [
        {
          "output_type": "stream",
          "name": "stdout",
          "text": [
            "+-------+------------------+------------------+------------------+------------------+-------------------+------------------+------------------+-----------------+-----------------+------------------+------------------+------------------+------------------+------------------+\n",
            "|summary|              crim|                zn|             indus|              chas|                nox|                rm|               age|              dis|              rad|               tax|           ptratio|             black|             lstat|              medv|\n",
            "+-------+------------------+------------------+------------------+------------------+-------------------+------------------+------------------+-----------------+-----------------+------------------+------------------+------------------+------------------+------------------+\n",
            "|  count|               506|               506|               506|               506|                506|               506|               506|              506|              506|               506|               506|               506|               506|               506|\n",
            "|   mean|3.6135235573122535|11.363636363636363|11.136778656126504|0.0691699604743083| 0.5546950592885372| 6.284634387351787| 68.57490118577078|3.795042687747034|9.549407114624506| 408.2371541501976|18.455533596837967|356.67403162055257|12.653063241106723|22.532806324110698|\n",
            "| stddev| 8.601545105332491| 23.32245299451514| 6.860352940897589|0.2539940413404101|0.11587767566755584|0.7026171434153232|28.148861406903595| 2.10571012662761|8.707259384239366|168.53711605495903|2.1649455237144455| 91.29486438415782| 7.141061511348571| 9.197104087379815|\n",
            "|    min|           0.00632|               0.0|              0.46|                 0|              0.385|             3.561|               2.9|           1.1296|                1|             187.0|              12.6|              0.32|              1.73|               5.0|\n",
            "|    max|           88.9762|             100.0|             27.74|                 1|              0.871|              8.78|             100.0|          12.1265|               24|             711.0|              22.0|             396.9|             37.97|              50.0|\n",
            "+-------+------------------+------------------+------------------+------------------+-------------------+------------------+------------------+-----------------+-----------------+------------------+------------------+------------------+------------------+------------------+\n",
            "\n"
          ]
        }
      ]
    },
    {
      "cell_type": "code",
      "metadata": {
        "id": "okGbxWfwRyf5",
        "colab": {
          "base_uri": "https://localhost:8080/",
          "height": 514
        },
        "outputId": "d215041b-9f71-47a4-af97-ec9275e85884"
      },
      "source": [
        "boston.describe().toPandas().transpose()"
      ],
      "execution_count": 57,
      "outputs": [
        {
          "output_type": "execute_result",
          "data": {
            "text/html": [
              "<div>\n",
              "<style scoped>\n",
              "    .dataframe tbody tr th:only-of-type {\n",
              "        vertical-align: middle;\n",
              "    }\n",
              "\n",
              "    .dataframe tbody tr th {\n",
              "        vertical-align: top;\n",
              "    }\n",
              "\n",
              "    .dataframe thead th {\n",
              "        text-align: right;\n",
              "    }\n",
              "</style>\n",
              "<table border=\"1\" class=\"dataframe\">\n",
              "  <thead>\n",
              "    <tr style=\"text-align: right;\">\n",
              "      <th></th>\n",
              "      <th>0</th>\n",
              "      <th>1</th>\n",
              "      <th>2</th>\n",
              "      <th>3</th>\n",
              "      <th>4</th>\n",
              "    </tr>\n",
              "  </thead>\n",
              "  <tbody>\n",
              "    <tr>\n",
              "      <th>summary</th>\n",
              "      <td>count</td>\n",
              "      <td>mean</td>\n",
              "      <td>stddev</td>\n",
              "      <td>min</td>\n",
              "      <td>max</td>\n",
              "    </tr>\n",
              "    <tr>\n",
              "      <th>crim</th>\n",
              "      <td>506</td>\n",
              "      <td>3.6135235573122535</td>\n",
              "      <td>8.601545105332491</td>\n",
              "      <td>0.00632</td>\n",
              "      <td>88.9762</td>\n",
              "    </tr>\n",
              "    <tr>\n",
              "      <th>zn</th>\n",
              "      <td>506</td>\n",
              "      <td>11.363636363636363</td>\n",
              "      <td>23.32245299451514</td>\n",
              "      <td>0.0</td>\n",
              "      <td>100.0</td>\n",
              "    </tr>\n",
              "    <tr>\n",
              "      <th>indus</th>\n",
              "      <td>506</td>\n",
              "      <td>11.136778656126504</td>\n",
              "      <td>6.860352940897589</td>\n",
              "      <td>0.46</td>\n",
              "      <td>27.74</td>\n",
              "    </tr>\n",
              "    <tr>\n",
              "      <th>chas</th>\n",
              "      <td>506</td>\n",
              "      <td>0.0691699604743083</td>\n",
              "      <td>0.2539940413404101</td>\n",
              "      <td>0</td>\n",
              "      <td>1</td>\n",
              "    </tr>\n",
              "    <tr>\n",
              "      <th>nox</th>\n",
              "      <td>506</td>\n",
              "      <td>0.5546950592885372</td>\n",
              "      <td>0.11587767566755584</td>\n",
              "      <td>0.385</td>\n",
              "      <td>0.871</td>\n",
              "    </tr>\n",
              "    <tr>\n",
              "      <th>rm</th>\n",
              "      <td>506</td>\n",
              "      <td>6.284634387351787</td>\n",
              "      <td>0.7026171434153232</td>\n",
              "      <td>3.561</td>\n",
              "      <td>8.78</td>\n",
              "    </tr>\n",
              "    <tr>\n",
              "      <th>age</th>\n",
              "      <td>506</td>\n",
              "      <td>68.57490118577078</td>\n",
              "      <td>28.148861406903595</td>\n",
              "      <td>2.9</td>\n",
              "      <td>100.0</td>\n",
              "    </tr>\n",
              "    <tr>\n",
              "      <th>dis</th>\n",
              "      <td>506</td>\n",
              "      <td>3.795042687747034</td>\n",
              "      <td>2.10571012662761</td>\n",
              "      <td>1.1296</td>\n",
              "      <td>12.1265</td>\n",
              "    </tr>\n",
              "    <tr>\n",
              "      <th>rad</th>\n",
              "      <td>506</td>\n",
              "      <td>9.549407114624506</td>\n",
              "      <td>8.707259384239366</td>\n",
              "      <td>1</td>\n",
              "      <td>24</td>\n",
              "    </tr>\n",
              "    <tr>\n",
              "      <th>tax</th>\n",
              "      <td>506</td>\n",
              "      <td>408.2371541501976</td>\n",
              "      <td>168.53711605495903</td>\n",
              "      <td>187.0</td>\n",
              "      <td>711.0</td>\n",
              "    </tr>\n",
              "    <tr>\n",
              "      <th>ptratio</th>\n",
              "      <td>506</td>\n",
              "      <td>18.455533596837967</td>\n",
              "      <td>2.1649455237144455</td>\n",
              "      <td>12.6</td>\n",
              "      <td>22.0</td>\n",
              "    </tr>\n",
              "    <tr>\n",
              "      <th>black</th>\n",
              "      <td>506</td>\n",
              "      <td>356.67403162055257</td>\n",
              "      <td>91.29486438415782</td>\n",
              "      <td>0.32</td>\n",
              "      <td>396.9</td>\n",
              "    </tr>\n",
              "    <tr>\n",
              "      <th>lstat</th>\n",
              "      <td>506</td>\n",
              "      <td>12.653063241106723</td>\n",
              "      <td>7.141061511348571</td>\n",
              "      <td>1.73</td>\n",
              "      <td>37.97</td>\n",
              "    </tr>\n",
              "    <tr>\n",
              "      <th>medv</th>\n",
              "      <td>506</td>\n",
              "      <td>22.532806324110698</td>\n",
              "      <td>9.197104087379815</td>\n",
              "      <td>5.0</td>\n",
              "      <td>50.0</td>\n",
              "    </tr>\n",
              "  </tbody>\n",
              "</table>\n",
              "</div>"
            ],
            "text/plain": [
              "             0                   1                    2        3        4\n",
              "summary  count                mean               stddev      min      max\n",
              "crim       506  3.6135235573122535    8.601545105332491  0.00632  88.9762\n",
              "zn         506  11.363636363636363    23.32245299451514      0.0    100.0\n",
              "indus      506  11.136778656126504    6.860352940897589     0.46    27.74\n",
              "chas       506  0.0691699604743083   0.2539940413404101        0        1\n",
              "nox        506  0.5546950592885372  0.11587767566755584    0.385    0.871\n",
              "rm         506   6.284634387351787   0.7026171434153232    3.561     8.78\n",
              "age        506   68.57490118577078   28.148861406903595      2.9    100.0\n",
              "dis        506   3.795042687747034     2.10571012662761   1.1296  12.1265\n",
              "rad        506   9.549407114624506    8.707259384239366        1       24\n",
              "tax        506   408.2371541501976   168.53711605495903    187.0    711.0\n",
              "ptratio    506  18.455533596837967   2.1649455237144455     12.6     22.0\n",
              "black      506  356.67403162055257    91.29486438415782     0.32    396.9\n",
              "lstat      506  12.653063241106723    7.141061511348571     1.73    37.97\n",
              "medv       506  22.532806324110698    9.197104087379815      5.0     50.0"
            ]
          },
          "metadata": {},
          "execution_count": 57
        }
      ]
    },
    {
      "cell_type": "markdown",
      "metadata": {
        "id": "Zd1P2umTZUXG"
      },
      "source": [
        "Análisis de correlación"
      ]
    },
    {
      "cell_type": "code",
      "metadata": {
        "id": "0gQSZnEbZT7u",
        "colab": {
          "base_uri": "https://localhost:8080/"
        },
        "outputId": "21f34646-5c46-444a-9dcd-05c57983ff7d"
      },
      "source": [
        "import six\n",
        "print(\"Correlación con la variable objetivo\")\n",
        "for i in boston.columns:\n",
        "    if not( isinstance(boston.select(i).take(1)[0][0], six.string_types)):\n",
        "        print( \"\", i, boston.stat.corr('medv',i))"
      ],
      "execution_count": 58,
      "outputs": [
        {
          "output_type": "stream",
          "name": "stdout",
          "text": [
            "Correlación con la variable objetivo\n",
            " crim -0.38830460858681154\n",
            " zn 0.3604453424505433\n",
            " indus -0.4837251600283728\n",
            " chas 0.1752601771902987\n",
            " nox -0.4273207723732821\n",
            " rm 0.6953599470715401\n",
            " age -0.3769545650045961\n",
            " dis 0.249928734085904\n",
            " rad -0.38162623063977735\n",
            " tax -0.46853593356776674\n",
            " ptratio -0.5077866855375622\n",
            " black 0.3334608196570661\n",
            " lstat -0.7376627261740145\n",
            " medv 1.0\n"
          ]
        }
      ]
    },
    {
      "cell_type": "markdown",
      "metadata": {
        "id": "uHofhJDXqONe"
      },
      "source": [
        "Si dispone de muchas variables, se recomienda eliminar aquellas que presentan una correlación baja con la variable objetivo (<0.3)"
      ]
    },
    {
      "cell_type": "code",
      "metadata": {
        "id": "4IfKnZPhqZ38",
        "colab": {
          "base_uri": "https://localhost:8080/"
        },
        "outputId": "da69fe33-4b3a-41f0-d225-90281c5a172a"
      },
      "source": [
        "boston=boston.drop(\"chas\",\"dis\")\n",
        "boston.columns"
      ],
      "execution_count": 59,
      "outputs": [
        {
          "output_type": "execute_result",
          "data": {
            "text/plain": [
              "['crim',\n",
              " 'zn',\n",
              " 'indus',\n",
              " 'nox',\n",
              " 'rm',\n",
              " 'age',\n",
              " 'rad',\n",
              " 'tax',\n",
              " 'ptratio',\n",
              " 'black',\n",
              " 'lstat',\n",
              " 'medv']"
            ]
          },
          "metadata": {},
          "execution_count": 59
        }
      ]
    },
    {
      "cell_type": "markdown",
      "metadata": {
        "id": "E4986Z6afumq"
      },
      "source": [
        "Para aplicar la técnica de Machine Learning se requiere representar los datos mediante dos columnas, una con las variables predictoras (features) y la otra es la variable objetivo"
      ]
    },
    {
      "cell_type": "code",
      "metadata": {
        "id": "qKJrFUwNgBTq",
        "colab": {
          "base_uri": "https://localhost:8080/"
        },
        "outputId": "51b6e387-b5ad-4c95-c77c-977d7a62277d"
      },
      "source": [
        "from pyspark.ml.feature import VectorAssembler\n",
        "\n",
        "vectorAssembler = VectorAssembler(inputCols = \\\n",
        "    ['crim', 'zn', 'indus', 'nox', 'rm', 'age', 'rad', 'tax', 'ptratio', 'black', 'lstat'], outputCol = 'features')\n",
        "vboston = vectorAssembler.transform(boston)\n",
        "vboston.show(1)"
      ],
      "execution_count": 60,
      "outputs": [
        {
          "output_type": "stream",
          "name": "stdout",
          "text": [
            "+-------+----+-----+-----+-----+----+---+-----+-------+-----+-----+----+--------------------+\n",
            "|   crim|  zn|indus|  nox|   rm| age|rad|  tax|ptratio|black|lstat|medv|            features|\n",
            "+-------+----+-----+-----+-----+----+---+-----+-------+-----+-----+----+--------------------+\n",
            "|0.00632|18.0| 2.31|0.538|6.575|65.2|  1|296.0|   15.3|396.9| 4.98|24.0|[0.00632,18.0,2.3...|\n",
            "+-------+----+-----+-----+-----+----+---+-----+-------+-----+-----+----+--------------------+\n",
            "only showing top 1 row\n",
            "\n"
          ]
        }
      ]
    },
    {
      "cell_type": "markdown",
      "metadata": {
        "id": "OHk_uSKogu-z"
      },
      "source": [
        "Nos quedamos solo con las variables features y medv"
      ]
    },
    {
      "cell_type": "code",
      "metadata": {
        "id": "v8IAa6PRg3cJ",
        "colab": {
          "base_uri": "https://localhost:8080/"
        },
        "outputId": "372cf136-a65d-4754-c994-b38c25b7be00"
      },
      "source": [
        "vboston = vboston.select(['features', 'medv'])\n",
        "vboston.show(3)"
      ],
      "execution_count": 61,
      "outputs": [
        {
          "output_type": "stream",
          "name": "stdout",
          "text": [
            "+--------------------+----+\n",
            "|            features|medv|\n",
            "+--------------------+----+\n",
            "|[0.00632,18.0,2.3...|24.0|\n",
            "|[0.02731,0.0,7.07...|21.6|\n",
            "|[0.02729,0.0,7.07...|34.7|\n",
            "+--------------------+----+\n",
            "only showing top 3 rows\n",
            "\n"
          ]
        }
      ]
    },
    {
      "cell_type": "markdown",
      "metadata": {
        "id": "MoZJ52uKsRsV"
      },
      "source": [
        "Ahora veamos la correlación entre las variables predictoras"
      ]
    },
    {
      "cell_type": "code",
      "metadata": {
        "id": "jvRlcKb2s15L",
        "colab": {
          "base_uri": "https://localhost:8080/"
        },
        "outputId": "bd01ab3e-c71b-452e-b810-275644e9379e"
      },
      "source": [
        "matrix = Correlation.corr(vboston,\"features\")\n",
        "matrix.collect()[0][\"pearson({})\".format(\"features\")].values"
      ],
      "execution_count": 62,
      "outputs": [
        {
          "output_type": "execute_result",
          "data": {
            "text/plain": [
              "array([ 1.        , -0.20046922,  0.40658341,  0.42097171, -0.2192467 ,\n",
              "        0.35273425,  0.62550515,  0.58276431,  0.28994558, -0.38506394,\n",
              "        0.45562148, -0.20046922,  1.        , -0.53382819, -0.51660371,\n",
              "        0.31199059, -0.56953734, -0.31194783, -0.31456332, -0.39167855,\n",
              "        0.17552032, -0.41299457,  0.40658341, -0.53382819,  1.        ,\n",
              "        0.76365145, -0.39167585,  0.64477851,  0.59512927,  0.72076018,\n",
              "        0.38324756, -0.35697654,  0.60379972,  0.42097171, -0.51660371,\n",
              "        0.76365145,  1.        , -0.30218819,  0.7314701 ,  0.61144056,\n",
              "        0.6680232 ,  0.18893268, -0.38005064,  0.59087892, -0.2192467 ,\n",
              "        0.31199059, -0.39167585, -0.30218819,  1.        , -0.24026493,\n",
              "       -0.20984667, -0.29204783, -0.35550149,  0.12806864, -0.61380827,\n",
              "        0.35273425, -0.56953734,  0.64477851,  0.7314701 , -0.24026493,\n",
              "        1.        ,  0.45602245,  0.50645559,  0.26151501, -0.27353398,\n",
              "        0.60233853,  0.62550515, -0.31194783,  0.59512927,  0.61144056,\n",
              "       -0.20984667,  0.45602245,  1.        ,  0.91022819,  0.46474118,\n",
              "       -0.44441282,  0.48867633,  0.58276431, -0.31456332,  0.72076018,\n",
              "        0.6680232 , -0.29204783,  0.50645559,  0.91022819,  1.        ,\n",
              "        0.46085304, -0.44180801,  0.54399341,  0.28994558, -0.39167855,\n",
              "        0.38324756,  0.18893268, -0.35550149,  0.26151501,  0.46474118,\n",
              "        0.46085304,  1.        , -0.1773833 ,  0.37404432, -0.38506394,\n",
              "        0.17552032, -0.35697654, -0.38005064,  0.12806864, -0.27353398,\n",
              "       -0.44441282, -0.44180801, -0.1773833 ,  1.        , -0.3660869 ,\n",
              "        0.45562148, -0.41299457,  0.60379972,  0.59087892, -0.61380827,\n",
              "        0.60233853,  0.48867633,  0.54399341,  0.37404432, -0.3660869 ,\n",
              "        1.        ])"
            ]
          },
          "metadata": {},
          "execution_count": 62
        }
      ]
    },
    {
      "cell_type": "code",
      "metadata": {
        "id": "q8fBkXrBwlQv",
        "colab": {
          "base_uri": "https://localhost:8080/"
        },
        "outputId": "ba010bd4-2923-4a7c-fd39-cfa61ea1716f"
      },
      "source": [
        "print(\"Correlación entre tax y indus: \",boston.corr(\"tax\",\"indus\"))\n",
        "print(\"Correlación entre nox y indus: \",boston.corr(\"nox\",\"indus\"))\n",
        "print(\"Correlación entre nox y age: \",  boston.corr(\"nox\",\"age\"))\n",
        "print(\"Correlación entre tax y rad: \",  boston.corr(\"tax\",\"rad\"))\n"
      ],
      "execution_count": 63,
      "outputs": [
        {
          "output_type": "stream",
          "name": "stdout",
          "text": [
            "Correlación entre tax y indus:  0.7207601799515422\n",
            "Correlación entre nox y indus:  0.7636514469209139\n",
            "Correlación entre nox y age:  0.7314701037859592\n",
            "Correlación entre tax y rad:  0.9102281885331867\n"
          ]
        }
      ]
    },
    {
      "cell_type": "markdown",
      "metadata": {
        "id": "KPgxJpIT0c9L"
      },
      "source": [
        "Eliminemos las variables correlacionadas y creemos nuevamente el vector de características"
      ]
    },
    {
      "cell_type": "code",
      "metadata": {
        "id": "oj-MoN-lzoNP",
        "colab": {
          "base_uri": "https://localhost:8080/"
        },
        "outputId": "4c904053-340c-452d-c930-5c5ffc8c5ab0"
      },
      "source": [
        "boston=boston.drop(\"tax\",\"nox\")\n",
        "vectorAssembler = VectorAssembler(inputCols = \\\n",
        "    ['crim', 'zn', 'indus', 'rm', 'age', 'rad', 'ptratio', 'black', 'lstat'], outputCol = 'features')\n",
        "vboston = vectorAssembler.transform(boston)\n",
        "vboston = vboston.select(['features', 'medv'])\n",
        "vboston.show(3)"
      ],
      "execution_count": 64,
      "outputs": [
        {
          "output_type": "stream",
          "name": "stdout",
          "text": [
            "+--------------------+----+\n",
            "|            features|medv|\n",
            "+--------------------+----+\n",
            "|[0.00632,18.0,2.3...|24.0|\n",
            "|[0.02731,0.0,7.07...|21.6|\n",
            "|[0.02729,0.0,7.07...|34.7|\n",
            "+--------------------+----+\n",
            "only showing top 3 rows\n",
            "\n"
          ]
        }
      ]
    },
    {
      "cell_type": "markdown",
      "metadata": {
        "id": "FJmyxSf3hXc5"
      },
      "source": [
        "Creamos los conjuntos de datos de entrenamiento y evaluación (Split)"
      ]
    },
    {
      "cell_type": "code",
      "metadata": {
        "id": "If4wlrfChc4B",
        "colab": {
          "base_uri": "https://localhost:8080/"
        },
        "outputId": "9452ac9f-728b-44cf-f3b1-5d2d07d4be88"
      },
      "source": [
        "(trainingData, testData) = vboston.randomSplit([0.7, 0.3])\n",
        "print(trainingData.count())\n",
        "print(testData.count())"
      ],
      "execution_count": 65,
      "outputs": [
        {
          "output_type": "stream",
          "name": "stdout",
          "text": [
            "349\n",
            "157\n"
          ]
        }
      ]
    },
    {
      "cell_type": "markdown",
      "metadata": {
        "id": "LR8YXzbChxYa"
      },
      "source": [
        "**2. Modelar**"
      ]
    },
    {
      "cell_type": "code",
      "metadata": {
        "id": "MMUDLzOyh0Ro"
      },
      "source": [
        "from pyspark.ml.regression import LinearRegression\n",
        "\n",
        "lr = LinearRegression(featuresCol = 'features', labelCol='medv', maxIter=10, regParam=0.3, elasticNetParam=0.8)\n",
        "lr_model = lr.fit(trainingData)\n",
        "trainingSummary = lr_model.summary"
      ],
      "execution_count": 66,
      "outputs": []
    },
    {
      "cell_type": "markdown",
      "metadata": {
        "id": "v4o-FVN83AG6"
      },
      "source": [
        "Veamos la predicción con los datos de entrenamiento"
      ]
    },
    {
      "cell_type": "code",
      "metadata": {
        "id": "BYyS8Bem2s0j",
        "colab": {
          "base_uri": "https://localhost:8080/"
        },
        "outputId": "68e24910-ea98-4b06-e6c7-64f347e04342"
      },
      "source": [
        "trainingSummary.predictions.select(\"prediction\",\"medv\").show(5)"
      ],
      "execution_count": 67,
      "outputs": [
        {
          "output_type": "stream",
          "name": "stdout",
          "text": [
            "+------------------+----+\n",
            "|        prediction|medv|\n",
            "+------------------+----+\n",
            "|31.387910856292958|32.2|\n",
            "| 33.05367299173713|32.7|\n",
            "|31.587059668032257|35.4|\n",
            "|18.049861201518702|18.9|\n",
            "| 38.07982830207288|50.0|\n",
            "+------------------+----+\n",
            "only showing top 5 rows\n",
            "\n"
          ]
        }
      ]
    },
    {
      "cell_type": "markdown",
      "metadata": {
        "id": "K2S6RfkM3R3x"
      },
      "source": [
        "El método de regresión lineal construye la ecuación de la recta que mas se ajuste a los datos."
      ]
    },
    {
      "cell_type": "code",
      "metadata": {
        "id": "h6YELOVs3hPC",
        "colab": {
          "base_uri": "https://localhost:8080/"
        },
        "outputId": "8523f818-5cf2-4ae3-f74e-0ffc18ad73cb"
      },
      "source": [
        "print(\"Coeficientes: \" + str(lr_model.coefficients))\n",
        "print(\"Intercepto: \" + str(lr_model.intercept))\n",
        "print(\"Variables:\")\n",
        "boston.columns"
      ],
      "execution_count": 68,
      "outputs": [
        {
          "output_type": "stream",
          "name": "stdout",
          "text": [
            "Coeficientes: [-0.05624838831695068,0.0,0.0,4.783825415331121,0.0,0.0,-0.7613025169347449,0.007802841487037677,-0.46023876041930584]\n",
            "Intercepto: 9.661531109453765\n",
            "Variables:\n"
          ]
        },
        {
          "output_type": "execute_result",
          "data": {
            "text/plain": [
              "['crim',\n",
              " 'zn',\n",
              " 'indus',\n",
              " 'rm',\n",
              " 'age',\n",
              " 'rad',\n",
              " 'ptratio',\n",
              " 'black',\n",
              " 'lstat',\n",
              " 'medv']"
            ]
          },
          "metadata": {},
          "execution_count": 68
        }
      ]
    },
    {
      "cell_type": "markdown",
      "metadata": {
        "id": "7jQVLTjUipvo"
      },
      "source": [
        "Veamos las medidas de error"
      ]
    },
    {
      "cell_type": "code",
      "metadata": {
        "id": "ZopfZ3ahizox",
        "colab": {
          "base_uri": "https://localhost:8080/"
        },
        "outputId": "05d2e31c-08f2-495b-be51-292a54f9c96f"
      },
      "source": [
        "print(\"Error cuadrático medio (MSE): %f\" % trainingSummary.meanSquaredError)\n",
        "print(\"Error medio absoluto (MAE): %f\" % trainingSummary.meanAbsoluteError)\n",
        "print(\"Raíz del Error cuadrático medio (RMSE): %f\" % trainingSummary.rootMeanSquaredError)\n",
        "print(\"Coeficiente de determinación (r2): %f\" % trainingSummary.r2)\n",
        "print(\"Coeficiente de determinación ajustado (r2Adj): %f\" % trainingSummary.r2adj)"
      ],
      "execution_count": 69,
      "outputs": [
        {
          "output_type": "stream",
          "name": "stdout",
          "text": [
            "Error cuadrático medio (MSE): 25.930803\n",
            "Error medio absoluto (MAE): 3.434106\n",
            "Raíz del Error cuadrático medio (RMSE): 5.092230\n",
            "Coeficiente de determinación (r2): 0.680923\n",
            "Coeficiente de determinación ajustado (r2Adj): 0.672452\n"
          ]
        }
      ]
    },
    {
      "cell_type": "markdown",
      "metadata": {
        "id": "-mdlkUZXjwSg"
      },
      "source": [
        "\n",
        "**3. Evaluar**"
      ]
    },
    {
      "cell_type": "code",
      "metadata": {
        "id": "87rtcQGUj3af",
        "colab": {
          "base_uri": "https://localhost:8080/"
        },
        "outputId": "37fd78e0-0e30-4aad-8382-ec5d32485bd7"
      },
      "source": [
        "from pyspark.ml.evaluation import RegressionEvaluator\n",
        "\n",
        "lr_predictions = lr_model.transform(testData)\n",
        "lr_predictions.select(\"prediction\",\"medv\").show(5)\n",
        "\n",
        "lr_evaluator = RegressionEvaluator(predictionCol=\"prediction\", \\\n",
        "                 labelCol=\"medv\",metricName=\"r2\")\n",
        "print(\"Coeficiente de determinación con los datos de evaluación = %g\" % lr_evaluator.evaluate(lr_predictions))"
      ],
      "execution_count": 70,
      "outputs": [
        {
          "output_type": "stream",
          "name": "stdout",
          "text": [
            "+------------------+----+\n",
            "|        prediction|medv|\n",
            "+------------------+----+\n",
            "| 30.27185797565724|24.0|\n",
            "|28.175184116660564|22.0|\n",
            "| 28.75283834000732|24.5|\n",
            "|  27.3395211862493|23.1|\n",
            "|28.847970003911012|33.0|\n",
            "+------------------+----+\n",
            "only showing top 5 rows\n",
            "\n",
            "Coeficiente de determinación con los datos de evaluación = 0.695771\n"
          ]
        }
      ]
    },
    {
      "cell_type": "code",
      "metadata": {
        "id": "xhd7H-FnlMnH",
        "colab": {
          "base_uri": "https://localhost:8080/"
        },
        "outputId": "2187b2da-b6b5-4e05-abeb-8c8903bee747"
      },
      "source": [
        "test_result = lr_model.evaluate(testData)\n",
        "print(\"Error cuadrático medio con los datos de evaluación = %g\" % test_result.meanSquaredError)\n",
        "print(\"Raiz del Error cuadrático medio con los datos de evaluación = %g\" % test_result.rootMeanSquaredError)\n",
        "print(\"Error medio absoluto con los datos de evaluación = %g\" % test_result.meanAbsoluteError)\n",
        "print(\"Coeficiente de determinación con los datos de evaluación = %g\" % test_result.r2)\n",
        "print(\"Coeficiente de determinación ajustado con los datos de evaluación = %g\" % test_result.r2adj)"
      ],
      "execution_count": 71,
      "outputs": [
        {
          "output_type": "stream",
          "name": "stdout",
          "text": [
            "Error cuadrático medio con los datos de evaluación = 27.7071\n",
            "Raiz del Error cuadrático medio con los datos de evaluación = 5.26376\n",
            "Error medio absoluto con los datos de evaluación = 3.61589\n",
            "Coeficiente de determinación con los datos de evaluación = 0.695771\n",
            "Coeficiente de determinación ajustado con los datos de evaluación = 0.677144\n"
          ]
        }
      ]
    },
    {
      "cell_type": "markdown",
      "metadata": {
        "id": "htUKk--PK3CC"
      },
      "source": [
        "####**Árboles de decisión para regresión**"
      ]
    },
    {
      "cell_type": "markdown",
      "metadata": {
        "id": "zAS-JanfJIL_"
      },
      "source": [
        "El método de árboles de decisión está disponible tanto para predecir números (árboles de regresión) como para predecir categorías (árboles de clasificación).\n",
        "\n",
        "Su funcionamiento se basa en representar el conjunto histórico de datos a través de un árbol en el que tendremos dos componentes:\n",
        "* Nodos: presentan una pregunta sobre algunos de los atributos y se genera una bifurcación a partir de la respuesta\n",
        "* Hojas: Están al final de cada rama y son los valores de la predicción\n",
        "\n",
        "\n",
        "Cuando se somete un registro al árbol de decisión, este recorre el árbol a través de las respuestas generadas en cada nodo, y al final llegará a una hoja que indica la predicción.\n",
        "\n",
        "En el caso de los árboles de regresión, la variable a predecir es numérica, es decir que el resultado final de la predicción será un número "
      ]
    },
    {
      "cell_type": "markdown",
      "metadata": {
        "id": "0IuFzl67m05Q"
      },
      "source": [
        "**Ejemplo: Predicción del precio de venta de una propiedad en Boston**"
      ]
    },
    {
      "cell_type": "markdown",
      "metadata": {
        "id": "gVnwpGsVhA-b"
      },
      "source": [
        "**Modelar**"
      ]
    },
    {
      "cell_type": "code",
      "metadata": {
        "id": "82lQn7ymm-2L"
      },
      "source": [
        "from pyspark.ml.regression import DecisionTreeRegressor\n",
        "dt = DecisionTreeRegressor(featuresCol ='features', labelCol = 'medv')\n",
        "dt_model = dt.fit(trainingData)"
      ],
      "execution_count": 72,
      "outputs": []
    },
    {
      "cell_type": "markdown",
      "metadata": {
        "id": "0b5FQby14rDi"
      },
      "source": [
        "Veamos la predicción con los datos de entrenamiento"
      ]
    },
    {
      "cell_type": "code",
      "metadata": {
        "id": "B6I8D6iI4sza",
        "colab": {
          "base_uri": "https://localhost:8080/"
        },
        "outputId": "d09c697f-7d49-4cb8-9ccb-dc4d6f82e3dc"
      },
      "source": [
        "dt_model.transform(trainingData).select(\"prediction\",\"medv\").show(5)"
      ],
      "execution_count": 73,
      "outputs": [
        {
          "output_type": "stream",
          "name": "stdout",
          "text": [
            "+------------------+----+\n",
            "|        prediction|medv|\n",
            "+------------------+----+\n",
            "| 26.61538461538462|32.2|\n",
            "| 34.25833333333333|32.7|\n",
            "| 34.25833333333333|35.4|\n",
            "|20.292187500000004|18.9|\n",
            "|              50.0|50.0|\n",
            "+------------------+----+\n",
            "only showing top 5 rows\n",
            "\n"
          ]
        }
      ]
    },
    {
      "cell_type": "markdown",
      "metadata": {
        "id": "rRdmIiA7hDGO"
      },
      "source": [
        "**Evaluar**"
      ]
    },
    {
      "cell_type": "code",
      "metadata": {
        "id": "3WoC66bphEb_",
        "colab": {
          "base_uri": "https://localhost:8080/"
        },
        "outputId": "03b566a6-28f9-4ef9-8488-5b733c997aef"
      },
      "source": [
        "dt_predictions = dt_model.transform(testData)\n",
        "dt_predictions.select(\"prediction\",\"medv\").show(5)\n",
        "\n",
        "dt_evaluator = RegressionEvaluator(\n",
        "    labelCol=\"medv\", predictionCol=\"prediction\", metricName=\"r2\")\n",
        "print(\"Coeficiente de determinación con los datos de evaluación = %g\" % dt_evaluator.evaluate(dt_predictions))"
      ],
      "execution_count": 74,
      "outputs": [
        {
          "output_type": "stream",
          "name": "stdout",
          "text": [
            "+------------------+----+\n",
            "|        prediction|medv|\n",
            "+------------------+----+\n",
            "|31.469565217391306|24.0|\n",
            "|23.642222222222223|22.0|\n",
            "| 26.61538461538462|24.5|\n",
            "|23.642222222222223|23.1|\n",
            "| 26.61538461538462|33.0|\n",
            "+------------------+----+\n",
            "only showing top 5 rows\n",
            "\n",
            "Coeficiente de determinación con los datos de evaluación = 0.732284\n"
          ]
        }
      ]
    },
    {
      "cell_type": "markdown",
      "metadata": {
        "id": "4OkygbOPnm4v"
      },
      "source": [
        "Veamos la importancia de las vaiables predictoras"
      ]
    },
    {
      "cell_type": "code",
      "metadata": {
        "id": "r5YSvSUsnwlC",
        "colab": {
          "base_uri": "https://localhost:8080/"
        },
        "outputId": "0386ad32-719b-4deb-c5a9-d02a774d7910"
      },
      "source": [
        "dt_model.featureImportances"
      ],
      "execution_count": 75,
      "outputs": [
        {
          "output_type": "execute_result",
          "data": {
            "text/plain": [
              "SparseVector(9, {0: 0.0341, 2: 0.0039, 3: 0.2655, 4: 0.0257, 5: 0.0672, 6: 0.021, 7: 0.0031, 8: 0.5796})"
            ]
          },
          "metadata": {},
          "execution_count": 75
        }
      ]
    },
    {
      "cell_type": "code",
      "metadata": {
        "id": "3a1THHbAn6Tu",
        "colab": {
          "base_uri": "https://localhost:8080/"
        },
        "outputId": "f95d4f12-9301-440c-e77c-3c1efca9b4b1"
      },
      "source": [
        "boston.columns"
      ],
      "execution_count": 76,
      "outputs": [
        {
          "output_type": "execute_result",
          "data": {
            "text/plain": [
              "['crim',\n",
              " 'zn',\n",
              " 'indus',\n",
              " 'rm',\n",
              " 'age',\n",
              " 'rad',\n",
              " 'ptratio',\n",
              " 'black',\n",
              " 'lstat',\n",
              " 'medv']"
            ]
          },
          "metadata": {},
          "execution_count": 76
        }
      ]
    },
    {
      "cell_type": "markdown",
      "metadata": {
        "id": "t2wdD-W2Irqj"
      },
      "source": [
        "###**Predicción discreta o Clasificación**"
      ]
    },
    {
      "cell_type": "markdown",
      "metadata": {
        "id": "WG00ebF2bNom"
      },
      "source": [
        "La clasificación permite predecir un evento numérico discreto, es decir que lo que pedimos ya no es un número sino una categoría, una cualidad.\n",
        "\n",
        "Se utiliza el conjunto histórico de datos donde se cuenta con una variable objetivo que es de tipo categórica. Con ese histórico de datos, se crea un modelo que aprenderá de los datos y permitirá predecir datos futuros"
      ]
    },
    {
      "cell_type": "markdown",
      "metadata": {
        "id": "D7ujBIeGbd-2"
      },
      "source": [
        "**Evaluación**"
      ]
    },
    {
      "cell_type": "markdown",
      "metadata": {
        "id": "L5WMsOpqVhAf"
      },
      "source": [
        "Teniendo en cuenta que la variable objetivo es categórica, contamos con la clase real a la que pertenece cada uno de los registros que hacen parte del histórico de datos.\n",
        "\n",
        "Por otro lado, el modelo arrojará como resultado una predicción sobre la clase a la que debe pertenecer cada registro. Usando la clase real y la predicción se construyen unas medidas de error que permiten evaluar la calidad del modelo. \n",
        "\n",
        "Estas medidas se construyen al identificar la cantidad de registros que quedaron clasificados correctamente es decir que la clase de la predicción y la clase real coinciden\n",
        "\n",
        "Con esta información se construye lo que se conoce como matriz de confusión\n"
      ]
    },
    {
      "cell_type": "code",
      "metadata": {
        "id": "b6bWD3OyYk29",
        "colab": {
          "base_uri": "https://localhost:8080/",
          "height": 425
        },
        "outputId": "d0257da9-0299-463e-e19b-46434fe416d4"
      },
      "source": [
        "Image(\"local/imgs/matriz_confusion.png\")"
      ],
      "execution_count": 77,
      "outputs": [
        {
          "output_type": "execute_result",
          "data": {
            "image/png": "[encoded data removed]",
            "text/plain": [
              "<IPython.core.display.Image object>"
            ]
          },
          "metadata": {},
          "execution_count": 77
        }
      ]
    },
    {
      "cell_type": "markdown",
      "metadata": {
        "id": "ZnCt3hbMYy2w"
      },
      "source": [
        "las cantidades relacionadas en la matriz de confusión nos permiten calcular esas medidas de error entre las cuales se destacan:\n",
        "\n",
        "* Precisión: $$p=\\frac{a}{a+b}$$\n",
        "* Cobertura: $$r=\\frac{a}{a+c}$$\n",
        "* Exactitud: $$e=\\frac{a+d}{a+b+c+d}$$\n",
        "* Media armónica: $$f=\\frac{2pr}{p+r}$$\n",
        "* Razón de verdaderos positivos: $$VPR=\\frac{a}{a+c}$$\n",
        "* Razón de falsos positivos: $$FPR=\\frac{b}{b+d}$$\n",
        "\n",
        "Donde,\n",
        "\n",
        "* $a$: Verdaderos positivos\n",
        "* $b$: Falsos positivos\n",
        "* $c$: Falsos negativos\n",
        "* $d$: Verdaderos negativos\n",
        "\n",
        "Con la razón de verdaderos positivos y la razón de falsos positivos se calcula el área ROC, medida utilizada ampliamente para evaluar modelos predictivos de clasificación.\n"
      ]
    },
    {
      "cell_type": "markdown",
      "metadata": {
        "id": "OomSEZ1_LX4r"
      },
      "source": [
        "####**Regresión Logística**"
      ]
    },
    {
      "cell_type": "markdown",
      "metadata": {
        "id": "CZ4UOWyIbQPO"
      },
      "source": [
        "El funcionamiento es similar a la regresión lineal, donde se calculaba la ecuación de la recta que mejor represente al conjunto de datos con el fin de predecir una variable numérica.\n",
        "\n",
        "La regresión logística aplica ese principio, pero teniendo en cuenta que la variable a predecir es categórica y puede tener n categorías,\n",
        "lo que propone es calcular las ecuaciones de n rectas, una para cada categoría "
      ]
    },
    {
      "cell_type": "markdown",
      "metadata": {
        "id": "lo0KZGMJr4if"
      },
      "source": [
        "**Ejemplo: Aprobación curso**"
      ]
    },
    {
      "cell_type": "markdown",
      "metadata": {
        "id": "68sZIwD0sIGi"
      },
      "source": [
        "**1. Preparar**"
      ]
    },
    {
      "cell_type": "code",
      "metadata": {
        "id": "KMpNMkfSo4li",
        "colab": {
          "base_uri": "https://localhost:8080/"
        },
        "outputId": "b09b2777-fe3f-4c6f-9c59-25ee1bb6cbb4"
      },
      "source": [
        "data = pd.read_excel(\"local/data/aprobacion_curso_bal.xlsx\",sheet_name=0)\n",
        "estDF=sqlCtx.createDataFrame(data).drop('Unnamed: 0')\n",
        "estDF.show(5)"
      ],
      "execution_count": 78,
      "outputs": [
        {
          "output_type": "stream",
          "name": "stdout",
          "text": [
            "+----------+---------------+------+\n",
            "|    Felder|Examen_admisión|Aprobo|\n",
            "+----------+---------------+------+\n",
            "| sensorial|           4.67|    si|\n",
            "|    activo|           4.17|    no|\n",
            "|    visual|            4.5|    si|\n",
            "|    visual|           3.83|    no|\n",
            "|equilibrio|            3.0|    no|\n",
            "+----------+---------------+------+\n",
            "only showing top 5 rows\n",
            "\n"
          ]
        }
      ]
    },
    {
      "cell_type": "code",
      "metadata": {
        "id": "9hFpn-PDr4Jf",
        "colab": {
          "base_uri": "https://localhost:8080/"
        },
        "outputId": "8376f3ba-f245-4457-f20c-ad9acca2de64"
      },
      "source": [
        "estDF=sqlCtx.createDataFrame(data)\n",
        "estDF=estDF.\\\n",
        "  withColumn('equilibrio',(estDF.Felder=='equilibrio').cast(IntegerType())).\\\n",
        "  withColumn('activo',(estDF.Felder=='activo').cast(IntegerType())).\\\n",
        "  withColumn('visual',(estDF.Felder=='visual').cast(IntegerType())).\\\n",
        "  withColumn('reflexivo',(estDF.Felder=='reflexivo').cast(IntegerType())).\\\n",
        "  withColumn('sensorial',(estDF.Felder=='sensorial').cast(IntegerType())).\\\n",
        "  withColumn('intuitivo',(estDF.Felder=='intuitivo').cast(IntegerType())).\\\n",
        "  withColumn('secuencial',(estDF.Felder=='secuencial').cast(IntegerType())).\\\n",
        "  withColumn('verbal',(estDF.Felder=='verbal').cast(IntegerType())).\\\n",
        "  withColumn('AproboInt',(estDF.Aprobo=='si').cast(IntegerType()))\n",
        "estDF=estDF.drop('Felder','Aprobo','Unnamed: 0')\n",
        "estDF.printSchema()\n",
        "estDF.show(5)"
      ],
      "execution_count": 79,
      "outputs": [
        {
          "output_type": "stream",
          "name": "stdout",
          "text": [
            "root\n",
            " |-- Examen_admisión: double (nullable = true)\n",
            " |-- equilibrio: integer (nullable = true)\n",
            " |-- activo: integer (nullable = true)\n",
            " |-- visual: integer (nullable = true)\n",
            " |-- reflexivo: integer (nullable = true)\n",
            " |-- sensorial: integer (nullable = true)\n",
            " |-- intuitivo: integer (nullable = true)\n",
            " |-- secuencial: integer (nullable = true)\n",
            " |-- verbal: integer (nullable = true)\n",
            " |-- AproboInt: integer (nullable = true)\n",
            "\n",
            "+---------------+----------+------+------+---------+---------+---------+----------+------+---------+\n",
            "|Examen_admisión|equilibrio|activo|visual|reflexivo|sensorial|intuitivo|secuencial|verbal|AproboInt|\n",
            "+---------------+----------+------+------+---------+---------+---------+----------+------+---------+\n",
            "|           4.67|         0|     0|     0|        0|        1|        0|         0|     0|        1|\n",
            "|           4.17|         0|     1|     0|        0|        0|        0|         0|     0|        0|\n",
            "|            4.5|         0|     0|     1|        0|        0|        0|         0|     0|        1|\n",
            "|           3.83|         0|     0|     1|        0|        0|        0|         0|     0|        0|\n",
            "|            3.0|         1|     0|     0|        0|        0|        0|         0|     0|        0|\n",
            "+---------------+----------+------+------+---------+---------+---------+----------+------+---------+\n",
            "only showing top 5 rows\n",
            "\n"
          ]
        }
      ]
    },
    {
      "cell_type": "code",
      "metadata": {
        "id": "wk3qGd8Wv_Zn",
        "colab": {
          "base_uri": "https://localhost:8080/"
        },
        "outputId": "0b7e7188-3cb9-4295-ecdf-f4f2b2863efb"
      },
      "source": [
        "vectorAssembler = VectorAssembler(inputCols = \\\n",
        "    ['Examen_admisión', 'equilibrio', 'activo', 'visual', 'reflexivo', 'sensorial', 'intuitivo', \\\n",
        "     'secuencial', 'verbal'], outputCol = 'features')\n",
        "vest = vectorAssembler.transform(estDF)\n",
        "vest = vest.select(['features', 'AproboInt'])\n",
        "vest.show(5)"
      ],
      "execution_count": 80,
      "outputs": [
        {
          "output_type": "stream",
          "name": "stdout",
          "text": [
            "+--------------------+---------+\n",
            "|            features|AproboInt|\n",
            "+--------------------+---------+\n",
            "|(9,[0,5],[4.67,1.0])|        1|\n",
            "|(9,[0,2],[4.17,1.0])|        0|\n",
            "| (9,[0,3],[4.5,1.0])|        1|\n",
            "|(9,[0,3],[3.83,1.0])|        0|\n",
            "| (9,[0,1],[3.0,1.0])|        0|\n",
            "+--------------------+---------+\n",
            "only showing top 5 rows\n",
            "\n"
          ]
        }
      ]
    },
    {
      "cell_type": "markdown",
      "metadata": {
        "id": "LgqVcUwXv32e"
      },
      "source": [
        "Creamos los conjuntos de datos de entrenamiento y evaluación (Split)"
      ]
    },
    {
      "cell_type": "code",
      "metadata": {
        "id": "snd9vjrUpKV1",
        "colab": {
          "base_uri": "https://localhost:8080/"
        },
        "outputId": "9e1801d4-144e-4184-b3ff-4f21737f34be"
      },
      "source": [
        "(trainingData, testData) = vest.randomSplit([0.7, 0.3])\n",
        "print(trainingData.count())\n",
        "print(testData.count())"
      ],
      "execution_count": 81,
      "outputs": [
        {
          "output_type": "stream",
          "name": "stdout",
          "text": [
            "157\n",
            "59\n"
          ]
        }
      ]
    },
    {
      "cell_type": "markdown",
      "metadata": {
        "id": "yq1qWnpfs8WP"
      },
      "source": [
        "**2. Modelar**"
      ]
    },
    {
      "cell_type": "code",
      "metadata": {
        "id": "ToOd12tGpVVe"
      },
      "source": [
        "from pyspark.ml.classification import LogisticRegression\n",
        "lr = LogisticRegression(labelCol=\"AproboInt\", featuresCol=\"features\",maxIter=10)\n",
        "lr_model=lr.fit(trainingData)"
      ],
      "execution_count": 82,
      "outputs": []
    },
    {
      "cell_type": "code",
      "metadata": {
        "id": "noGeb7_4HGdi",
        "colab": {
          "base_uri": "https://localhost:8080/"
        },
        "outputId": "2d02db83-729a-486f-9e6b-106dbcb1f2b9"
      },
      "source": [
        "trainingSummary = lr_model.summary\n",
        "trainingSummary.predictions.select('AproboInt','prediction','probability').show(5)"
      ],
      "execution_count": 83,
      "outputs": [
        {
          "output_type": "stream",
          "name": "stdout",
          "text": [
            "+---------+----------+--------------------+\n",
            "|AproboInt|prediction|         probability|\n",
            "+---------+----------+--------------------+\n",
            "|      0.0|       0.0|[0.88709367735070...|\n",
            "|      0.0|       0.0|[0.85741664425540...|\n",
            "|      0.0|       0.0|[0.85741664425540...|\n",
            "|      0.0|       0.0|[0.85741664425540...|\n",
            "|      0.0|       0.0|[0.82380338191462...|\n",
            "+---------+----------+--------------------+\n",
            "only showing top 5 rows\n",
            "\n"
          ]
        }
      ]
    },
    {
      "cell_type": "code",
      "metadata": {
        "id": "8IDsniXIGVSj",
        "colab": {
          "base_uri": "https://localhost:8080/"
        },
        "outputId": "7eed521e-c35c-42e6-df37-1fc4a2495c96"
      },
      "source": [
        "print(\"Coeficientes: \" + str(lr_model.coefficients))\n",
        "print(\"Intercepto: \" + str(lr_model.intercept))\n",
        "estDF.columns"
      ],
      "execution_count": 84,
      "outputs": [
        {
          "output_type": "stream",
          "name": "stdout",
          "text": [
            "Coeficientes: [1.5729113600933196,-3.8169335403059197,-2.8775759515899018,-3.133496840238412,-3.469388586113157,-3.381332692697149,-15.088627804947398,-3.230834840166187,-15.186398522754713]\n",
            "Intercepto: -2.9631926563553477\n"
          ]
        },
        {
          "output_type": "execute_result",
          "data": {
            "text/plain": [
              "['Examen_admisión',\n",
              " 'equilibrio',\n",
              " 'activo',\n",
              " 'visual',\n",
              " 'reflexivo',\n",
              " 'sensorial',\n",
              " 'intuitivo',\n",
              " 'secuencial',\n",
              " 'verbal',\n",
              " 'AproboInt']"
            ]
          },
          "metadata": {},
          "execution_count": 84
        }
      ]
    },
    {
      "cell_type": "markdown",
      "metadata": {
        "id": "QJfBZjXXIQzT"
      },
      "source": [
        "Veamos el área ROC"
      ]
    },
    {
      "cell_type": "code",
      "metadata": {
        "id": "BnWjv3sMH4na",
        "colab": {
          "base_uri": "https://localhost:8080/",
          "height": 313
        },
        "outputId": "5ef0f014-7c62-4238-e06d-e33366c38b7d"
      },
      "source": [
        "roc = trainingSummary.roc.toPandas()\n",
        "plt.plot(roc['FPR'],roc['TPR'])\n",
        "plt.ylabel('Razón de los falsos positivos')\n",
        "plt.xlabel('Razón de los verdaderos positivos')\n",
        "plt.title('Curva ROC')\n",
        "plt.show()\n",
        "print('Área ROC con los datos de entrenamiento: ' + str(trainingSummary.areaUnderROC))"
      ],
      "execution_count": 85,
      "outputs": [
        {
          "output_type": "display_data",
          "data": {
            "image/png": "[encoded data removed]",
            "text/plain": [
              "<Figure size 432x288 with 1 Axes>"
            ]
          },
          "metadata": {
            "needs_background": "light"
          }
        },
        {
          "output_type": "stream",
          "name": "stdout",
          "text": [
            "Área ROC con los datos de entrenamiento: 0.76364522417154\n"
          ]
        }
      ]
    },
    {
      "cell_type": "markdown",
      "metadata": {
        "id": "CwtdMZXGyQFC"
      },
      "source": [
        "**3. Evaluar**"
      ]
    },
    {
      "cell_type": "code",
      "metadata": {
        "id": "Aw7m92CzyVqz",
        "colab": {
          "base_uri": "https://localhost:8080/"
        },
        "outputId": "3e254993-b903-416a-8959-603a3edbcb8c"
      },
      "source": [
        "predict_test=lr_model.transform(testData)\n",
        "predict_test.select('AproboInt','prediction','probability').show(10)"
      ],
      "execution_count": 86,
      "outputs": [
        {
          "output_type": "stream",
          "name": "stdout",
          "text": [
            "+---------+----------+--------------------+\n",
            "|AproboInt|prediction|         probability|\n",
            "+---------+----------+--------------------+\n",
            "|        0|       0.0|[0.85741664425540...|\n",
            "|        0|       0.0|[0.78158661320815...|\n",
            "|        0|       0.0|[0.73253874228692...|\n",
            "|        0|       0.0|[0.61974847210045...|\n",
            "|        1|       0.0|[0.61974847210045...|\n",
            "|        0|       1.0|[0.42605260437853...|\n",
            "|        1|       1.0|[0.25266848208110...|\n",
            "|        1|       1.0|[0.25266848208110...|\n",
            "|        1|       1.0|[0.25266848208110...|\n",
            "|        1|       1.0|[0.25266848208110...|\n",
            "+---------+----------+--------------------+\n",
            "only showing top 10 rows\n",
            "\n"
          ]
        }
      ]
    },
    {
      "cell_type": "code",
      "metadata": {
        "id": "szUpbCfyJoOZ",
        "colab": {
          "base_uri": "https://localhost:8080/"
        },
        "outputId": "5f19f627-a435-4175-879a-1d5536eabdf1"
      },
      "source": [
        "from pyspark.ml.evaluation import BinaryClassificationEvaluator\n",
        "evaluator = BinaryClassificationEvaluator(labelCol='AproboInt')\n",
        "print('Área ROC con los datos de evaluación', evaluator.evaluate(predict_test))"
      ],
      "execution_count": 87,
      "outputs": [
        {
          "output_type": "stream",
          "name": "stdout",
          "text": [
            "Área ROC con los datos de evaluación 0.7395833333333334\n"
          ]
        }
      ]
    },
    {
      "cell_type": "markdown",
      "metadata": {
        "id": "fXMCOXfpLRaa"
      },
      "source": [
        "####**Árboles de decisión para clasificación**"
      ]
    },
    {
      "cell_type": "markdown",
      "metadata": {
        "id": "PvbAuvUBbRWK"
      },
      "source": [
        "El funcionamiento es similar a los árboles de regresión, solo que en este caso la variable a predecir es categórica.\n",
        "\n",
        "A partir del conjunto histórico de datos se construye en árbol que tiene en sus nodos una pregunta sobre alguno de los atributos y en las hojas alguna de las categorías de la variable objetivo"
      ]
    },
    {
      "cell_type": "markdown",
      "metadata": {
        "id": "JPxJRJ0_Livb"
      },
      "source": [
        "**Modelar**"
      ]
    },
    {
      "cell_type": "code",
      "metadata": {
        "id": "YXZv6cqoLnI4"
      },
      "source": [
        "from pyspark.ml.classification import DecisionTreeClassifier\n",
        "dt = DecisionTreeClassifier(labelCol=\"AproboInt\", featuresCol=\"features\")\n",
        "dt_model=dt.fit(trainingData)"
      ],
      "execution_count": 88,
      "outputs": []
    },
    {
      "cell_type": "code",
      "metadata": {
        "id": "WLL356u8Oe5S",
        "colab": {
          "base_uri": "https://localhost:8080/"
        },
        "outputId": "6017e12a-162d-4cb2-f52b-ab90c1e5006f"
      },
      "source": [
        "predict_train = dt_model.transform(trainingData)\n",
        "predict_train.select('AproboInt','prediction').show(5)"
      ],
      "execution_count": 89,
      "outputs": [
        {
          "output_type": "stream",
          "name": "stdout",
          "text": [
            "+---------+----------+\n",
            "|AproboInt|prediction|\n",
            "+---------+----------+\n",
            "|        0|       0.0|\n",
            "|        0|       0.0|\n",
            "|        0|       0.0|\n",
            "|        0|       0.0|\n",
            "|        0|       0.0|\n",
            "+---------+----------+\n",
            "only showing top 5 rows\n",
            "\n"
          ]
        }
      ]
    },
    {
      "cell_type": "markdown",
      "metadata": {
        "id": "JuIFRfiwLlZf"
      },
      "source": [
        "**Evaluar**"
      ]
    },
    {
      "cell_type": "code",
      "metadata": {
        "id": "Q0qD-p-hPOAx"
      },
      "source": [
        "predict_test = dt_model.transform(testData)"
      ],
      "execution_count": 90,
      "outputs": []
    },
    {
      "cell_type": "markdown",
      "metadata": {
        "id": "VgmG_702O3MD"
      },
      "source": [
        "Veamos la precisión del clasificador"
      ]
    },
    {
      "cell_type": "code",
      "metadata": {
        "id": "jFCfqnIjN6P_",
        "colab": {
          "base_uri": "https://localhost:8080/"
        },
        "outputId": "02e4a5cc-968b-40d4-d442-922c1b501fc8"
      },
      "source": [
        "from sklearn.metrics import classification_report, confusion_matrix\n",
        "\n",
        "clase_real = predict_test.select(['AproboInt']).collect()\n",
        "clase_prediccion = predict_test.select(['prediction']).collect()\n",
        "\n",
        "print(\"Medidas de error\")\n",
        "print(classification_report(clase_real, clase_prediccion))\n",
        "print(\"Matriz de confusión\")\n",
        "print(confusion_matrix(clase_real, clase_prediccion))\n",
        "evaluator = BinaryClassificationEvaluator(labelCol='AproboInt')\n",
        "print('Área ROC con los datos de evaluación', evaluator.evaluate(predict_test))"
      ],
      "execution_count": 91,
      "outputs": [
        {
          "output_type": "stream",
          "name": "stdout",
          "text": [
            "Medidas de error\n",
            "              precision    recall  f1-score   support\n",
            "\n",
            "           0       0.55      0.85      0.67        27\n",
            "           1       0.76      0.41      0.53        32\n",
            "\n",
            "    accuracy                           0.61        59\n",
            "   macro avg       0.66      0.63      0.60        59\n",
            "weighted avg       0.67      0.61      0.59        59\n",
            "\n",
            "Matriz de confusión\n",
            "[[23  4]\n",
            " [19 13]]\n",
            "Área ROC con los datos de evaluación 0.6076388888888888\n"
          ]
        }
      ]
    },
    {
      "cell_type": "markdown",
      "metadata": {
        "id": "s-DgcQ9MLmI7"
      },
      "source": [
        "####**Redes neuronales**"
      ]
    },
    {
      "cell_type": "markdown",
      "metadata": {
        "id": "1XyrwXf1bhUP"
      },
      "source": [
        "Las redes neuronales son modelos computacionales inspirados en sistemas biológicos, adaptados y simulados en computadoras convencionales. Buscan simular en un algoritmo la forma como se comportan las neuronas del cerebro humano.\n",
        "\n",
        "Cada neurona tiene variables de entrada (atributos) que son multiplicados por un vector de pesos y el resultado es llevado a un mezclador lineal. A la salida del mezclador lineal se aplica una función de activación que puede ser tan sencilla o compleja como se quiera, el resultado es la salida de la neurona.\n",
        "\n",
        "Las neuronas no trabajan solas, los resultados de cada neurona pueden ser llevados a varias neuronas que los utilizan como entradas. En este caso diremos que la red neuronal puede tener varias capas y dentro de cada capa se puede tener varias neuronas "
      ]
    },
    {
      "cell_type": "markdown",
      "metadata": {
        "id": "zxPc7XDJ4Gnm"
      },
      "source": [
        "**Multilayer Perceptron**\n",
        "\n",
        "Es una red neuronal con alimentación hacia adelante, compuesta de varias capas de neuronas entre la entrada y la salida de la misma, esta red permite establecer regiones de decisión mucho más complejas que las de dos semiplanos.\n",
        "\n",
        "Como **función de activación** puede utilizar:\n",
        "* Hardlim: Función escalón entre 0 y 1\n",
        "* Hardlims: Función escalón simétrica entre -1 y 1\n",
        "\n",
        "Multilayer perceptron utiliza la siguiente **regla de aprendizaje**:\n",
        "* Pesos: $$w_{i+1} = w_i + (y_i - y_i')x_i $$\n",
        "* Variable independiente: $$b_{i+1} = b_i + (y_i - y_i')$$\n",
        "\n",
        "Donde,\n",
        "\n",
        "* $w_{i+1}$: Peso de la neurona en la siguiente iteración\n",
        "* $w_i$: Peso de la neurona en la iteración actual\n",
        "* $y_i$: Salida real\n",
        "* $y_i'$: Predicción\n",
        "* $x_i$: Entrada actual de la neurona\n",
        "* $b_{i+1}$: Entrada independiente en la siguiente iteración\n",
        "* $b_i$: Entrada independiente en la iteración actual\n",
        "\n"
      ]
    },
    {
      "cell_type": "markdown",
      "metadata": {
        "id": "beLwH3_3ZfX_"
      },
      "source": [
        "**Modelar**"
      ]
    },
    {
      "cell_type": "code",
      "metadata": {
        "id": "Lnk6_E1MZg3y"
      },
      "source": [
        "from pyspark.ml.classification import MultilayerPerceptronClassifier\n",
        "nn= MultilayerPerceptronClassifier(labelCol='AproboInt', featuresCol='features', maxIter=100, layers=[9, 5, 2])\n",
        "nn_model = nn.fit(trainingData)"
      ],
      "execution_count": 92,
      "outputs": []
    },
    {
      "cell_type": "code",
      "metadata": {
        "id": "GPqI0UKQavZF"
      },
      "source": [
        "predict_train = nn_model.transform(trainingData)"
      ],
      "execution_count": 93,
      "outputs": []
    },
    {
      "cell_type": "markdown",
      "metadata": {
        "id": "TY6TuUg2Z0IY"
      },
      "source": [
        "**Evaluar**"
      ]
    },
    {
      "cell_type": "code",
      "metadata": {
        "id": "JYau9aK-Z1uk",
        "colab": {
          "base_uri": "https://localhost:8080/"
        },
        "outputId": "c9d02044-10d9-4966-e468-a6a40d49d417"
      },
      "source": [
        "from pyspark.ml.evaluation import MulticlassClassificationEvaluator\n",
        "#Predicción\n",
        "predict_test = nn_model.transform(testData)\n",
        "predict_test.select('prediction', 'AproboInt').show(5)\n",
        "\n",
        "#Exactitud\n",
        "evaluator = MulticlassClassificationEvaluator(metricName=\"accuracy\", labelCol='AproboInt')\n",
        "print(\"Exactitud con los datos de evaluación = \" + str(evaluator.evaluate(predict_test)))\n",
        "\n",
        "#Matriz de confusión\n",
        "clase_real = predict_test.select(['AproboInt']).collect()\n",
        "clase_prediccion = predict_test.select(['prediction']).collect()\n",
        "print(\"Matriz de confusión\")\n",
        "print(confusion_matrix(clase_real, clase_prediccion))"
      ],
      "execution_count": 94,
      "outputs": [
        {
          "output_type": "stream",
          "name": "stdout",
          "text": [
            "+----------+---------+\n",
            "|prediction|AproboInt|\n",
            "+----------+---------+\n",
            "|       0.0|        0|\n",
            "|       0.0|        0|\n",
            "|       0.0|        0|\n",
            "|       0.0|        0|\n",
            "|       0.0|        1|\n",
            "+----------+---------+\n",
            "only showing top 5 rows\n",
            "\n",
            "Exactitud con los datos de evaluación = 0.6610169491525424\n",
            "Matriz de confusión\n",
            "[[24  3]\n",
            " [17 15]]\n"
          ]
        }
      ]
    },
    {
      "cell_type": "markdown",
      "metadata": {
        "id": "HumWu-FwLyRH"
      },
      "source": [
        "####**Máquinas de Soporte Vectorial**"
      ]
    },
    {
      "cell_type": "markdown",
      "metadata": {
        "id": "7htFFfwkbhw3"
      },
      "source": [
        "Las máquinas de soporte vectorial plantean la solución de un problema complejo (no separable linealmente) en un espacio de dimensión superior mediante la construcción de un hiperplano de separación óptima de clases.\n",
        "\n",
        "El hiper plano construido permite separar a cada lado del mismo los registros de cada categoría de la variable objetivo.\n",
        "\n",
        "Para representar los datos en una dimensión superior se utiliza la matriz de Kernel"
      ]
    },
    {
      "cell_type": "markdown",
      "metadata": {
        "id": "IPoAVsbtq2le"
      },
      "source": [
        "**Modelar**"
      ]
    },
    {
      "cell_type": "code",
      "metadata": {
        "id": "iA5rHQ9Zq59A"
      },
      "source": [
        "from pyspark.ml.classification import LinearSVC\n",
        "svc= LinearSVC(labelCol='AproboInt', featuresCol='features', maxIter=10, regParam=0.1)\n",
        "svc_model = svc.fit(trainingData)"
      ],
      "execution_count": 95,
      "outputs": []
    },
    {
      "cell_type": "code",
      "metadata": {
        "id": "jeKq6UL0rclb",
        "colab": {
          "base_uri": "https://localhost:8080/"
        },
        "outputId": "58a80694-dda8-42fd-a25a-e06bd7e8c857"
      },
      "source": [
        "predict_train = svc_model.transform(trainingData)\n",
        "predict_train.select('AproboInt', 'prediction').show(5)"
      ],
      "execution_count": 96,
      "outputs": [
        {
          "output_type": "stream",
          "name": "stdout",
          "text": [
            "+---------+----------+\n",
            "|AproboInt|prediction|\n",
            "+---------+----------+\n",
            "|        0|       0.0|\n",
            "|        0|       0.0|\n",
            "|        0|       0.0|\n",
            "|        0|       0.0|\n",
            "|        0|       0.0|\n",
            "+---------+----------+\n",
            "only showing top 5 rows\n",
            "\n"
          ]
        }
      ]
    },
    {
      "cell_type": "markdown",
      "metadata": {
        "id": "J0E5i69cq4Jy"
      },
      "source": [
        "**Evaluar**"
      ]
    },
    {
      "cell_type": "code",
      "metadata": {
        "id": "uTS_CV2Jq60h",
        "colab": {
          "base_uri": "https://localhost:8080/"
        },
        "outputId": "70ce62cd-8b85-4949-9990-56a1a27d1a5b"
      },
      "source": [
        "predict_test = svc_model.transform(testData)\n",
        "predict_test.select('prediction', 'AproboInt').show(5)\n",
        "evaluator = BinaryClassificationEvaluator(labelCol='AproboInt')\n",
        "print('Área ROC con los datos de evaluación', evaluator.evaluate(predict_test))"
      ],
      "execution_count": 97,
      "outputs": [
        {
          "output_type": "stream",
          "name": "stdout",
          "text": [
            "+----------+---------+\n",
            "|prediction|AproboInt|\n",
            "+----------+---------+\n",
            "|       0.0|        0|\n",
            "|       0.0|        0|\n",
            "|       0.0|        0|\n",
            "|       0.0|        0|\n",
            "|       0.0|        1|\n",
            "+----------+---------+\n",
            "only showing top 5 rows\n",
            "\n",
            "Área ROC con los datos de evaluación 0.6215277777777778\n"
          ]
        }
      ]
    },
    {
      "cell_type": "markdown",
      "metadata": {
        "id": "QhFiMocQMANZ"
      },
      "source": [
        "####**Método Bayesiano**"
      ]
    },
    {
      "cell_type": "markdown",
      "metadata": {
        "id": "LBemkPu1biUH"
      },
      "source": [
        "Los métodos bayesianos utilizan el teorema de la probabilidad condicional de bayes: La probabilidad de que algo ocurra dado que ya han ocurrido ciertos sucesos.\n",
        "\n",
        "La probabilidad de que un registro $reg$ pertenezca a la clase $C_j$ se calcula como:\n",
        "$$P(C_j/reg) = \\frac{P(C_j)P(reg/C_j)}{P(reg)}$$\n",
        "\n",
        "Donde,\n",
        "\n",
        "* $P(C_j)$: Probabilidad de la clase $C_j$\n",
        "* $P(reg/C_j)$: Probabilidad de que la clase $C_j$ sea la clase del registro $reg$\n",
        "* $P(reg)$: Probabilidad de seleccionar un registro\n",
        "\n",
        "Naive Bayes implementa un método bayesiano asumiendo que los registros son independientes, con esto la probabilidad de que un registro $reg$ pertenezca a la clase $C_j$ se resume como:\n",
        "\n",
        "$$P(C_j/reg) = P(C_j)P(reg/C_j)$$\n",
        "\n",
        "\n",
        "Con los datos históricos se construye una tabla de probabilidades, que indica la probabilidad de que un registro pertenezca a cada una de las categorías de la variable objetivo\n",
        "\n",
        "Dado un registro nuevo, la predicción consistirá en evaluar la probabilidad de pertenencia de dicho registro a cada una de las clases escogiendo aquella que cuente con la mayor probabilidad."
      ]
    },
    {
      "cell_type": "markdown",
      "metadata": {
        "id": "A3ficNVDry3U"
      },
      "source": [
        "**Modelar**"
      ]
    },
    {
      "cell_type": "code",
      "metadata": {
        "id": "5fWs-lCAr0QE"
      },
      "source": [
        "from pyspark.ml.classification import NaiveBayes\n",
        "nb= NaiveBayes(labelCol='AproboInt', featuresCol='features')\n",
        "nb_model = svc.fit(trainingData)"
      ],
      "execution_count": 98,
      "outputs": []
    },
    {
      "cell_type": "code",
      "metadata": {
        "id": "GAlauXJzsed2"
      },
      "source": [
        "predict_train = nb_model.transform(trainingData)"
      ],
      "execution_count": 99,
      "outputs": []
    },
    {
      "cell_type": "markdown",
      "metadata": {
        "id": "k8xoewLCr0tk"
      },
      "source": [
        "**Evaluar**"
      ]
    },
    {
      "cell_type": "code",
      "metadata": {
        "id": "pPD6KY6tr2Jm",
        "colab": {
          "base_uri": "https://localhost:8080/"
        },
        "outputId": "daefaf7f-d377-43cf-d91e-4c70bbec2732"
      },
      "source": [
        "predict_test = nb_model.transform(testData)\n",
        "predict_test.select('prediction', 'AproboInt').show(5)\n",
        "evaluator = BinaryClassificationEvaluator(labelCol='AproboInt')\n",
        "print('Área ROC con los datos de evaluación', evaluator.evaluate(predict_test))"
      ],
      "execution_count": 100,
      "outputs": [
        {
          "output_type": "stream",
          "name": "stdout",
          "text": [
            "+----------+---------+\n",
            "|prediction|AproboInt|\n",
            "+----------+---------+\n",
            "|       0.0|        0|\n",
            "|       0.0|        0|\n",
            "|       0.0|        0|\n",
            "|       0.0|        0|\n",
            "|       0.0|        1|\n",
            "+----------+---------+\n",
            "only showing top 5 rows\n",
            "\n",
            "Área ROC con los datos de evaluación 0.6215277777777778\n"
          ]
        }
      ]
    },
    {
      "cell_type": "markdown",
      "metadata": {
        "id": "RkOAFatYIi4d"
      },
      "source": [
        "##**Aprendizaje NO Supervisado**"
      ]
    },
    {
      "cell_type": "markdown",
      "metadata": {
        "id": "Q7rri9sabj74"
      },
      "source": [
        "En el aprendizaje No Supervisado, NO se cuenta con datos históricos previamente etiquetados para la etapa de entrenamiento, en su lugar se dispone de datos actuales y lo que se haces es describir la estructura de esos datos actuales mediante un análisis exploratorio con el fin de facilitar el entendimiento de los datos."
      ]
    },
    {
      "cell_type": "markdown",
      "metadata": {
        "id": "KAu47BlDI2WC"
      },
      "source": [
        "###**Clustering**"
      ]
    },
    {
      "cell_type": "markdown",
      "metadata": {
        "id": "4scVGdpEUlnN"
      },
      "source": [
        "Su objetivo es agrupar un conjunto de datos heterogéneo en grupos de datos homogéneos. En principio cada registro (fila) del conjunto de datos es diferente de los demás, por eso decimos que es heterogéneo, pero puede tener cierta similitud a un subconjunto de registros y es ahi donde se genera la agrupación, siendo cada subconjunto de datos (clúster) diferente a los demás subconjuntos.\n",
        "\n",
        "La similaridad de los registros se expresa como una medida de distancia, de modo que un par de registros que se encuentre distante implicará que son diferentes, mientras que registros cercanos diremos que son similares\n",
        "\n",
        "Dentro del **ciclo de vida** del Clustering se encuentran las siguientes etapas:\n",
        "* Aprendizaje: Crear el modelo\n",
        "* Evaluación: Evaluar el modelo\n",
        "* Perfilamiento: Entender las características que definen a cada clúster (describir el centroide)\n"
      ]
    },
    {
      "cell_type": "markdown",
      "metadata": {
        "id": "uySx0guebldW"
      },
      "source": [
        "**Evaluación**"
      ]
    },
    {
      "cell_type": "markdown",
      "metadata": {
        "id": "rhfAuICObpkW"
      },
      "source": [
        "La evaluación del Clustering se basa en la comparación de dos medidas, estas medidas son:\n",
        "* Cohesión o compacticidad: promedio de distancia de cada elemento a su centroide (distancia dentro del clúster)\n",
        "* Separabilidad: promedio de distancias entre los centroides de los clústers (distancia entre clústers)\n",
        "\n",
        "La comparación de estas dos medidas se expresa mediante índices, los mas conocidos son:\n",
        "\n",
        "* Dunn\n",
        "* Davies-Bouldin\n",
        "* Silueta\n"
      ]
    },
    {
      "cell_type": "markdown",
      "metadata": {
        "id": "EnTZI0tnbs-W"
      },
      "source": [
        "####**K-means**"
      ]
    },
    {
      "cell_type": "markdown",
      "metadata": {
        "id": "zN0UkWWpUmtc"
      },
      "source": [
        "Divide el conjunto de datos en un número predefinido de grupos k. Es el método más comúnmente utilizado, la idea del método es definir k centroides, uno por clúster, y los datos son asociados al centroide más cercano.\n"
      ]
    },
    {
      "cell_type": "markdown",
      "metadata": {
        "id": "fy1PzX0Sugj0"
      },
      "source": [
        "**Ejemplo: Titanic**"
      ]
    },
    {
      "cell_type": "markdown",
      "metadata": {
        "id": "quO00lSgunfw"
      },
      "source": [
        "**Preparar**"
      ]
    },
    {
      "cell_type": "code",
      "metadata": {
        "id": "qNqWRnzGutty",
        "colab": {
          "base_uri": "https://localhost:8080/"
        },
        "outputId": "421df812-58b2-400a-9364-98b5d728266e"
      },
      "source": [
        "data = sqlCtx.read.option(\"header\",True) \\\n",
        "      .option(\"delimiter\",\";\") \\\n",
        "     .csv(\"local/data/titanic.csv\")\n",
        "data.show(5)"
      ],
      "execution_count": 101,
      "outputs": [
        {
          "output_type": "stream",
          "name": "stdout",
          "text": [
            "+-------+------+------+----------+\n",
            "|  Clase|  Edad|  Sexo|Sobrevivio|\n",
            "+-------+------+------+----------+\n",
            "|Primera|Adulto|Hombre|        Si|\n",
            "|Primera|Adulto|Hombre|        Si|\n",
            "|Primera|Adulto|Hombre|        Si|\n",
            "|Primera|Adulto|Hombre|        Si|\n",
            "|Primera|Adulto|Hombre|        Si|\n",
            "+-------+------+------+----------+\n",
            "only showing top 5 rows\n",
            "\n"
          ]
        }
      ]
    },
    {
      "cell_type": "code",
      "metadata": {
        "id": "sDtbtp3vyO4_"
      },
      "source": [
        "def func_Clase(value):\n",
        "  if value==\"Tripulacion\":\n",
        "    return 0\n",
        "  if value==\"Primera\":\n",
        "    return 1\n",
        "  if value==\"Segunda\":\n",
        "    return 2\n",
        "  if value==\"Tercera\":\n",
        "    return 3"
      ],
      "execution_count": 102,
      "outputs": []
    },
    {
      "cell_type": "code",
      "metadata": {
        "id": "3GhUyhgE5dai"
      },
      "source": [
        "def func_Edad(value):\n",
        "  if value==\"Adulto\":\n",
        "    return 1\n",
        "  else:\n",
        "    return 0"
      ],
      "execution_count": 103,
      "outputs": []
    },
    {
      "cell_type": "code",
      "metadata": {
        "id": "jL1lTiEo5ufZ"
      },
      "source": [
        "def func_Sexo(value):\n",
        "  if value==\"Hombre\":\n",
        "    return 1\n",
        "  else:\n",
        "    return 0"
      ],
      "execution_count": 104,
      "outputs": []
    },
    {
      "cell_type": "code",
      "metadata": {
        "id": "SBFfU0IV55oF"
      },
      "source": [
        "def func_Sobrevivio(value):\n",
        "  if value==\"Si\":\n",
        "    return 1\n",
        "  else:\n",
        "    return 0"
      ],
      "execution_count": 105,
      "outputs": []
    },
    {
      "cell_type": "code",
      "metadata": {
        "id": "OIFCtzKRz4qy",
        "colab": {
          "base_uri": "https://localhost:8080/"
        },
        "outputId": "680173fa-2a05-4b5a-f88d-0b727fc2cd82"
      },
      "source": [
        "data.registerTempTable(\"Titanic\")\n",
        "sqlCtx.registerFunction(\"func_clase\",func_Clase)\n",
        "sqlCtx.registerFunction(\"func_edad\",func_Edad)\n",
        "sqlCtx.registerFunction(\"func_sexo\",func_Sexo)\n",
        "sqlCtx.registerFunction(\"func_sobrevivio\",func_Sobrevivio)"
      ],
      "execution_count": 106,
      "outputs": [
        {
          "output_type": "execute_result",
          "data": {
            "text/plain": [
              "<function __main__.func_Sobrevivio>"
            ]
          },
          "metadata": {},
          "execution_count": 106
        }
      ]
    },
    {
      "cell_type": "code",
      "metadata": {
        "id": "0K7pvt1U0U5X",
        "colab": {
          "base_uri": "https://localhost:8080/"
        },
        "outputId": "9f407228-2074-465a-d657-e7ec44d5b0f8"
      },
      "source": [
        "titanic = sqlCtx.sql(\"\"\"\n",
        "\t\tSELECT func_clase(Clase) AS ClaseInt, func_edad(Edad) AS EdadInt, \n",
        "      func_sexo(Sexo) AS SexoInt, func_sobrevivio(Sobrevivio) AS SobrevivioInt\n",
        "\t\tFROM Titanic\n",
        "\t\t\"\"\")\n",
        "titanic.distinct().show()"
      ],
      "execution_count": 107,
      "outputs": [
        {
          "output_type": "stream",
          "name": "stdout",
          "text": [
            "+--------+-------+-------+-------------+\n",
            "|ClaseInt|EdadInt|SexoInt|SobrevivioInt|\n",
            "+--------+-------+-------+-------------+\n",
            "|       0|      1|      1|            1|\n",
            "|       3|      1|      0|            1|\n",
            "|       3|      0|      0|            1|\n",
            "|       0|      1|      1|            0|\n",
            "|       1|      0|      0|            1|\n",
            "|       1|      1|      1|            0|\n",
            "|       3|      0|      1|            1|\n",
            "|       2|      1|      0|            1|\n",
            "|       3|      1|      1|            1|\n",
            "|       2|      1|      1|            1|\n",
            "|       0|      1|      0|            1|\n",
            "|       1|      1|      0|            1|\n",
            "|       1|      1|      0|            0|\n",
            "|       2|      0|      0|            1|\n",
            "|       2|      1|      1|            0|\n",
            "|       1|      0|      1|            1|\n",
            "|       2|      0|      1|            1|\n",
            "|       3|      1|      0|            0|\n",
            "|       2|      1|      0|            0|\n",
            "|       3|      0|      0|            0|\n",
            "+--------+-------+-------+-------------+\n",
            "only showing top 20 rows\n",
            "\n"
          ]
        }
      ]
    },
    {
      "cell_type": "code",
      "metadata": {
        "id": "pG3l3u0Q8sqq",
        "colab": {
          "base_uri": "https://localhost:8080/"
        },
        "outputId": "86ebcf2b-0dfa-4585-ba0c-58e3d6d9d4db"
      },
      "source": [
        "titanic.printSchema()"
      ],
      "execution_count": 108,
      "outputs": [
        {
          "output_type": "stream",
          "name": "stdout",
          "text": [
            "root\n",
            " |-- ClaseInt: string (nullable = true)\n",
            " |-- EdadInt: string (nullable = true)\n",
            " |-- SexoInt: string (nullable = true)\n",
            " |-- SobrevivioInt: string (nullable = true)\n",
            "\n"
          ]
        }
      ]
    },
    {
      "cell_type": "code",
      "metadata": {
        "id": "a8bbF9cK-D9f",
        "colab": {
          "base_uri": "https://localhost:8080/"
        },
        "outputId": "7cd0f087-1234-47bf-87a7-c8f4be319e30"
      },
      "source": [
        "titanic = titanic.withColumn(\"ClaseInt\", titanic[\"ClaseInt\"].cast(IntegerType()))\n",
        "titanic = titanic.withColumn(\"EdadInt\", titanic[\"EdadInt\"].cast(IntegerType()))\n",
        "titanic = titanic.withColumn(\"SexoInt\", titanic[\"SexoInt\"].cast(IntegerType()))\n",
        "titanic = titanic.withColumn(\"SobrevivioInt\", titanic[\"SobrevivioInt\"].cast(IntegerType()))\n",
        "data=titanic\n",
        "data.printSchema()"
      ],
      "execution_count": 109,
      "outputs": [
        {
          "output_type": "stream",
          "name": "stdout",
          "text": [
            "root\n",
            " |-- ClaseInt: integer (nullable = true)\n",
            " |-- EdadInt: integer (nullable = true)\n",
            " |-- SexoInt: integer (nullable = true)\n",
            " |-- SobrevivioInt: integer (nullable = true)\n",
            "\n"
          ]
        }
      ]
    },
    {
      "cell_type": "code",
      "metadata": {
        "id": "Dle0mPOo8YZ4",
        "colab": {
          "base_uri": "https://localhost:8080/"
        },
        "outputId": "be734c72-cb03-40f4-8fd2-e2e5f37e5290"
      },
      "source": [
        "vectorAssembler = VectorAssembler(inputCols = data.columns, outputCol = 'features', handleInvalid=\"skip\")\n",
        "vdata = vectorAssembler.transform(data)\n",
        "vdata.cache()\n",
        "vdata.show(5)"
      ],
      "execution_count": 110,
      "outputs": [
        {
          "output_type": "stream",
          "name": "stdout",
          "text": [
            "+--------+-------+-------+-------------+-----------------+\n",
            "|ClaseInt|EdadInt|SexoInt|SobrevivioInt|         features|\n",
            "+--------+-------+-------+-------------+-----------------+\n",
            "|       1|      1|      1|            1|[1.0,1.0,1.0,1.0]|\n",
            "|       1|      1|      1|            1|[1.0,1.0,1.0,1.0]|\n",
            "|       1|      1|      1|            1|[1.0,1.0,1.0,1.0]|\n",
            "|       1|      1|      1|            1|[1.0,1.0,1.0,1.0]|\n",
            "|       1|      1|      1|            1|[1.0,1.0,1.0,1.0]|\n",
            "+--------+-------+-------+-------------+-----------------+\n",
            "only showing top 5 rows\n",
            "\n"
          ]
        }
      ]
    },
    {
      "cell_type": "markdown",
      "metadata": {
        "id": "-_9n-pKvupxT"
      },
      "source": [
        "**Modelar**"
      ]
    },
    {
      "cell_type": "code",
      "metadata": {
        "id": "tJ_FIAUkuugS"
      },
      "source": [
        "from pyspark.ml.clustering import KMeans\n",
        "km = KMeans( featuresCol='features', k=3, predictionCol='cluster', distanceMeasure='euclidean')\n",
        "km_model = km.fit(vdata)"
      ],
      "execution_count": 111,
      "outputs": []
    },
    {
      "cell_type": "markdown",
      "metadata": {
        "id": "qhmkWRqyBTwg"
      },
      "source": [
        "Veamos en cuál cluster quedó cada registro"
      ]
    },
    {
      "cell_type": "code",
      "metadata": {
        "id": "ZLHOA8ep_ULv",
        "colab": {
          "base_uri": "https://localhost:8080/"
        },
        "outputId": "1c504b63-6a06-448a-f575-00da44361200"
      },
      "source": [
        "predictions = km_model.transform(vdata)\n",
        "predictions.distinct().show()"
      ],
      "execution_count": 112,
      "outputs": [
        {
          "output_type": "stream",
          "name": "stdout",
          "text": [
            "+--------+-------+-------+-------------+-----------------+-------+\n",
            "|ClaseInt|EdadInt|SexoInt|SobrevivioInt|         features|cluster|\n",
            "+--------+-------+-------+-------------+-----------------+-------+\n",
            "|       2|      1|      1|            0|[2.0,1.0,1.0,0.0]|      1|\n",
            "|       1|      0|      0|            1|[1.0,0.0,0.0,1.0]|      0|\n",
            "|       1|      0|      1|            1|[1.0,0.0,1.0,1.0]|      0|\n",
            "|       2|      1|      1|            1|[2.0,1.0,1.0,1.0]|      2|\n",
            "|       1|      1|      1|            1|[1.0,1.0,1.0,1.0]|      0|\n",
            "|       3|      0|      0|            1|[3.0,0.0,0.0,1.0]|      2|\n",
            "|       0|      1|      0|            1|[0.0,1.0,0.0,1.0]|      0|\n",
            "|       3|      1|      0|            1|[3.0,1.0,0.0,1.0]|      2|\n",
            "|       1|      1|      0|            1|[1.0,1.0,0.0,1.0]|      0|\n",
            "|       3|      1|      0|            0|[3.0,1.0,0.0,0.0]|      1|\n",
            "|       2|      0|      0|            1|[2.0,0.0,0.0,1.0]|      2|\n",
            "|       0|      1|      0|            0|    (4,[1],[1.0])|      0|\n",
            "|       2|      0|      1|            1|[2.0,0.0,1.0,1.0]|      2|\n",
            "|       3|      1|      1|            0|[3.0,1.0,1.0,0.0]|      1|\n",
            "|       3|      0|      0|            0|    (4,[0],[3.0])|      2|\n",
            "|       1|      1|      1|            0|[1.0,1.0,1.0,0.0]|      0|\n",
            "|       0|      1|      1|            1|[0.0,1.0,1.0,1.0]|      0|\n",
            "|       1|      1|      0|            0|[1.0,1.0,0.0,0.0]|      0|\n",
            "|       3|      1|      1|            1|[3.0,1.0,1.0,1.0]|      1|\n",
            "|       3|      0|      1|            1|[3.0,0.0,1.0,1.0]|      2|\n",
            "+--------+-------+-------+-------------+-----------------+-------+\n",
            "only showing top 20 rows\n",
            "\n"
          ]
        }
      ]
    },
    {
      "cell_type": "markdown",
      "metadata": {
        "id": "1nOAsUXqBiJQ"
      },
      "source": [
        "Veamos los centroides de cada cluster"
      ]
    },
    {
      "cell_type": "code",
      "metadata": {
        "id": "iM2tYnNLJIq9",
        "colab": {
          "base_uri": "https://localhost:8080/"
        },
        "outputId": "6dd879cd-e4c1-44b8-d694-02307a865bd5"
      },
      "source": [
        "centers = km_model.clusterCenters()\n",
        "print(\"Centroides: \")\n",
        "for center in centers:\n",
        "  centerR=[round(num, 0) for num in center]\n",
        "  print(centerR)\n",
        "print(\"Variables\")\n",
        "data.columns"
      ],
      "execution_count": 113,
      "outputs": [
        {
          "output_type": "stream",
          "name": "stdout",
          "text": [
            "Centroides: \n",
            "[0.0, 1.0, 1.0, 0.0]\n",
            "[3.0, 1.0, 1.0, 0.0]\n",
            "[2.0, 1.0, 0.0, 1.0]\n",
            "Variables\n"
          ]
        },
        {
          "output_type": "execute_result",
          "data": {
            "text/plain": [
              "['ClaseInt', 'EdadInt', 'SexoInt', 'SobrevivioInt']"
            ]
          },
          "metadata": {},
          "execution_count": 113
        }
      ]
    },
    {
      "cell_type": "markdown",
      "metadata": {
        "id": "_dvjBLmDurtA"
      },
      "source": [
        "**Evaluar**"
      ]
    },
    {
      "cell_type": "code",
      "metadata": {
        "id": "8KW1LEXNuvRH",
        "colab": {
          "base_uri": "https://localhost:8080/"
        },
        "outputId": "c2eff3ed-12ff-42c1-8ec7-13bba5092cfc"
      },
      "source": [
        "from pyspark.ml.evaluation import ClusteringEvaluator\n",
        "evaluator = ClusteringEvaluator(predictionCol='cluster')\n",
        "silhouette = evaluator.evaluate(predictions)\n",
        "print(\"Índice de la silueta = \" + str(silhouette))"
      ],
      "execution_count": 114,
      "outputs": [
        {
          "output_type": "stream",
          "name": "stdout",
          "text": [
            "Índice de la silueta = 0.686572012927512\n"
          ]
        }
      ]
    },
    {
      "cell_type": "markdown",
      "metadata": {
        "id": "B3VdL2fVKpv6"
      },
      "source": [
        "Aumentemos el número de clústers"
      ]
    },
    {
      "cell_type": "code",
      "metadata": {
        "id": "jJbBl8okKwlE",
        "colab": {
          "base_uri": "https://localhost:8080/"
        },
        "outputId": "ec804268-4076-4f93-91c7-a413b838a2b9"
      },
      "source": [
        "#modelar\n",
        "km = KMeans( featuresCol='features', k=18, predictionCol='cluster', distanceMeasure='euclidean')\n",
        "km_model = km.fit(vdata)\n",
        "\n",
        "#Asignación de clusters\n",
        "predictions = km_model.transform(vdata)\n",
        "\n",
        "#Evaluar\n",
        "evaluator = ClusteringEvaluator(predictionCol='cluster')\n",
        "silhouette = evaluator.evaluate(predictions)\n",
        "print(\"Índice de la silueta = \" + str(silhouette))\n",
        "\n",
        "#Centroides\n",
        "centers = km_model.clusterCenters()\n",
        "print(\"Centroides: \")\n",
        "for center in centers:\n",
        "  centerR=[round(num, 0) for num in center]\n",
        "  print(centerR)\n",
        "print(\"Variables\")\n",
        "data.columns"
      ],
      "execution_count": 115,
      "outputs": [
        {
          "output_type": "stream",
          "name": "stdout",
          "text": [
            "Índice de la silueta = 0.9715808975350421\n",
            "Centroides: \n",
            "[0.0, 1.0, 1.0, 0.0]\n",
            "[3.0, 1.0, 1.0, 0.0]\n",
            "[0.0, 1.0, 1.0, 1.0]\n",
            "[3.0, 1.0, 0.0, 0.0]\n",
            "[3.0, 0.0, 0.0, 1.0]\n",
            "[2.0, 1.0, 1.0, 0.0]\n",
            "[3.0, 1.0, 1.0, 1.0]\n",
            "[0.0, 1.0, 0.0, 1.0]\n",
            "[2.0, 0.0, 1.0, 1.0]\n",
            "[3.0, 0.0, 1.0, 0.0]\n",
            "[1.0, 1.0, 1.0, 1.0]\n",
            "[1.0, 1.0, 0.0, 1.0]\n",
            "[3.0, 1.0, 0.0, 1.0]\n",
            "[3.0, 0.0, 1.0, 1.0]\n",
            "[2.0, 1.0, 0.0, 1.0]\n",
            "[3.0, 0.0, 0.0, 0.0]\n",
            "[1.0, 1.0, 1.0, 0.0]\n",
            "[2.0, 1.0, 0.0, 0.0]\n",
            "Variables\n"
          ]
        },
        {
          "output_type": "execute_result",
          "data": {
            "text/plain": [
              "['ClaseInt', 'EdadInt', 'SexoInt', 'SobrevivioInt']"
            ]
          },
          "metadata": {},
          "execution_count": 115
        }
      ]
    },
    {
      "cell_type": "markdown",
      "metadata": {
        "id": "jOKJVcNEXktB"
      },
      "source": [
        "Cómo podemos saber cuántos clúter deberíamos crear?"
      ]
    },
    {
      "cell_type": "code",
      "metadata": {
        "id": "oR6fXpSIZ654",
        "colab": {
          "base_uri": "https://localhost:8080/",
          "height": 295
        },
        "outputId": "e3bb7798-ed3d-485c-a824-714ae82a304b"
      },
      "source": [
        "from pyspark.ml.clustering import KMeans\n",
        "kini=2; kfin=20\n",
        "ks = range(kini, kfin)\n",
        "costo=[]\n",
        "for k in range(kini, kfin):\n",
        "    kmeans= KMeans( featuresCol='features', k=k, predictionCol='cluster', distanceMeasure='euclidean')\n",
        "    model = kmeans.fit(vdata)\n",
        "    costo.append(model.summary.trainingCost)\n",
        "plt.plot(ks, costo, '-o')\n",
        "plt.title('Método del codo')\n",
        "plt.xlabel('Número de clusters')\n",
        "plt.ylabel('costo')\n",
        "plt.xticks(ks)\n",
        "plt.show()"
      ],
      "execution_count": 116,
      "outputs": [
        {
          "output_type": "display_data",
          "data": {
            "image/png": "[encoded data removed]",
            "text/plain": [
              "<Figure size 432x288 with 1 Axes>"
            ]
          },
          "metadata": {
            "needs_background": "light"
          }
        }
      ]
    },
    {
      "cell_type": "markdown",
      "metadata": {
        "id": "1E_j_gOITebU"
      },
      "source": [
        "#**Ejemplos**"
      ]
    },
    {
      "cell_type": "markdown",
      "metadata": {
        "id": "2HeDPSuNSbHA"
      },
      "source": [
        "##**Filtrado Colaborativo**"
      ]
    },
    {
      "cell_type": "markdown",
      "metadata": {
        "id": "XZtSMI5Fcywm"
      },
      "source": [
        "Recomendación de películas a partir de la calificación ingresada por los usuarios"
      ]
    },
    {
      "cell_type": "markdown",
      "metadata": {
        "id": "sHfilM4pm7kt"
      },
      "source": [
        "**Preparar**"
      ]
    },
    {
      "cell_type": "code",
      "metadata": {
        "id": "11qJzcc1d3vy",
        "colab": {
          "base_uri": "https://localhost:8080/"
        },
        "outputId": "9d3cfd38-a7e8-4121-fae7-2c2e9fa5d6ec"
      },
      "source": [
        "from pyspark.ml.evaluation import RegressionEvaluator\n",
        "from pyspark.ml.recommendation import ALS\n",
        "lines = sc.textFile(\"local/data/movielens.txt\")\n",
        "parts = lines.map(lambda row: row.split(\"::\"))\n",
        "ratingsRDD = parts.map(lambda p: (int (p[0]), int (p[1]), float (p[2])))\n",
        "ratingsRDD.take(10)"
      ],
      "execution_count": 117,
      "outputs": [
        {
          "output_type": "execute_result",
          "data": {
            "text/plain": [
              "[(0, 2, 3.0),\n",
              " (0, 3, 1.0),\n",
              " (0, 5, 2.0),\n",
              " (0, 9, 4.0),\n",
              " (0, 11, 1.0),\n",
              " (0, 12, 2.0),\n",
              " (0, 15, 1.0),\n",
              " (0, 17, 1.0),\n",
              " (0, 19, 1.0),\n",
              " (0, 21, 1.0)]"
            ]
          },
          "metadata": {},
          "execution_count": 117
        }
      ]
    },
    {
      "cell_type": "code",
      "metadata": {
        "id": "irNwwWEKfnVt",
        "colab": {
          "base_uri": "https://localhost:8080/"
        },
        "outputId": "37503dd4-3f4f-494b-a2e3-8e1d8fb9f9dc"
      },
      "source": [
        "ratings = sqlCtx.createDataFrame(ratingsRDD, [\"usuario\",\"pelicula\",\"calificacion\"])\n",
        "(training, test) = ratings.randomSplit([0.7, 0.3])\n",
        "training.show(10)"
      ],
      "execution_count": 118,
      "outputs": [
        {
          "output_type": "stream",
          "name": "stdout",
          "text": [
            "+-------+--------+------------+\n",
            "|usuario|pelicula|calificacion|\n",
            "+-------+--------+------------+\n",
            "|      0|       3|         1.0|\n",
            "|      0|       5|         2.0|\n",
            "|      0|      11|         1.0|\n",
            "|      0|      15|         1.0|\n",
            "|      0|      17|         1.0|\n",
            "|      0|      19|         1.0|\n",
            "|      0|      23|         1.0|\n",
            "|      0|      26|         3.0|\n",
            "|      0|      28|         1.0|\n",
            "|      0|      30|         1.0|\n",
            "+-------+--------+------------+\n",
            "only showing top 10 rows\n",
            "\n"
          ]
        }
      ]
    },
    {
      "cell_type": "markdown",
      "metadata": {
        "id": "qz_yf60Fm99a"
      },
      "source": [
        "**Modelar**"
      ]
    },
    {
      "cell_type": "code",
      "metadata": {
        "id": "IrblymPTeLpI"
      },
      "source": [
        "als = ALS(maxIter=5, regParam=0.01, userCol=\"usuario\", itemCol=\"pelicula\", ratingCol=\"calificacion\",\n",
        "          coldStartStrategy=\"drop\")\n",
        "model = als.fit(training)"
      ],
      "execution_count": 119,
      "outputs": []
    },
    {
      "cell_type": "markdown",
      "metadata": {
        "id": "6WDmGrW9nJbr"
      },
      "source": [
        "**Evaluar**"
      ]
    },
    {
      "cell_type": "code",
      "metadata": {
        "id": "RI99BwFmf28j",
        "colab": {
          "base_uri": "https://localhost:8080/"
        },
        "outputId": "40467539-22fb-4790-e2b7-cdd5afd06074"
      },
      "source": [
        "predictions = model.transform(test)\n",
        "predictions.show(5)\n",
        "evaluator = RegressionEvaluator(metricName=\"rmse\", labelCol=\"calificacion\",\n",
        "                                predictionCol=\"prediction\")\n",
        "rmse = evaluator.evaluate(predictions)\n",
        "print(\"Raiz del error cuadrático medio = \" + str(rmse))"
      ],
      "execution_count": 120,
      "outputs": [
        {
          "output_type": "stream",
          "name": "stdout",
          "text": [
            "+-------+--------+------------+----------+\n",
            "|usuario|pelicula|calificacion|prediction|\n",
            "+-------+--------+------------+----------+\n",
            "|     27|      31|         1.0| 0.4020748|\n",
            "|     13|      31|         1.0| 2.2339914|\n",
            "|     19|      31|         1.0| 1.0759561|\n",
            "|      7|      31|         3.0|  1.265369|\n",
            "|     25|      31|         2.0|-1.1035161|\n",
            "+-------+--------+------------+----------+\n",
            "only showing top 5 rows\n",
            "\n",
            "Raiz del error cuadrático medio = 2.112212069864759\n"
          ]
        }
      ]
    },
    {
      "cell_type": "markdown",
      "metadata": {
        "id": "4vKr69NFkpWC"
      },
      "source": [
        "**Películas recomendadas para cada usuario**"
      ]
    },
    {
      "cell_type": "code",
      "metadata": {
        "id": "QXJQZ8yoeLYk",
        "colab": {
          "base_uri": "https://localhost:8080/"
        },
        "outputId": "49f987f1-456e-42e2-a8e1-5628ecd905d9"
      },
      "source": [
        "userRecs = model.recommendForAllUsers(2)\n",
        "userRecs.take(5)"
      ],
      "execution_count": 121,
      "outputs": [
        {
          "output_type": "execute_result",
          "data": {
            "text/plain": [
              "[Row(usuario=28, recommendations=[Row(pelicula=53, rating=6.6593780517578125), Row(pelicula=2, rating=6.227222442626953)]),\n",
              " Row(usuario=26, recommendations=[Row(pelicula=90, rating=7.6507768630981445), Row(pelicula=32, rating=6.990818977355957)]),\n",
              " Row(usuario=27, recommendations=[Row(pelicula=81, rating=3.9083523750305176), Row(pelicula=18, rating=3.9029033184051514)]),\n",
              " Row(usuario=12, recommendations=[Row(pelicula=64, rating=4.975988388061523), Row(pelicula=27, rating=4.865049362182617)]),\n",
              " Row(usuario=22, recommendations=[Row(pelicula=30, rating=4.907271862030029), Row(pelicula=88, rating=4.89466667175293)])]"
            ]
          },
          "metadata": {},
          "execution_count": 121
        }
      ]
    },
    {
      "cell_type": "markdown",
      "metadata": {
        "id": "i6xscFU8kvvK"
      },
      "source": [
        "**Usuarios recomendados para cada película**"
      ]
    },
    {
      "cell_type": "code",
      "metadata": {
        "id": "9lhmTz3Hizc0",
        "colab": {
          "base_uri": "https://localhost:8080/"
        },
        "outputId": "9f5986c6-e164-4559-9afd-1dff0d1ac28a"
      },
      "source": [
        "movieRecs = model.recommendForAllItems(2)\n",
        "movieRecs.take(5)"
      ],
      "execution_count": 122,
      "outputs": [
        {
          "output_type": "execute_result",
          "data": {
            "text/plain": [
              "[Row(pelicula=31, recommendations=[Row(usuario=12, rating=3.8852455615997314), Row(usuario=14, rating=3.1003243923187256)]),\n",
              " Row(pelicula=85, recommendations=[Row(usuario=16, rating=4.9299397468566895), Row(usuario=8, rating=4.870337963104248)]),\n",
              " Row(pelicula=65, recommendations=[Row(usuario=23, rating=4.963191986083984), Row(usuario=9, rating=3.6289989948272705)]),\n",
              " Row(pelicula=53, recommendations=[Row(usuario=25, rating=7.3073272705078125), Row(usuario=28, rating=6.6593780517578125)]),\n",
              " Row(pelicula=78, recommendations=[Row(usuario=6, rating=1.5984423160552979), Row(usuario=25, rating=1.4917080402374268)])]"
            ]
          },
          "metadata": {},
          "execution_count": 122
        }
      ]
    },
    {
      "cell_type": "markdown",
      "metadata": {
        "id": "5oIcsGarpAaR"
      },
      "source": [
        "**Películas recomendadas para una lista de usuarios específica**"
      ]
    },
    {
      "cell_type": "code",
      "metadata": {
        "id": "847dvGJGluNv",
        "colab": {
          "base_uri": "https://localhost:8080/"
        },
        "outputId": "35f67f41-ba11-4a55-9a25-60094ac9bcd0"
      },
      "source": [
        "users = ratings.select(als.getUserCol()).distinct().limit(3)\n",
        "userSubsetRecs = model.recommendForUserSubset(users, 5)\n",
        "userSubsetRecs.collect()"
      ],
      "execution_count": 123,
      "outputs": [
        {
          "output_type": "execute_result",
          "data": {
            "text/plain": [
              "[Row(usuario=26, recommendations=[Row(pelicula=90, rating=7.6507768630981445), Row(pelicula=32, rating=6.990818977355957), Row(pelicula=30, rating=5.848441123962402), Row(pelicula=80, rating=5.693692207336426), Row(pelicula=46, rating=5.3015336990356445)]),\n",
              " Row(usuario=19, recommendations=[Row(pelicula=7, rating=4.827310562133789), Row(pelicula=94, rating=4.148709297180176), Row(pelicula=32, rating=4.095015525817871), Row(pelicula=30, rating=3.812391519546509), Row(pelicula=87, rating=3.799504280090332)]),\n",
              " Row(usuario=29, recommendations=[Row(pelicula=46, rating=4.671278953552246), Row(pelicula=7, rating=4.180688858032227), Row(pelicula=94, rating=4.127351760864258), Row(pelicula=90, rating=4.11335563659668), Row(pelicula=32, rating=3.9731011390686035)])]"
            ]
          },
          "metadata": {},
          "execution_count": 123
        }
      ]
    },
    {
      "cell_type": "markdown",
      "metadata": {
        "id": "HmZXqZ71peEx"
      },
      "source": [
        "**Usuarios recomendados para una lista de películas específica**"
      ]
    },
    {
      "cell_type": "code",
      "metadata": {
        "id": "SL4NDphai0Fs",
        "colab": {
          "base_uri": "https://localhost:8080/"
        },
        "outputId": "5bd1eb45-85f9-45cd-ecc2-805f36fa1500"
      },
      "source": [
        "movies = ratings.select(als.getItemCol()).distinct().limit(3)\n",
        "movieSubSetRecs = model.recommendForItemSubset(movies, 5)\n",
        "movieSubSetRecs.collect()"
      ],
      "execution_count": 124,
      "outputs": [
        {
          "output_type": "execute_result",
          "data": {
            "text/plain": [
              "[Row(pelicula=65, recommendations=[Row(usuario=23, rating=4.963191986083984), Row(usuario=9, rating=3.6289989948272705), Row(usuario=7, rating=2.8701412677764893), Row(usuario=10, rating=2.52107572555542), Row(usuario=29, rating=2.3935017585754395)]),\n",
              " Row(pelicula=26, recommendations=[Row(usuario=21, rating=3.163580894470215), Row(usuario=15, rating=3.12087345123291), Row(usuario=0, rating=2.7578907012939453), Row(usuario=12, rating=2.7522175312042236), Row(usuario=4, rating=2.7493748664855957)]),\n",
              " Row(pelicula=29, recommendations=[Row(usuario=14, rating=5.302243709564209), Row(usuario=8, rating=4.872153282165527), Row(usuario=16, rating=4.115048408508301), Row(usuario=7, rating=3.9053850173950195), Row(usuario=22, rating=2.9650774002075195)])]"
            ]
          },
          "metadata": {},
          "execution_count": 124
        }
      ]
    },
    {
      "cell_type": "markdown",
      "metadata": {
        "id": "RXmwr-0BTa3V"
      },
      "source": [
        "#**Ejercicios**"
      ]
    },
    {
      "cell_type": "markdown",
      "metadata": {
        "id": "tArlRjDXs5Vz"
      },
      "source": [
        "**Población atendida en hospital de Envigado**"
      ]
    },
    {
      "cell_type": "markdown",
      "metadata": {
        "id": "ZjsvuwR0M60m"
      },
      "source": [
        "El archivo poblacion_atendida.csv contiene información sobre los pacientes atendidos en un Hospital en Envigado. Para cada paciente se tiene la siguiente información:\n",
        "\n",
        "* SEXO\t\n",
        "* ESTADO_CIVIL\t\n",
        "* ZONA_RES\t\n",
        "* MUN_RES\t\n",
        "* PAIS_NCTO\t\n",
        "* EDAD\t\n",
        "* ESCOLARIDAD_PACIENTE\n",
        "\n",
        "Fuente de los datos:\n",
        "https://www.datos.gov.co/Salud-y-Protecci-n-Social/Poblaci-n-Atendida-a-o-2020/4ike-xz34"
      ]
    },
    {
      "cell_type": "markdown",
      "metadata": {
        "id": "NeGenHNMOlDf"
      },
      "source": [
        "A) Aplique Kmeans para crear clústers que permitan describir  los tipos de pacientes "
      ]
    },
    {
      "cell_type": "markdown",
      "metadata": {
        "id": "IgVo1qxpO_Kj"
      },
      "source": [
        "B) Usando el clúster asignado a cada paciente como variable objetivo, cree un modelo predictivo que permita predecir el grupo al que pertenece cada paciente"
      ]
    },
    {
      "cell_type": "markdown",
      "metadata": {
        "id": "Kv2cX1XTPYmz"
      },
      "source": [
        "C) Cree un archivo con la información de tres nuevos pacientes y utilice el modelo de predicción creado anteriormente para predecir el clúster al que pertenecerían los nuevos pacientes"
      ]
    }
  ]
}